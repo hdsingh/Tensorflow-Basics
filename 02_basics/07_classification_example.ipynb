{
 "cells": [
  {
   "cell_type": "markdown",
   "metadata": {},
   "source": [
    "# Classification"
   ]
  },
  {
   "cell_type": "code",
   "execution_count": 1,
   "metadata": {
    "ExecuteTime": {
     "end_time": "2018-10-25T12:17:01.106027Z",
     "start_time": "2018-10-25T12:17:00.709169Z"
    }
   },
   "outputs": [],
   "source": [
    "import pandas as pd"
   ]
  },
  {
   "cell_type": "code",
   "execution_count": 2,
   "metadata": {
    "ExecuteTime": {
     "end_time": "2018-10-25T12:17:01.118851Z",
     "start_time": "2018-10-25T12:17:01.107438Z"
    }
   },
   "outputs": [],
   "source": [
    "diabeties = pd.read_csv('/home/hdsingh/Desktop/AI/Tensorflow-Bootcamp-master/02-TensorFlow-Basics/pima-indians-diabetes.csv')"
   ]
  },
  {
   "cell_type": "code",
   "execution_count": 3,
   "metadata": {
    "ExecuteTime": {
     "end_time": "2018-10-25T12:17:01.139440Z",
     "start_time": "2018-10-25T12:17:01.120590Z"
    }
   },
   "outputs": [
    {
     "data": {
      "text/html": [
       "<div>\n",
       "<style scoped>\n",
       "    .dataframe tbody tr th:only-of-type {\n",
       "        vertical-align: middle;\n",
       "    }\n",
       "\n",
       "    .dataframe tbody tr th {\n",
       "        vertical-align: top;\n",
       "    }\n",
       "\n",
       "    .dataframe thead th {\n",
       "        text-align: right;\n",
       "    }\n",
       "</style>\n",
       "<table border=\"1\" class=\"dataframe\">\n",
       "  <thead>\n",
       "    <tr style=\"text-align: right;\">\n",
       "      <th></th>\n",
       "      <th>Number_pregnant</th>\n",
       "      <th>Glucose_concentration</th>\n",
       "      <th>Blood_pressure</th>\n",
       "      <th>Triceps</th>\n",
       "      <th>Insulin</th>\n",
       "      <th>BMI</th>\n",
       "      <th>Pedigree</th>\n",
       "      <th>Age</th>\n",
       "      <th>Class</th>\n",
       "      <th>Group</th>\n",
       "    </tr>\n",
       "  </thead>\n",
       "  <tbody>\n",
       "    <tr>\n",
       "      <th>0</th>\n",
       "      <td>6</td>\n",
       "      <td>0.743719</td>\n",
       "      <td>0.590164</td>\n",
       "      <td>0.353535</td>\n",
       "      <td>0.000000</td>\n",
       "      <td>0.500745</td>\n",
       "      <td>0.234415</td>\n",
       "      <td>50</td>\n",
       "      <td>1</td>\n",
       "      <td>B</td>\n",
       "    </tr>\n",
       "    <tr>\n",
       "      <th>1</th>\n",
       "      <td>1</td>\n",
       "      <td>0.427136</td>\n",
       "      <td>0.540984</td>\n",
       "      <td>0.292929</td>\n",
       "      <td>0.000000</td>\n",
       "      <td>0.396423</td>\n",
       "      <td>0.116567</td>\n",
       "      <td>31</td>\n",
       "      <td>0</td>\n",
       "      <td>C</td>\n",
       "    </tr>\n",
       "    <tr>\n",
       "      <th>2</th>\n",
       "      <td>8</td>\n",
       "      <td>0.919598</td>\n",
       "      <td>0.524590</td>\n",
       "      <td>0.000000</td>\n",
       "      <td>0.000000</td>\n",
       "      <td>0.347243</td>\n",
       "      <td>0.253629</td>\n",
       "      <td>32</td>\n",
       "      <td>1</td>\n",
       "      <td>B</td>\n",
       "    </tr>\n",
       "    <tr>\n",
       "      <th>3</th>\n",
       "      <td>1</td>\n",
       "      <td>0.447236</td>\n",
       "      <td>0.540984</td>\n",
       "      <td>0.232323</td>\n",
       "      <td>0.111111</td>\n",
       "      <td>0.418778</td>\n",
       "      <td>0.038002</td>\n",
       "      <td>21</td>\n",
       "      <td>0</td>\n",
       "      <td>B</td>\n",
       "    </tr>\n",
       "    <tr>\n",
       "      <th>4</th>\n",
       "      <td>0</td>\n",
       "      <td>0.688442</td>\n",
       "      <td>0.327869</td>\n",
       "      <td>0.353535</td>\n",
       "      <td>0.198582</td>\n",
       "      <td>0.642325</td>\n",
       "      <td>0.943638</td>\n",
       "      <td>33</td>\n",
       "      <td>1</td>\n",
       "      <td>C</td>\n",
       "    </tr>\n",
       "  </tbody>\n",
       "</table>\n",
       "</div>"
      ],
      "text/plain": [
       "   Number_pregnant  Glucose_concentration  Blood_pressure   Triceps   Insulin  \\\n",
       "0                6               0.743719        0.590164  0.353535  0.000000   \n",
       "1                1               0.427136        0.540984  0.292929  0.000000   \n",
       "2                8               0.919598        0.524590  0.000000  0.000000   \n",
       "3                1               0.447236        0.540984  0.232323  0.111111   \n",
       "4                0               0.688442        0.327869  0.353535  0.198582   \n",
       "\n",
       "        BMI  Pedigree  Age  Class Group  \n",
       "0  0.500745  0.234415   50      1     B  \n",
       "1  0.396423  0.116567   31      0     C  \n",
       "2  0.347243  0.253629   32      1     B  \n",
       "3  0.418778  0.038002   21      0     B  \n",
       "4  0.642325  0.943638   33      1     C  "
      ]
     },
     "execution_count": 3,
     "metadata": {},
     "output_type": "execute_result"
    }
   ],
   "source": [
    "diabeties.head()"
   ]
  },
  {
   "cell_type": "code",
   "execution_count": 4,
   "metadata": {
    "ExecuteTime": {
     "end_time": "2018-10-25T12:17:01.144607Z",
     "start_time": "2018-10-25T12:17:01.140978Z"
    }
   },
   "outputs": [
    {
     "data": {
      "text/plain": [
       "Index(['Number_pregnant', 'Glucose_concentration', 'Blood_pressure', 'Triceps',\n",
       "       'Insulin', 'BMI', 'Pedigree', 'Age', 'Class', 'Group'],\n",
       "      dtype='object')"
      ]
     },
     "execution_count": 4,
     "metadata": {},
     "output_type": "execute_result"
    }
   ],
   "source": [
    "diabeties.columns"
   ]
  },
  {
   "cell_type": "code",
   "execution_count": 5,
   "metadata": {
    "ExecuteTime": {
     "end_time": "2018-10-25T12:17:01.152522Z",
     "start_time": "2018-10-25T12:17:01.146388Z"
    }
   },
   "outputs": [],
   "source": [
    "cols_to_norm = ['Number_pregnant', 'Glucose_concentration', 'Blood_pressure', 'Triceps',\n",
    "       'Insulin', 'BMI', 'Pedigree']"
   ]
  },
  {
   "cell_type": "code",
   "execution_count": 6,
   "metadata": {
    "ExecuteTime": {
     "end_time": "2018-10-25T12:17:01.169029Z",
     "start_time": "2018-10-25T12:17:01.153978Z"
    }
   },
   "outputs": [],
   "source": [
    "diabeties[cols_to_norm] = diabeties[cols_to_norm].apply(lambda x: (x- x.min())/(x.max() - x.min() ))"
   ]
  },
  {
   "cell_type": "code",
   "execution_count": 7,
   "metadata": {
    "ExecuteTime": {
     "end_time": "2018-10-25T12:17:02.536654Z",
     "start_time": "2018-10-25T12:17:01.171009Z"
    }
   },
   "outputs": [
    {
     "name": "stderr",
     "output_type": "stream",
     "text": [
      "/home/hdsingh/.local/lib/python3.5/site-packages/h5py/__init__.py:36: FutureWarning: Conversion of the second argument of issubdtype from `float` to `np.floating` is deprecated. In future, it will be treated as `np.float64 == np.dtype(float).type`.\n",
      "  from ._conv import register_converters as _register_converters\n"
     ]
    }
   ],
   "source": [
    "import tensorflow as tf"
   ]
  },
  {
   "cell_type": "code",
   "execution_count": 8,
   "metadata": {
    "ExecuteTime": {
     "end_time": "2018-10-25T12:17:02.542073Z",
     "start_time": "2018-10-25T12:17:02.537951Z"
    }
   },
   "outputs": [
    {
     "data": {
      "text/plain": [
       "Index(['Number_pregnant', 'Glucose_concentration', 'Blood_pressure', 'Triceps',\n",
       "       'Insulin', 'BMI', 'Pedigree', 'Age', 'Class', 'Group'],\n",
       "      dtype='object')"
      ]
     },
     "execution_count": 8,
     "metadata": {},
     "output_type": "execute_result"
    }
   ],
   "source": [
    "diabeties.columns"
   ]
  },
  {
   "cell_type": "code",
   "execution_count": 9,
   "metadata": {
    "ExecuteTime": {
     "end_time": "2018-10-25T12:17:02.549993Z",
     "start_time": "2018-10-25T12:17:02.544447Z"
    }
   },
   "outputs": [],
   "source": [
    "num_preg = tf.feature_column.numeric_column('Number_pregnant')\n",
    "plasma_gluc = tf.feature_column.numeric_column('Glucose_concentration')\n",
    "dias_press = tf.feature_column.numeric_column('Blood_pressure')\n",
    "tricep = tf.feature_column.numeric_column('Triceps')\n",
    "insulin = tf.feature_column.numeric_column('Insulin')\n",
    "bmi = tf.feature_column.numeric_column('BMI')\n",
    "diabetes_pedigree = tf.feature_column.numeric_column('Pedigree')\n",
    "age = tf.feature_column.numeric_column('Age') "
   ]
  },
  {
   "cell_type": "markdown",
   "metadata": {
    "ExecuteTime": {
     "end_time": "2018-10-25T02:07:58.697889Z",
     "start_time": "2018-10-25T02:07:58.694703Z"
    }
   },
   "source": [
    "### Categorical Data"
   ]
  },
  {
   "cell_type": "code",
   "execution_count": 10,
   "metadata": {
    "ExecuteTime": {
     "end_time": "2018-10-25T12:17:02.558424Z",
     "start_time": "2018-10-25T12:17:02.553557Z"
    }
   },
   "outputs": [],
   "source": [
    "assigned_group = tf.feature_column.categorical_column_with_vocabulary_list('Group',['A','B','C','D'])\n",
    "\n",
    " #  assigned_group = tf.feature_column.categorical_column_with_hash_bucket('Group',10)"
   ]
  },
  {
   "cell_type": "code",
   "execution_count": 11,
   "metadata": {
    "ExecuteTime": {
     "end_time": "2018-10-25T12:17:02.701324Z",
     "start_time": "2018-10-25T12:17:02.560855Z"
    }
   },
   "outputs": [],
   "source": [
    "import matplotlib.pyplot as plt\n",
    "%matplotlib inline"
   ]
  },
  {
   "cell_type": "code",
   "execution_count": 12,
   "metadata": {
    "ExecuteTime": {
     "end_time": "2018-10-25T12:17:02.912903Z",
     "start_time": "2018-10-25T12:17:02.702926Z"
    }
   },
   "outputs": [
    {
     "data": {
      "text/plain": [
       "<matplotlib.axes._subplots.AxesSubplot at 0x7fd518c7ebe0>"
      ]
     },
     "execution_count": 12,
     "metadata": {},
     "output_type": "execute_result"
    },
    {
     "data": {
      "image/png": "[encoded data removed]",
      "text/plain": [
       "<matplotlib.figure.Figure at 0x7fd518c7e5c0>"
      ]
     },
     "metadata": {},
     "output_type": "display_data"
    }
   ],
   "source": [
    "diabeties['Age'].hist(bins = 20)"
   ]
  },
  {
   "cell_type": "code",
   "execution_count": 13,
   "metadata": {
    "ExecuteTime": {
     "end_time": "2018-10-25T12:17:02.919236Z",
     "start_time": "2018-10-25T12:17:02.915682Z"
    }
   },
   "outputs": [],
   "source": [
    "age_buckets = tf.feature_column.bucketized_column(age, boundaries=[20,30,40,50,60,70,80])"
   ]
  },
  {
   "cell_type": "code",
   "execution_count": 14,
   "metadata": {
    "ExecuteTime": {
     "end_time": "2018-10-25T12:17:02.928417Z",
     "start_time": "2018-10-25T12:17:02.921812Z"
    }
   },
   "outputs": [],
   "source": [
    "feat_cols = [num_preg ,plasma_gluc,dias_press ,tricep ,insulin,bmi,diabetes_pedigree ,assigned_group, age_buckets]"
   ]
  },
  {
   "cell_type": "markdown",
   "metadata": {},
   "source": [
    "### Train test split"
   ]
  },
  {
   "cell_type": "code",
   "execution_count": 15,
   "metadata": {
    "ExecuteTime": {
     "end_time": "2018-10-25T12:17:02.952500Z",
     "start_time": "2018-10-25T12:17:02.931321Z"
    }
   },
   "outputs": [
    {
     "data": {
      "text/html": [
       "<div>\n",
       "<style scoped>\n",
       "    .dataframe tbody tr th:only-of-type {\n",
       "        vertical-align: middle;\n",
       "    }\n",
       "\n",
       "    .dataframe tbody tr th {\n",
       "        vertical-align: top;\n",
       "    }\n",
       "\n",
       "    .dataframe thead th {\n",
       "        text-align: right;\n",
       "    }\n",
       "</style>\n",
       "<table border=\"1\" class=\"dataframe\">\n",
       "  <thead>\n",
       "    <tr style=\"text-align: right;\">\n",
       "      <th></th>\n",
       "      <th>Number_pregnant</th>\n",
       "      <th>Glucose_concentration</th>\n",
       "      <th>Blood_pressure</th>\n",
       "      <th>Triceps</th>\n",
       "      <th>Insulin</th>\n",
       "      <th>BMI</th>\n",
       "      <th>Pedigree</th>\n",
       "      <th>Age</th>\n",
       "      <th>Group</th>\n",
       "    </tr>\n",
       "  </thead>\n",
       "  <tbody>\n",
       "    <tr>\n",
       "      <th>0</th>\n",
       "      <td>0.352941</td>\n",
       "      <td>0.743719</td>\n",
       "      <td>0.590164</td>\n",
       "      <td>0.353535</td>\n",
       "      <td>0.000000</td>\n",
       "      <td>0.500745</td>\n",
       "      <td>0.234415</td>\n",
       "      <td>50</td>\n",
       "      <td>B</td>\n",
       "    </tr>\n",
       "    <tr>\n",
       "      <th>1</th>\n",
       "      <td>0.058824</td>\n",
       "      <td>0.427136</td>\n",
       "      <td>0.540984</td>\n",
       "      <td>0.292929</td>\n",
       "      <td>0.000000</td>\n",
       "      <td>0.396423</td>\n",
       "      <td>0.116567</td>\n",
       "      <td>31</td>\n",
       "      <td>C</td>\n",
       "    </tr>\n",
       "    <tr>\n",
       "      <th>2</th>\n",
       "      <td>0.470588</td>\n",
       "      <td>0.919598</td>\n",
       "      <td>0.524590</td>\n",
       "      <td>0.000000</td>\n",
       "      <td>0.000000</td>\n",
       "      <td>0.347243</td>\n",
       "      <td>0.253629</td>\n",
       "      <td>32</td>\n",
       "      <td>B</td>\n",
       "    </tr>\n",
       "    <tr>\n",
       "      <th>3</th>\n",
       "      <td>0.058824</td>\n",
       "      <td>0.447236</td>\n",
       "      <td>0.540984</td>\n",
       "      <td>0.232323</td>\n",
       "      <td>0.111111</td>\n",
       "      <td>0.418778</td>\n",
       "      <td>0.038002</td>\n",
       "      <td>21</td>\n",
       "      <td>B</td>\n",
       "    </tr>\n",
       "    <tr>\n",
       "      <th>4</th>\n",
       "      <td>0.000000</td>\n",
       "      <td>0.688442</td>\n",
       "      <td>0.327869</td>\n",
       "      <td>0.353535</td>\n",
       "      <td>0.198582</td>\n",
       "      <td>0.642325</td>\n",
       "      <td>0.943638</td>\n",
       "      <td>33</td>\n",
       "      <td>C</td>\n",
       "    </tr>\n",
       "  </tbody>\n",
       "</table>\n",
       "</div>"
      ],
      "text/plain": [
       "   Number_pregnant  Glucose_concentration  Blood_pressure   Triceps   Insulin  \\\n",
       "0         0.352941               0.743719        0.590164  0.353535  0.000000   \n",
       "1         0.058824               0.427136        0.540984  0.292929  0.000000   \n",
       "2         0.470588               0.919598        0.524590  0.000000  0.000000   \n",
       "3         0.058824               0.447236        0.540984  0.232323  0.111111   \n",
       "4         0.000000               0.688442        0.327869  0.353535  0.198582   \n",
       "\n",
       "        BMI  Pedigree  Age Group  \n",
       "0  0.500745  0.234415   50     B  \n",
       "1  0.396423  0.116567   31     C  \n",
       "2  0.347243  0.253629   32     B  \n",
       "3  0.418778  0.038002   21     B  \n",
       "4  0.642325  0.943638   33     C  "
      ]
     },
     "execution_count": 15,
     "metadata": {},
     "output_type": "execute_result"
    }
   ],
   "source": [
    "x_data = diabeties.drop('Class',axis = 1)\n",
    "x_data.head()"
   ]
  },
  {
   "cell_type": "code",
   "execution_count": 16,
   "metadata": {
    "ExecuteTime": {
     "end_time": "2018-10-25T12:17:02.958330Z",
     "start_time": "2018-10-25T12:17:02.955069Z"
    }
   },
   "outputs": [],
   "source": [
    "labels = diabeties['Class']"
   ]
  },
  {
   "cell_type": "code",
   "execution_count": 17,
   "metadata": {
    "ExecuteTime": {
     "end_time": "2018-10-25T12:17:03.218571Z",
     "start_time": "2018-10-25T12:17:02.961572Z"
    }
   },
   "outputs": [],
   "source": [
    "from sklearn.model_selection import train_test_split"
   ]
  },
  {
   "cell_type": "code",
   "execution_count": 18,
   "metadata": {
    "ExecuteTime": {
     "end_time": "2018-10-25T12:17:03.225472Z",
     "start_time": "2018-10-25T12:17:03.220240Z"
    }
   },
   "outputs": [],
   "source": [
    "X_train, X_test, y_train, y_test = train_test_split(x_data,labels,test_size=0.33, random_state=101)"
   ]
  },
  {
   "cell_type": "markdown",
   "metadata": {},
   "source": [
    "### tf.estimator"
   ]
  },
  {
   "cell_type": "code",
   "execution_count": 19,
   "metadata": {
    "ExecuteTime": {
     "end_time": "2018-10-25T12:17:03.233444Z",
     "start_time": "2018-10-25T12:17:03.228389Z"
    }
   },
   "outputs": [],
   "source": [
    "input_func = tf.estimator.inputs.pandas_input_fn(x=X_train,y=y_train,batch_size=10,num_epochs=1000,shuffle=True)"
   ]
  },
  {
   "cell_type": "code",
   "execution_count": 20,
   "metadata": {
    "ExecuteTime": {
     "end_time": "2018-10-25T12:17:03.242837Z",
     "start_time": "2018-10-25T12:17:03.236251Z"
    },
    "collapsed": true
   },
   "outputs": [
    {
     "name": "stdout",
     "output_type": "stream",
     "text": [
      "INFO:tensorflow:Using default config.\n",
      "WARNING:tensorflow:Using temporary folder as model directory: /tmp/tmpzbunlnt5\n",
      "INFO:tensorflow:Using config: {'_session_config': None, '_num_ps_replicas': 0, '_save_summary_steps': 100, '_num_worker_replicas': 1, '_cluster_spec': <tensorflow.python.training.server_lib.ClusterSpec object at 0x7fd516c0b7b8>, '_keep_checkpoint_max': 5, '_task_id': 0, '_global_id_in_cluster': 0, '_train_distribute': None, '_model_dir': '/tmp/tmpzbunlnt5', '_is_chief': True, '_task_type': 'worker', '_keep_checkpoint_every_n_hours': 10000, '_evaluation_master': '', '_service': None, '_save_checkpoints_steps': None, '_log_step_count_steps': 100, '_save_checkpoints_secs': 600, '_tf_random_seed': None, '_master': ''}\n"
     ]
    }
   ],
   "source": [
    "model = tf.estimator.LinearClassifier(feature_columns=feat_cols,n_classes=2)"
   ]
  },
  {
   "cell_type": "code",
   "execution_count": 21,
   "metadata": {
    "ExecuteTime": {
     "end_time": "2018-10-25T12:17:10.476963Z",
     "start_time": "2018-10-25T12:17:03.245385Z"
    },
    "collapsed": true
   },
   "outputs": [
    {
     "name": "stdout",
     "output_type": "stream",
     "text": [
      "INFO:tensorflow:Calling model_fn.\n",
      "INFO:tensorflow:Done calling model_fn.\n",
      "INFO:tensorflow:Create CheckpointSaverHook.\n",
      "INFO:tensorflow:Graph was finalized.\n",
      "INFO:tensorflow:Running local_init_op.\n",
      "INFO:tensorflow:Done running local_init_op.\n",
      "INFO:tensorflow:Saving checkpoints for 1 into /tmp/tmpzbunlnt5/model.ckpt.\n",
      "INFO:tensorflow:step = 0, loss = 6.931472\n",
      "INFO:tensorflow:global_step/sec: 178.18\n",
      "INFO:tensorflow:step = 100, loss = 4.141654 (0.562 sec)\n",
      "INFO:tensorflow:global_step/sec: 238.487\n",
      "INFO:tensorflow:step = 200, loss = 6.038972 (0.419 sec)\n",
      "INFO:tensorflow:global_step/sec: 238.489\n",
      "INFO:tensorflow:step = 300, loss = 4.5956492 (0.419 sec)\n",
      "INFO:tensorflow:global_step/sec: 239.055\n",
      "INFO:tensorflow:step = 400, loss = 4.9411592 (0.418 sec)\n",
      "INFO:tensorflow:global_step/sec: 239.816\n",
      "INFO:tensorflow:step = 500, loss = 4.9269824 (0.417 sec)\n",
      "INFO:tensorflow:global_step/sec: 238.982\n",
      "INFO:tensorflow:step = 600, loss = 7.919373 (0.418 sec)\n",
      "INFO:tensorflow:global_step/sec: 245.327\n",
      "INFO:tensorflow:step = 700, loss = 6.226985 (0.408 sec)\n",
      "INFO:tensorflow:global_step/sec: 241.023\n",
      "INFO:tensorflow:step = 800, loss = 5.5382805 (0.417 sec)\n",
      "INFO:tensorflow:global_step/sec: 230.658\n",
      "INFO:tensorflow:step = 900, loss = 8.725329 (0.432 sec)\n",
      "INFO:tensorflow:Saving checkpoints for 1000 into /tmp/tmpzbunlnt5/model.ckpt.\n",
      "INFO:tensorflow:Loss for final step: 6.773858.\n"
     ]
    },
    {
     "data": {
      "text/plain": [
       "<tensorflow.python.estimator.canned.linear.LinearClassifier at 0x7fd51272aef0>"
      ]
     },
     "execution_count": 21,
     "metadata": {},
     "output_type": "execute_result"
    }
   ],
   "source": [
    "model.train(input_fn=input_func,steps=1000)"
   ]
  },
  {
   "cell_type": "code",
   "execution_count": 22,
   "metadata": {
    "ExecuteTime": {
     "end_time": "2018-10-25T12:17:10.483276Z",
     "start_time": "2018-10-25T12:17:10.479142Z"
    }
   },
   "outputs": [],
   "source": [
    "eval_input_func = tf.estimator.inputs.pandas_input_fn(x = X_test,\n",
    "                                                     y = y_test,\n",
    "                                                     batch_size=10, num_epochs=1, \n",
    "                                                      shuffle=False)"
   ]
  },
  {
   "cell_type": "code",
   "execution_count": 23,
   "metadata": {
    "ExecuteTime": {
     "end_time": "2018-10-25T12:17:12.304937Z",
     "start_time": "2018-10-25T12:17:10.485337Z"
    },
    "collapsed": true
   },
   "outputs": [
    {
     "name": "stdout",
     "output_type": "stream",
     "text": [
      "INFO:tensorflow:Calling model_fn.\n",
      "WARNING:tensorflow:Trapezoidal rule is known to produce incorrect PR-AUCs; please switch to \"careful_interpolation\" instead.\n",
      "WARNING:tensorflow:Trapezoidal rule is known to produce incorrect PR-AUCs; please switch to \"careful_interpolation\" instead.\n",
      "INFO:tensorflow:Done calling model_fn.\n",
      "INFO:tensorflow:Starting evaluation at 2018-10-25-12:17:11\n",
      "INFO:tensorflow:Graph was finalized.\n",
      "INFO:tensorflow:Restoring parameters from /tmp/tmpzbunlnt5/model.ckpt-1000\n",
      "INFO:tensorflow:Running local_init_op.\n",
      "INFO:tensorflow:Done running local_init_op.\n",
      "INFO:tensorflow:Finished evaluation at 2018-10-25-12:17:12\n",
      "INFO:tensorflow:Saving dict for global step 1000: accuracy = 0.72834647, accuracy_baseline = 0.65748036, auc = 0.78336436, auc_precision_recall = 0.62351674, average_loss = 0.5336969, global_step = 1000, label/mean = 0.34251967, loss = 5.213808, precision = 0.62857145, prediction/mean = 0.3529737, recall = 0.50574714\n"
     ]
    }
   ],
   "source": [
    "results = model.evaluate(eval_input_func)"
   ]
  },
  {
   "cell_type": "code",
   "execution_count": 24,
   "metadata": {
    "ExecuteTime": {
     "end_time": "2018-10-25T12:17:12.310377Z",
     "start_time": "2018-10-25T12:17:12.306614Z"
    },
    "collapsed": true
   },
   "outputs": [
    {
     "data": {
      "text/plain": [
       "{'accuracy': 0.72834647,\n",
       " 'accuracy_baseline': 0.65748036,\n",
       " 'auc': 0.78336436,\n",
       " 'auc_precision_recall': 0.62351674,\n",
       " 'average_loss': 0.5336969,\n",
       " 'global_step': 1000,\n",
       " 'label/mean': 0.34251967,\n",
       " 'loss': 5.213808,\n",
       " 'precision': 0.62857145,\n",
       " 'prediction/mean': 0.3529737,\n",
       " 'recall': 0.50574714}"
      ]
     },
     "execution_count": 24,
     "metadata": {},
     "output_type": "execute_result"
    }
   ],
   "source": [
    "results"
   ]
  },
  {
   "cell_type": "code",
   "execution_count": 25,
   "metadata": {
    "ExecuteTime": {
     "end_time": "2018-10-25T12:17:12.316822Z",
     "start_time": "2018-10-25T12:17:12.312764Z"
    }
   },
   "outputs": [],
   "source": [
    "pred_input_func = tf.estimator.inputs.pandas_input_fn(x = X_test,\n",
    "                                                     batch_size = 10,\n",
    "                                                     num_epochs=1, \n",
    "                                                      shuffle=False)"
   ]
  },
  {
   "cell_type": "code",
   "execution_count": 26,
   "metadata": {
    "ExecuteTime": {
     "end_time": "2018-10-25T12:17:12.325786Z",
     "start_time": "2018-10-25T12:17:12.319768Z"
    }
   },
   "outputs": [],
   "source": [
    "predicitions = model.predict(pred_input_func)"
   ]
  },
  {
   "cell_type": "code",
   "execution_count": 27,
   "metadata": {
    "ExecuteTime": {
     "end_time": "2018-10-25T12:17:13.011068Z",
     "start_time": "2018-10-25T12:17:12.328154Z"
    },
    "collapsed": true
   },
   "outputs": [
    {
     "name": "stdout",
     "output_type": "stream",
     "text": [
      "INFO:tensorflow:Calling model_fn.\n",
      "INFO:tensorflow:Done calling model_fn.\n",
      "INFO:tensorflow:Graph was finalized.\n",
      "INFO:tensorflow:Restoring parameters from /tmp/tmpzbunlnt5/model.ckpt-1000\n",
      "INFO:tensorflow:Running local_init_op.\n",
      "INFO:tensorflow:Done running local_init_op.\n"
     ]
    }
   ],
   "source": [
    "my_pred = list(predicitions)"
   ]
  },
  {
   "cell_type": "code",
   "execution_count": 28,
   "metadata": {
    "ExecuteTime": {
     "end_time": "2018-10-25T12:17:13.185123Z",
     "start_time": "2018-10-25T12:17:13.012888Z"
    },
    "collapsed": true
   },
   "outputs": [
    {
     "data": {
      "text/plain": [
       "[{'class_ids': array([0]),\n",
       "  'classes': array([b'0'], dtype=object),\n",
       "  'logistic': array([0.49554503], dtype=float32),\n",
       "  'logits': array([-0.01782048], dtype=float32),\n",
       "  'probabilities': array([0.50445503, 0.495545  ], dtype=float32)},\n",
       " {'class_ids': array([1]),\n",
       "  'classes': array([b'1'], dtype=object),\n",
       "  'logistic': array([0.59653115], dtype=float32),\n",
       "  'logits': array([0.3910321], dtype=float32),\n",
       "  'probabilities': array([0.40346885, 0.59653115], dtype=float32)},\n",
       " {'class_ids': array([0]),\n",
       "  'classes': array([b'0'], dtype=object),\n",
       "  'logistic': array([0.38618752], dtype=float32),\n",
       "  'logits': array([-0.46336633], dtype=float32),\n",
       "  'probabilities': array([0.61381245, 0.38618752], dtype=float32)},\n",
       " {'class_ids': array([0]),\n",
       "  'classes': array([b'0'], dtype=object),\n",
       "  'logistic': array([0.29334894], dtype=float32),\n",
       "  'logits': array([-0.8791742], dtype=float32),\n",
       "  'probabilities': array([0.70665103, 0.29334894], dtype=float32)},\n",
       " {'class_ids': array([0]),\n",
       "  'classes': array([b'0'], dtype=object),\n",
       "  'logistic': array([0.13382922], dtype=float32),\n",
       "  'logits': array([-1.8675176], dtype=float32),\n",
       "  'probabilities': array([0.8661708 , 0.13382922], dtype=float32)},\n",
       " {'class_ids': array([1]),\n",
       "  'classes': array([b'1'], dtype=object),\n",
       "  'logistic': array([0.655666], dtype=float32),\n",
       "  'logits': array([0.6440394], dtype=float32),\n",
       "  'probabilities': array([0.34433404, 0.655666  ], dtype=float32)},\n",
       " {'class_ids': array([1]),\n",
       "  'classes': array([b'1'], dtype=object),\n",
       "  'logistic': array([0.562642], dtype=float32),\n",
       "  'logits': array([0.25189126], dtype=float32),\n",
       "  'probabilities': array([0.43735808, 0.562642  ], dtype=float32)},\n",
       " {'class_ids': array([0]),\n",
       "  'classes': array([b'0'], dtype=object),\n",
       "  'logistic': array([0.34238052], dtype=float32),\n",
       "  'logits': array([-0.65270364], dtype=float32),\n",
       "  'probabilities': array([0.6576194 , 0.34238052], dtype=float32)},\n",
       " {'class_ids': array([0]),\n",
       "  'classes': array([b'0'], dtype=object),\n",
       "  'logistic': array([0.22490147], dtype=float32),\n",
       "  'logits': array([-1.2373278], dtype=float32),\n",
       "  'probabilities': array([0.77509856, 0.22490147], dtype=float32)},\n",
       " {'class_ids': array([0]),\n",
       "  'classes': array([b'0'], dtype=object),\n",
       "  'logistic': array([0.20932874], dtype=float32),\n",
       "  'logits': array([-1.3289764], dtype=float32),\n",
       "  'probabilities': array([0.7906713 , 0.20932874], dtype=float32)},\n",
       " {'class_ids': array([0]),\n",
       "  'classes': array([b'0'], dtype=object),\n",
       "  'logistic': array([0.1279477], dtype=float32),\n",
       "  'logits': array([-1.9192278], dtype=float32),\n",
       "  'probabilities': array([0.8720523 , 0.12794769], dtype=float32)},\n",
       " {'class_ids': array([0]),\n",
       "  'classes': array([b'0'], dtype=object),\n",
       "  'logistic': array([0.1396757], dtype=float32),\n",
       "  'logits': array([-1.8179861], dtype=float32),\n",
       "  'probabilities': array([0.8603243 , 0.13967569], dtype=float32)},\n",
       " {'class_ids': array([0]),\n",
       "  'classes': array([b'0'], dtype=object),\n",
       "  'logistic': array([0.29105315], dtype=float32),\n",
       "  'logits': array([-0.8902747], dtype=float32),\n",
       "  'probabilities': array([0.7089469 , 0.29105315], dtype=float32)},\n",
       " {'class_ids': array([1]),\n",
       "  'classes': array([b'1'], dtype=object),\n",
       "  'logistic': array([0.5610166], dtype=float32),\n",
       "  'logits': array([0.24528897], dtype=float32),\n",
       "  'probabilities': array([0.43898335, 0.5610166 ], dtype=float32)},\n",
       " {'class_ids': array([0]),\n",
       "  'classes': array([b'0'], dtype=object),\n",
       "  'logistic': array([0.16381052], dtype=float32),\n",
       "  'logits': array([-1.6301448], dtype=float32),\n",
       "  'probabilities': array([0.8361895 , 0.16381052], dtype=float32)},\n",
       " {'class_ids': array([0]),\n",
       "  'classes': array([b'0'], dtype=object),\n",
       "  'logistic': array([0.30894777], dtype=float32),\n",
       "  'logits': array([-0.8050432], dtype=float32),\n",
       "  'probabilities': array([0.69105226, 0.30894777], dtype=float32)},\n",
       " {'class_ids': array([0]),\n",
       "  'classes': array([b'0'], dtype=object),\n",
       "  'logistic': array([0.3575914], dtype=float32),\n",
       "  'logits': array([-0.58583355], dtype=float32),\n",
       "  'probabilities': array([0.6424086 , 0.35759142], dtype=float32)},\n",
       " {'class_ids': array([0]),\n",
       "  'classes': array([b'0'], dtype=object),\n",
       "  'logistic': array([0.12650369], dtype=float32),\n",
       "  'logits': array([-1.9322324], dtype=float32),\n",
       "  'probabilities': array([0.87349635, 0.1265037 ], dtype=float32)},\n",
       " {'class_ids': array([0]),\n",
       "  'classes': array([b'0'], dtype=object),\n",
       "  'logistic': array([0.34965885], dtype=float32),\n",
       "  'logits': array([-0.6205391], dtype=float32),\n",
       "  'probabilities': array([0.65034115, 0.34965885], dtype=float32)},\n",
       " {'class_ids': array([0]),\n",
       "  'classes': array([b'0'], dtype=object),\n",
       "  'logistic': array([0.12806624], dtype=float32),\n",
       "  'logits': array([-1.9181659], dtype=float32),\n",
       "  'probabilities': array([0.87193376, 0.12806623], dtype=float32)},\n",
       " {'class_ids': array([0]),\n",
       "  'classes': array([b'0'], dtype=object),\n",
       "  'logistic': array([0.2019737], dtype=float32),\n",
       "  'logits': array([-1.374004], dtype=float32),\n",
       "  'probabilities': array([0.79802626, 0.2019737 ], dtype=float32)},\n",
       " {'class_ids': array([0]),\n",
       "  'classes': array([b'0'], dtype=object),\n",
       "  'logistic': array([0.2778866], dtype=float32),\n",
       "  'logits': array([-0.95496917], dtype=float32),\n",
       "  'probabilities': array([0.72211343, 0.27788657], dtype=float32)},\n",
       " {'class_ids': array([1]),\n",
       "  'classes': array([b'1'], dtype=object),\n",
       "  'logistic': array([0.6369456], dtype=float32),\n",
       "  'logits': array([0.5621315], dtype=float32),\n",
       "  'probabilities': array([0.3630544, 0.6369456], dtype=float32)},\n",
       " {'class_ids': array([0]),\n",
       "  'classes': array([b'0'], dtype=object),\n",
       "  'logistic': array([0.19249035], dtype=float32),\n",
       "  'logits': array([-1.4339089], dtype=float32),\n",
       "  'probabilities': array([0.80750966, 0.19249034], dtype=float32)},\n",
       " {'class_ids': array([0]),\n",
       "  'classes': array([b'0'], dtype=object),\n",
       "  'logistic': array([0.17226045], dtype=float32),\n",
       "  'logits': array([-1.569691], dtype=float32),\n",
       "  'probabilities': array([0.82773954, 0.17226045], dtype=float32)},\n",
       " {'class_ids': array([1]),\n",
       "  'classes': array([b'1'], dtype=object),\n",
       "  'logistic': array([0.74692243], dtype=float32),\n",
       "  'logits': array([1.0822654], dtype=float32),\n",
       "  'probabilities': array([0.25307754, 0.74692243], dtype=float32)},\n",
       " {'class_ids': array([0]),\n",
       "  'classes': array([b'0'], dtype=object),\n",
       "  'logistic': array([0.17190765], dtype=float32),\n",
       "  'logits': array([-1.5721673], dtype=float32),\n",
       "  'probabilities': array([0.8280924 , 0.17190765], dtype=float32)},\n",
       " {'class_ids': array([0]),\n",
       "  'classes': array([b'0'], dtype=object),\n",
       "  'logistic': array([0.2938375], dtype=float32),\n",
       "  'logits': array([-0.87681866], dtype=float32),\n",
       "  'probabilities': array([0.7061626, 0.2938375], dtype=float32)},\n",
       " {'class_ids': array([0]),\n",
       "  'classes': array([b'0'], dtype=object),\n",
       "  'logistic': array([0.10162017], dtype=float32),\n",
       "  'logits': array([-2.1793509], dtype=float32),\n",
       "  'probabilities': array([0.8983798 , 0.10162017], dtype=float32)},\n",
       " {'class_ids': array([1]),\n",
       "  'classes': array([b'1'], dtype=object),\n",
       "  'logistic': array([0.56932867], dtype=float32),\n",
       "  'logits': array([0.27911258], dtype=float32),\n",
       "  'probabilities': array([0.43067133, 0.56932867], dtype=float32)},\n",
       " {'class_ids': array([1]),\n",
       "  'classes': array([b'1'], dtype=object),\n",
       "  'logistic': array([0.92822593], dtype=float32),\n",
       "  'logits': array([2.5597517], dtype=float32),\n",
       "  'probabilities': array([0.07177408, 0.92822593], dtype=float32)},\n",
       " {'class_ids': array([0]),\n",
       "  'classes': array([b'0'], dtype=object),\n",
       "  'logistic': array([0.37184945], dtype=float32),\n",
       "  'logits': array([-0.52429074], dtype=float32),\n",
       "  'probabilities': array([0.6281506 , 0.37184945], dtype=float32)},\n",
       " {'class_ids': array([0]),\n",
       "  'classes': array([b'0'], dtype=object),\n",
       "  'logistic': array([0.28220558], dtype=float32),\n",
       "  'logits': array([-0.9335475], dtype=float32),\n",
       "  'probabilities': array([0.7177944 , 0.28220555], dtype=float32)},\n",
       " {'class_ids': array([1]),\n",
       "  'classes': array([b'1'], dtype=object),\n",
       "  'logistic': array([0.55145115], dtype=float32),\n",
       "  'logits': array([0.20653582], dtype=float32),\n",
       "  'probabilities': array([0.4485488 , 0.55145115], dtype=float32)},\n",
       " {'class_ids': array([0]),\n",
       "  'classes': array([b'0'], dtype=object),\n",
       "  'logistic': array([0.23506583], dtype=float32),\n",
       "  'logits': array([-1.1799241], dtype=float32),\n",
       "  'probabilities': array([0.7649342 , 0.23506585], dtype=float32)},\n",
       " {'class_ids': array([0]),\n",
       "  'classes': array([b'0'], dtype=object),\n",
       "  'logistic': array([0.38084105], dtype=float32),\n",
       "  'logits': array([-0.48598], dtype=float32),\n",
       "  'probabilities': array([0.6191589 , 0.38084102], dtype=float32)},\n",
       " {'class_ids': array([0]),\n",
       "  'classes': array([b'0'], dtype=object),\n",
       "  'logistic': array([0.49189368], dtype=float32),\n",
       "  'logits': array([-0.03242815], dtype=float32),\n",
       "  'probabilities': array([0.50810635, 0.49189365], dtype=float32)},\n",
       " {'class_ids': array([1]),\n",
       "  'classes': array([b'1'], dtype=object),\n",
       "  'logistic': array([0.61546063], dtype=float32),\n",
       "  'logits': array([0.47032475], dtype=float32),\n",
       "  'probabilities': array([0.3845394 , 0.61546063], dtype=float32)},\n",
       " {'class_ids': array([1]),\n",
       "  'classes': array([b'1'], dtype=object),\n",
       "  'logistic': array([0.7377824], dtype=float32),\n",
       "  'logits': array([1.0344741], dtype=float32),\n",
       "  'probabilities': array([0.2622176, 0.7377824], dtype=float32)},\n",
       " {'class_ids': array([0]),\n",
       "  'classes': array([b'0'], dtype=object),\n",
       "  'logistic': array([0.30525082], dtype=float32),\n",
       "  'logits': array([-0.82241714], dtype=float32),\n",
       "  'probabilities': array([0.6947492, 0.3052508], dtype=float32)},\n",
       " {'class_ids': array([0]),\n",
       "  'classes': array([b'0'], dtype=object),\n",
       "  'logistic': array([0.17336151], dtype=float32),\n",
       "  'logits': array([-1.5619884], dtype=float32),\n",
       "  'probabilities': array([0.82663846, 0.17336151], dtype=float32)},\n",
       " {'class_ids': array([1]),\n",
       "  'classes': array([b'1'], dtype=object),\n",
       "  'logistic': array([0.52794814], dtype=float32),\n",
       "  'logits': array([0.11190927], dtype=float32),\n",
       "  'probabilities': array([0.47205183, 0.52794814], dtype=float32)},\n",
       " {'class_ids': array([0]),\n",
       "  'classes': array([b'0'], dtype=object),\n",
       "  'logistic': array([0.14839558], dtype=float32),\n",
       "  'logits': array([-1.7472405], dtype=float32),\n",
       "  'probabilities': array([0.8516044 , 0.14839557], dtype=float32)},\n",
       " {'class_ids': array([0]),\n",
       "  'classes': array([b'0'], dtype=object),\n",
       "  'logistic': array([0.49745196], dtype=float32),\n",
       "  'logits': array([-0.0101921], dtype=float32),\n",
       "  'probabilities': array([0.502548  , 0.49745202], dtype=float32)},\n",
       " {'class_ids': array([0]),\n",
       "  'classes': array([b'0'], dtype=object),\n",
       "  'logistic': array([0.1385639], dtype=float32),\n",
       "  'logits': array([-1.8272693], dtype=float32),\n",
       "  'probabilities': array([0.8614361, 0.1385639], dtype=float32)},\n",
       " {'class_ids': array([0]),\n",
       "  'classes': array([b'0'], dtype=object),\n",
       "  'logistic': array([0.09912559], dtype=float32),\n",
       "  'logits': array([-2.2069783], dtype=float32),\n",
       "  'probabilities': array([0.9008744 , 0.09912558], dtype=float32)},\n",
       " {'class_ids': array([1]),\n",
       "  'classes': array([b'1'], dtype=object),\n",
       "  'logistic': array([0.57747644], dtype=float32),\n",
       "  'logits': array([0.3124225], dtype=float32),\n",
       "  'probabilities': array([0.42252356, 0.57747644], dtype=float32)},\n",
       " {'class_ids': array([0]),\n",
       "  'classes': array([b'0'], dtype=object),\n",
       "  'logistic': array([0.16757895], dtype=float32),\n",
       "  'logits': array([-1.6028838], dtype=float32),\n",
       "  'probabilities': array([0.832421  , 0.16757894], dtype=float32)},\n",
       " {'class_ids': array([0]),\n",
       "  'classes': array([b'0'], dtype=object),\n",
       "  'logistic': array([0.19432537], dtype=float32),\n",
       "  'logits': array([-1.4221461], dtype=float32),\n",
       "  'probabilities': array([0.8056747 , 0.19432537], dtype=float32)},\n",
       " {'class_ids': array([0]),\n",
       "  'classes': array([b'0'], dtype=object),\n",
       "  'logistic': array([0.11537328], dtype=float32),\n",
       "  'logits': array([-2.036993], dtype=float32),\n",
       "  'probabilities': array([0.8846267 , 0.11537328], dtype=float32)},\n",
       " {'class_ids': array([0]),\n",
       "  'classes': array([b'0'], dtype=object),\n",
       "  'logistic': array([0.15298139], dtype=float32),\n",
       "  'logits': array([-1.7114064], dtype=float32),\n",
       "  'probabilities': array([0.8470186, 0.1529814], dtype=float32)},\n",
       " {'class_ids': array([0]),\n",
       "  'classes': array([b'0'], dtype=object),\n",
       "  'logistic': array([0.24158818], dtype=float32),\n",
       "  'logits': array([-1.143992], dtype=float32),\n",
       "  'probabilities': array([0.7584118 , 0.24158816], dtype=float32)},\n",
       " {'class_ids': array([0]),\n",
       "  'classes': array([b'0'], dtype=object),\n",
       "  'logistic': array([0.22976732], dtype=float32),\n",
       "  'logits': array([-1.2096255], dtype=float32),\n",
       "  'probabilities': array([0.7702327 , 0.22976732], dtype=float32)},\n",
       " {'class_ids': array([0]),\n",
       "  'classes': array([b'0'], dtype=object),\n",
       "  'logistic': array([0.3543778], dtype=float32),\n",
       "  'logits': array([-0.5998509], dtype=float32),\n",
       "  'probabilities': array([0.6456222, 0.3543778], dtype=float32)},\n",
       " {'class_ids': array([0]),\n",
       "  'classes': array([b'0'], dtype=object),\n",
       "  'logistic': array([0.13074502], dtype=float32),\n",
       "  'logits': array([-1.8943875], dtype=float32),\n",
       "  'probabilities': array([0.869255  , 0.13074502], dtype=float32)},\n",
       " {'class_ids': array([0]),\n",
       "  'classes': array([b'0'], dtype=object),\n",
       "  'logistic': array([0.1972226], dtype=float32),\n",
       "  'logits': array([-1.4037445], dtype=float32),\n",
       "  'probabilities': array([0.8027774 , 0.19722259], dtype=float32)},\n",
       " {'class_ids': array([0]),\n",
       "  'classes': array([b'0'], dtype=object),\n",
       "  'logistic': array([0.19147499], dtype=float32),\n",
       "  'logits': array([-1.4404545], dtype=float32),\n",
       "  'probabilities': array([0.808525  , 0.19147497], dtype=float32)},\n",
       " {'class_ids': array([0]),\n",
       "  'classes': array([b'0'], dtype=object),\n",
       "  'logistic': array([0.19855067], dtype=float32),\n",
       "  'logits': array([-1.3953774], dtype=float32),\n",
       "  'probabilities': array([0.8014493 , 0.19855067], dtype=float32)},\n",
       " {'class_ids': array([0]),\n",
       "  'classes': array([b'0'], dtype=object),\n",
       "  'logistic': array([0.48154962], dtype=float32),\n",
       "  'logits': array([-0.07383513], dtype=float32),\n",
       "  'probabilities': array([0.5184504, 0.4815496], dtype=float32)},\n",
       " {'class_ids': array([0]),\n",
       "  'classes': array([b'0'], dtype=object),\n",
       "  'logistic': array([0.14927605], dtype=float32),\n",
       "  'logits': array([-1.7402904], dtype=float32),\n",
       "  'probabilities': array([0.850724  , 0.14927605], dtype=float32)},\n",
       " {'class_ids': array([0]),\n",
       "  'classes': array([b'0'], dtype=object),\n",
       "  'logistic': array([0.22236873], dtype=float32),\n",
       "  'logits': array([-1.2519156], dtype=float32),\n",
       "  'probabilities': array([0.7776313 , 0.22236872], dtype=float32)},\n",
       " {'class_ids': array([1]),\n",
       "  'classes': array([b'1'], dtype=object),\n",
       "  'logistic': array([0.6277727], dtype=float32),\n",
       "  'logits': array([0.52267337], dtype=float32),\n",
       "  'probabilities': array([0.3722273, 0.6277727], dtype=float32)},\n",
       " {'class_ids': array([1]),\n",
       "  'classes': array([b'1'], dtype=object),\n",
       "  'logistic': array([0.61001706], dtype=float32),\n",
       "  'logits': array([0.44738388], dtype=float32),\n",
       "  'probabilities': array([0.38998294, 0.61001706], dtype=float32)},\n",
       " {'class_ids': array([1]),\n",
       "  'classes': array([b'1'], dtype=object),\n",
       "  'logistic': array([0.50565434], dtype=float32),\n",
       "  'logits': array([0.02261817], dtype=float32),\n",
       "  'probabilities': array([0.4943457 , 0.50565434], dtype=float32)},\n",
       " {'class_ids': array([0]),\n",
       "  'classes': array([b'0'], dtype=object),\n",
       "  'logistic': array([0.31816137], dtype=float32),\n",
       "  'logits': array([-0.76223433], dtype=float32),\n",
       "  'probabilities': array([0.68183863, 0.31816137], dtype=float32)},\n",
       " {'class_ids': array([0]),\n",
       "  'classes': array([b'0'], dtype=object),\n",
       "  'logistic': array([0.4625734], dtype=float32),\n",
       "  'logits': array([-0.1499868], dtype=float32),\n",
       "  'probabilities': array([0.5374266 , 0.46257344], dtype=float32)},\n",
       " {'class_ids': array([0]),\n",
       "  'classes': array([b'0'], dtype=object),\n",
       "  'logistic': array([0.17431425], dtype=float32),\n",
       "  'logits': array([-1.5553546], dtype=float32),\n",
       "  'probabilities': array([0.82568574, 0.17431423], dtype=float32)},\n",
       " {'class_ids': array([0]),\n",
       "  'classes': array([b'0'], dtype=object),\n",
       "  'logistic': array([0.19245331], dtype=float32),\n",
       "  'logits': array([-1.4341474], dtype=float32),\n",
       "  'probabilities': array([0.80754673, 0.1924533 ], dtype=float32)},\n",
       " {'class_ids': array([0]),\n",
       "  'classes': array([b'0'], dtype=object),\n",
       "  'logistic': array([0.14566265], dtype=float32),\n",
       "  'logits': array([-1.7690327], dtype=float32),\n",
       "  'probabilities': array([0.8543374 , 0.14566267], dtype=float32)},\n",
       " {'class_ids': array([0]),\n",
       "  'classes': array([b'0'], dtype=object),\n",
       "  'logistic': array([0.1284848], dtype=float32),\n",
       "  'logits': array([-1.9144226], dtype=float32),\n",
       "  'probabilities': array([0.87151515, 0.12848482], dtype=float32)},\n",
       " {'class_ids': array([1]),\n",
       "  'classes': array([b'1'], dtype=object),\n",
       "  'logistic': array([0.57714045], dtype=float32),\n",
       "  'logits': array([0.3110454], dtype=float32),\n",
       "  'probabilities': array([0.4228596 , 0.57714045], dtype=float32)},\n",
       " {'class_ids': array([0]),\n",
       "  'classes': array([b'0'], dtype=object),\n",
       "  'logistic': array([0.22600223], dtype=float32),\n",
       "  'logits': array([-1.231024], dtype=float32),\n",
       "  'probabilities': array([0.7739978 , 0.22600223], dtype=float32)},\n",
       " {'class_ids': array([0]),\n",
       "  'classes': array([b'0'], dtype=object),\n",
       "  'logistic': array([0.3952326], dtype=float32),\n",
       "  'logits': array([-0.4253695], dtype=float32),\n",
       "  'probabilities': array([0.60476744, 0.3952326 ], dtype=float32)},\n",
       " {'class_ids': array([1]),\n",
       "  'classes': array([b'1'], dtype=object),\n",
       "  'logistic': array([0.55615914], dtype=float32),\n",
       "  'logits': array([0.22558844], dtype=float32),\n",
       "  'probabilities': array([0.44384086, 0.55615914], dtype=float32)},\n",
       " {'class_ids': array([0]),\n",
       "  'classes': array([b'0'], dtype=object),\n",
       "  'logistic': array([0.261898], dtype=float32),\n",
       "  'logits': array([-1.0361269], dtype=float32),\n",
       "  'probabilities': array([0.73810196, 0.261898  ], dtype=float32)},\n",
       " {'class_ids': array([1]),\n",
       "  'classes': array([b'1'], dtype=object),\n",
       "  'logistic': array([0.6036036], dtype=float32),\n",
       "  'logits': array([0.42050314], dtype=float32),\n",
       "  'probabilities': array([0.39639634, 0.6036036 ], dtype=float32)},\n",
       " {'class_ids': array([0]),\n",
       "  'classes': array([b'0'], dtype=object),\n",
       "  'logistic': array([0.11641213], dtype=float32),\n",
       "  'logits': array([-2.026854], dtype=float32),\n",
       "  'probabilities': array([0.88358784, 0.11641212], dtype=float32)},\n",
       " {'class_ids': array([1]),\n",
       "  'classes': array([b'1'], dtype=object),\n",
       "  'logistic': array([0.55832124], dtype=float32),\n",
       "  'logits': array([0.23435175], dtype=float32),\n",
       "  'probabilities': array([0.44167873, 0.55832124], dtype=float32)},\n",
       " {'class_ids': array([0]),\n",
       "  'classes': array([b'0'], dtype=object),\n",
       "  'logistic': array([0.12302961], dtype=float32),\n",
       "  'logits': array([-1.9640481], dtype=float32),\n",
       "  'probabilities': array([0.8769704 , 0.12302963], dtype=float32)},\n",
       " {'class_ids': array([1]),\n",
       "  'classes': array([b'1'], dtype=object),\n",
       "  'logistic': array([0.536983], dtype=float32),\n",
       "  'logits': array([0.14820266], dtype=float32),\n",
       "  'probabilities': array([0.46301702, 0.536983  ], dtype=float32)},\n",
       " {'class_ids': array([0]),\n",
       "  'classes': array([b'0'], dtype=object),\n",
       "  'logistic': array([0.31737882], dtype=float32),\n",
       "  'logits': array([-0.76584387], dtype=float32),\n",
       "  'probabilities': array([0.6826212 , 0.31737882], dtype=float32)},\n",
       " {'class_ids': array([0]),\n",
       "  'classes': array([b'0'], dtype=object),\n",
       "  'logistic': array([0.16229104], dtype=float32),\n",
       "  'logits': array([-1.6412795], dtype=float32),\n",
       "  'probabilities': array([0.83770895, 0.16229104], dtype=float32)},\n",
       " {'class_ids': array([1]),\n",
       "  'classes': array([b'1'], dtype=object),\n",
       "  'logistic': array([0.5490158], dtype=float32),\n",
       "  'logits': array([0.19669497], dtype=float32),\n",
       "  'probabilities': array([0.45098418, 0.5490158 ], dtype=float32)},\n",
       " {'class_ids': array([1]),\n",
       "  'classes': array([b'1'], dtype=object),\n",
       "  'logistic': array([0.55035186], dtype=float32),\n",
       "  'logits': array([0.20209229], dtype=float32),\n",
       "  'probabilities': array([0.44964817, 0.55035186], dtype=float32)},\n",
       " {'class_ids': array([1]),\n",
       "  'classes': array([b'1'], dtype=object),\n",
       "  'logistic': array([0.5201056], dtype=float32),\n",
       "  'logits': array([0.08046556], dtype=float32),\n",
       "  'probabilities': array([0.47989446, 0.5201056 ], dtype=float32)},\n",
       " {'class_ids': array([0]),\n",
       "  'classes': array([b'0'], dtype=object),\n",
       "  'logistic': array([0.15942341], dtype=float32),\n",
       "  'logits': array([-1.6625245], dtype=float32),\n",
       "  'probabilities': array([0.8405766, 0.1594234], dtype=float32)},\n",
       " {'class_ids': array([0]),\n",
       "  'classes': array([b'0'], dtype=object),\n",
       "  'logistic': array([0.33786044], dtype=float32),\n",
       "  'logits': array([-0.6728436], dtype=float32),\n",
       "  'probabilities': array([0.6621396, 0.3378604], dtype=float32)},\n",
       " {'class_ids': array([0]),\n",
       "  'classes': array([b'0'], dtype=object),\n",
       "  'logistic': array([0.14690894], dtype=float32),\n",
       "  'logits': array([-1.7590533], dtype=float32),\n",
       "  'probabilities': array([0.85309106, 0.14690894], dtype=float32)},\n",
       " {'class_ids': array([1]),\n",
       "  'classes': array([b'1'], dtype=object),\n",
       "  'logistic': array([0.69257873], dtype=float32),\n",
       "  'logits': array([0.81220293], dtype=float32),\n",
       "  'probabilities': array([0.30742127, 0.69257873], dtype=float32)},\n",
       " {'class_ids': array([1]),\n",
       "  'classes': array([b'1'], dtype=object),\n",
       "  'logistic': array([0.8037314], dtype=float32),\n",
       "  'logits': array([1.4097807], dtype=float32),\n",
       "  'probabilities': array([0.19626865, 0.8037314 ], dtype=float32)},\n",
       " {'class_ids': array([1]),\n",
       "  'classes': array([b'1'], dtype=object),\n",
       "  'logistic': array([0.5872464], dtype=float32),\n",
       "  'logits': array([0.35259378], dtype=float32),\n",
       "  'probabilities': array([0.41275358, 0.5872464 ], dtype=float32)},\n",
       " {'class_ids': array([0]),\n",
       "  'classes': array([b'0'], dtype=object),\n",
       "  'logistic': array([0.18936096], dtype=float32),\n",
       "  'logits': array([-1.4541678], dtype=float32),\n",
       "  'probabilities': array([0.810639  , 0.18936096], dtype=float32)},\n",
       " {'class_ids': array([0]),\n",
       "  'classes': array([b'0'], dtype=object),\n",
       "  'logistic': array([0.41733015], dtype=float32),\n",
       "  'logits': array([-0.33374316], dtype=float32),\n",
       "  'probabilities': array([0.58266985, 0.41733012], dtype=float32)},\n",
       " {'class_ids': array([0]),\n",
       "  'classes': array([b'0'], dtype=object),\n",
       "  'logistic': array([0.34470856], dtype=float32),\n",
       "  'logits': array([-0.64238095], dtype=float32),\n",
       "  'probabilities': array([0.6552915 , 0.34470853], dtype=float32)},\n",
       " {'class_ids': array([0]),\n",
       "  'classes': array([b'0'], dtype=object),\n",
       "  'logistic': array([0.45597962], dtype=float32),\n",
       "  'logits': array([-0.17653865], dtype=float32),\n",
       "  'probabilities': array([0.5440204, 0.4559796], dtype=float32)},\n",
       " {'class_ids': array([0]),\n",
       "  'classes': array([b'0'], dtype=object),\n",
       "  'logistic': array([0.33065537], dtype=float32),\n",
       "  'logits': array([-0.7052225], dtype=float32),\n",
       "  'probabilities': array([0.66934466, 0.33065534], dtype=float32)},\n",
       " {'class_ids': array([0]),\n",
       "  'classes': array([b'0'], dtype=object),\n",
       "  'logistic': array([0.43622443], dtype=float32),\n",
       "  'logits': array([-0.2564994], dtype=float32),\n",
       "  'probabilities': array([0.5637756 , 0.43622443], dtype=float32)},\n",
       " {'class_ids': array([0]),\n",
       "  'classes': array([b'0'], dtype=object),\n",
       "  'logistic': array([0.15440293], dtype=float32),\n",
       "  'logits': array([-1.7004774], dtype=float32),\n",
       "  'probabilities': array([0.8455971 , 0.15440293], dtype=float32)},\n",
       " {'class_ids': array([1]),\n",
       "  'classes': array([b'1'], dtype=object),\n",
       "  'logistic': array([0.54284966], dtype=float32),\n",
       "  'logits': array([0.17182004], dtype=float32),\n",
       "  'probabilities': array([0.45715034, 0.54284966], dtype=float32)},\n",
       " {'class_ids': array([1]),\n",
       "  'classes': array([b'1'], dtype=object),\n",
       "  'logistic': array([0.54534286], dtype=float32),\n",
       "  'logits': array([0.18187094], dtype=float32),\n",
       "  'probabilities': array([0.45465717, 0.54534286], dtype=float32)},\n",
       " {'class_ids': array([0]),\n",
       "  'classes': array([b'0'], dtype=object),\n",
       "  'logistic': array([0.21309857], dtype=float32),\n",
       "  'logits': array([-1.3063483], dtype=float32),\n",
       "  'probabilities': array([0.7869015 , 0.21309856], dtype=float32)},\n",
       " {'class_ids': array([0]),\n",
       "  'classes': array([b'0'], dtype=object),\n",
       "  'logistic': array([0.1737642], dtype=float32),\n",
       "  'logits': array([-1.559181], dtype=float32),\n",
       "  'probabilities': array([0.8262358, 0.1737642], dtype=float32)},\n",
       " {'class_ids': array([0]),\n",
       "  'classes': array([b'0'], dtype=object),\n",
       "  'logistic': array([0.16432112], dtype=float32),\n",
       "  'logits': array([-1.6264218], dtype=float32),\n",
       "  'probabilities': array([0.8356789 , 0.16432112], dtype=float32)},\n",
       " {'class_ids': array([0]),\n",
       "  'classes': array([b'0'], dtype=object),\n",
       "  'logistic': array([0.25109285], dtype=float32),\n",
       "  'logits': array([-1.0927923], dtype=float32),\n",
       "  'probabilities': array([0.74890715, 0.25109282], dtype=float32)},\n",
       " {'class_ids': array([0]),\n",
       "  'classes': array([b'0'], dtype=object),\n",
       "  'logistic': array([0.36196294], dtype=float32),\n",
       "  'logits': array([-0.56685454], dtype=float32),\n",
       "  'probabilities': array([0.6380371 , 0.36196294], dtype=float32)},\n",
       " {'class_ids': array([0]),\n",
       "  'classes': array([b'0'], dtype=object),\n",
       "  'logistic': array([0.13440764], dtype=float32),\n",
       "  'logits': array([-1.8625368], dtype=float32),\n",
       "  'probabilities': array([0.86559236, 0.13440764], dtype=float32)},\n",
       " {'class_ids': array([0]),\n",
       "  'classes': array([b'0'], dtype=object),\n",
       "  'logistic': array([0.29786113], dtype=float32),\n",
       "  'logits': array([-0.85750383], dtype=float32),\n",
       "  'probabilities': array([0.70213884, 0.29786113], dtype=float32)},\n",
       " {'class_ids': array([0]),\n",
       "  'classes': array([b'0'], dtype=object),\n",
       "  'logistic': array([0.21104711], dtype=float32),\n",
       "  'logits': array([-1.3186252], dtype=float32),\n",
       "  'probabilities': array([0.7889529, 0.2110471], dtype=float32)},\n",
       " {'class_ids': array([0]),\n",
       "  'classes': array([b'0'], dtype=object),\n",
       "  'logistic': array([0.09758162], dtype=float32),\n",
       "  'logits': array([-2.224389], dtype=float32),\n",
       "  'probabilities': array([0.9024184 , 0.09758162], dtype=float32)},\n",
       " {'class_ids': array([0]),\n",
       "  'classes': array([b'0'], dtype=object),\n",
       "  'logistic': array([0.12140729], dtype=float32),\n",
       "  'logits': array([-1.9791707], dtype=float32),\n",
       "  'probabilities': array([0.87859267, 0.12140726], dtype=float32)},\n",
       " {'class_ids': array([1]),\n",
       "  'classes': array([b'1'], dtype=object),\n",
       "  'logistic': array([0.7192672], dtype=float32),\n",
       "  'logits': array([0.9408294], dtype=float32),\n",
       "  'probabilities': array([0.28073284, 0.7192672 ], dtype=float32)},\n",
       " {'class_ids': array([0]),\n",
       "  'classes': array([b'0'], dtype=object),\n",
       "  'logistic': array([0.16916884], dtype=float32),\n",
       "  'logits': array([-1.5915294], dtype=float32),\n",
       "  'probabilities': array([0.83083117, 0.16916883], dtype=float32)},\n",
       " {'class_ids': array([0]),\n",
       "  'classes': array([b'0'], dtype=object),\n",
       "  'logistic': array([0.13044609], dtype=float32),\n",
       "  'logits': array([-1.8970203], dtype=float32),\n",
       "  'probabilities': array([0.86955386, 0.13044608], dtype=float32)},\n",
       " {'class_ids': array([0]),\n",
       "  'classes': array([b'0'], dtype=object),\n",
       "  'logistic': array([0.13954936], dtype=float32),\n",
       "  'logits': array([-1.819038], dtype=float32),\n",
       "  'probabilities': array([0.8604506 , 0.13954933], dtype=float32)},\n",
       " {'class_ids': array([0]),\n",
       "  'classes': array([b'0'], dtype=object),\n",
       "  'logistic': array([0.46820813], dtype=float32),\n",
       "  'logits': array([-0.12733936], dtype=float32),\n",
       "  'probabilities': array([0.5317919, 0.4682081], dtype=float32)},\n",
       " {'class_ids': array([0]),\n",
       "  'classes': array([b'0'], dtype=object),\n",
       "  'logistic': array([0.43347028], dtype=float32),\n",
       "  'logits': array([-0.26770622], dtype=float32),\n",
       "  'probabilities': array([0.56652975, 0.4334703 ], dtype=float32)},\n",
       " {'class_ids': array([0]),\n",
       "  'classes': array([b'0'], dtype=object),\n",
       "  'logistic': array([0.22561598], dtype=float32),\n",
       "  'logits': array([-1.2332336], dtype=float32),\n",
       "  'probabilities': array([0.774384, 0.225616], dtype=float32)},\n",
       " {'class_ids': array([0]),\n",
       "  'classes': array([b'0'], dtype=object),\n",
       "  'logistic': array([0.40100962], dtype=float32),\n",
       "  'logits': array([-0.40126008], dtype=float32),\n",
       "  'probabilities': array([0.59899044, 0.40100962], dtype=float32)},\n",
       " {'class_ids': array([0]),\n",
       "  'classes': array([b'0'], dtype=object),\n",
       "  'logistic': array([0.1779963], dtype=float32),\n",
       "  'logits': array([-1.5299821], dtype=float32),\n",
       "  'probabilities': array([0.8220037 , 0.17799631], dtype=float32)},\n",
       " {'class_ids': array([0]),\n",
       "  'classes': array([b'0'], dtype=object),\n",
       "  'logistic': array([0.20529173], dtype=float32),\n",
       "  'logits': array([-1.353543], dtype=float32),\n",
       "  'probabilities': array([0.79470825, 0.20529172], dtype=float32)},\n",
       " {'class_ids': array([0]),\n",
       "  'classes': array([b'0'], dtype=object),\n",
       "  'logistic': array([0.45608255], dtype=float32),\n",
       "  'logits': array([-0.17612374], dtype=float32),\n",
       "  'probabilities': array([0.5439175 , 0.45608252], dtype=float32)},\n",
       " {'class_ids': array([0]),\n",
       "  'classes': array([b'0'], dtype=object),\n",
       "  'logistic': array([0.466907], dtype=float32),\n",
       "  'logits': array([-0.13256592], dtype=float32),\n",
       "  'probabilities': array([0.53309304, 0.46690696], dtype=float32)},\n",
       " {'class_ids': array([0]),\n",
       "  'classes': array([b'0'], dtype=object),\n",
       "  'logistic': array([0.13740785], dtype=float32),\n",
       "  'logits': array([-1.8369886], dtype=float32),\n",
       "  'probabilities': array([0.86259216, 0.13740785], dtype=float32)},\n",
       " {'class_ids': array([0]),\n",
       "  'classes': array([b'0'], dtype=object),\n",
       "  'logistic': array([0.3777804], dtype=float32),\n",
       "  'logits': array([-0.49898], dtype=float32),\n",
       "  'probabilities': array([0.6222196 , 0.37778038], dtype=float32)},\n",
       " {'class_ids': array([1]),\n",
       "  'classes': array([b'1'], dtype=object),\n",
       "  'logistic': array([0.66777843], dtype=float32),\n",
       "  'logits': array([0.69815433], dtype=float32),\n",
       "  'probabilities': array([0.33222157, 0.66777843], dtype=float32)},\n",
       " {'class_ids': array([1]),\n",
       "  'classes': array([b'1'], dtype=object),\n",
       "  'logistic': array([0.52234924], dtype=float32),\n",
       "  'logits': array([0.08945656], dtype=float32),\n",
       "  'probabilities': array([0.47765076, 0.52234924], dtype=float32)},\n",
       " {'class_ids': array([0]),\n",
       "  'classes': array([b'0'], dtype=object),\n",
       "  'logistic': array([0.38277635], dtype=float32),\n",
       "  'logits': array([-0.47778052], dtype=float32),\n",
       "  'probabilities': array([0.6172237 , 0.38277635], dtype=float32)},\n",
       " {'class_ids': array([1]),\n",
       "  'classes': array([b'1'], dtype=object),\n",
       "  'logistic': array([0.5353225], dtype=float32),\n",
       "  'logits': array([0.14152563], dtype=float32),\n",
       "  'probabilities': array([0.46467754, 0.5353225 ], dtype=float32)},\n",
       " {'class_ids': array([0]),\n",
       "  'classes': array([b'0'], dtype=object),\n",
       "  'logistic': array([0.20617099], dtype=float32),\n",
       "  'logits': array([-1.3481622], dtype=float32),\n",
       "  'probabilities': array([0.793829, 0.206171], dtype=float32)},\n",
       " {'class_ids': array([0]),\n",
       "  'classes': array([b'0'], dtype=object),\n",
       "  'logistic': array([0.18891601], dtype=float32),\n",
       "  'logits': array([-1.457069], dtype=float32),\n",
       "  'probabilities': array([0.81108403, 0.18891603], dtype=float32)},\n",
       " {'class_ids': array([0]),\n",
       "  'classes': array([b'0'], dtype=object),\n",
       "  'logistic': array([0.13010702], dtype=float32),\n",
       "  'logits': array([-1.9000129], dtype=float32),\n",
       "  'probabilities': array([0.869893  , 0.13010703], dtype=float32)},\n",
       " {'class_ids': array([0]),\n",
       "  'classes': array([b'0'], dtype=object),\n",
       "  'logistic': array([0.24469435], dtype=float32),\n",
       "  'logits': array([-1.1271126], dtype=float32),\n",
       "  'probabilities': array([0.75530565, 0.24469434], dtype=float32)},\n",
       " {'class_ids': array([0]),\n",
       "  'classes': array([b'0'], dtype=object),\n",
       "  'logistic': array([0.46165624], dtype=float32),\n",
       "  'logits': array([-0.15367687], dtype=float32),\n",
       "  'probabilities': array([0.5383438, 0.4616562], dtype=float32)},\n",
       " {'class_ids': array([1]),\n",
       "  'classes': array([b'1'], dtype=object),\n",
       "  'logistic': array([0.6561025], dtype=float32),\n",
       "  'logits': array([0.6459732], dtype=float32),\n",
       "  'probabilities': array([0.34389752, 0.6561025 ], dtype=float32)},\n",
       " {'class_ids': array([0]),\n",
       "  'classes': array([b'0'], dtype=object),\n",
       "  'logistic': array([0.21984656], dtype=float32),\n",
       "  'logits': array([-1.2665608], dtype=float32),\n",
       "  'probabilities': array([0.78015345, 0.21984655], dtype=float32)},\n",
       " {'class_ids': array([0]),\n",
       "  'classes': array([b'0'], dtype=object),\n",
       "  'logistic': array([0.15331128], dtype=float32),\n",
       "  'logits': array([-1.7088627], dtype=float32),\n",
       "  'probabilities': array([0.8466887 , 0.15331128], dtype=float32)},\n",
       " {'class_ids': array([0]),\n",
       "  'classes': array([b'0'], dtype=object),\n",
       "  'logistic': array([0.38562503], dtype=float32),\n",
       "  'logits': array([-0.46574003], dtype=float32),\n",
       "  'probabilities': array([0.61437494, 0.385625  ], dtype=float32)},\n",
       " {'class_ids': array([0]),\n",
       "  'classes': array([b'0'], dtype=object),\n",
       "  'logistic': array([0.21521041], dtype=float32),\n",
       "  'logits': array([-1.2937995], dtype=float32),\n",
       "  'probabilities': array([0.78478956, 0.2152104 ], dtype=float32)},\n",
       " {'class_ids': array([0]),\n",
       "  'classes': array([b'0'], dtype=object),\n",
       "  'logistic': array([0.13862443], dtype=float32),\n",
       "  'logits': array([-1.8267622], dtype=float32),\n",
       "  'probabilities': array([0.86137563, 0.13862444], dtype=float32)},\n",
       " {'class_ids': array([0]),\n",
       "  'classes': array([b'0'], dtype=object),\n",
       "  'logistic': array([0.16789751], dtype=float32),\n",
       "  'logits': array([-1.6006019], dtype=float32),\n",
       "  'probabilities': array([0.8321025, 0.1678975], dtype=float32)},\n",
       " {'class_ids': array([0]),\n",
       "  'classes': array([b'0'], dtype=object),\n",
       "  'logistic': array([0.12305205], dtype=float32),\n",
       "  'logits': array([-1.9638402], dtype=float32),\n",
       "  'probabilities': array([0.87694794, 0.12305205], dtype=float32)},\n",
       " {'class_ids': array([0]),\n",
       "  'classes': array([b'0'], dtype=object),\n",
       "  'logistic': array([0.3400432], dtype=float32),\n",
       "  'logits': array([-0.6631019], dtype=float32),\n",
       "  'probabilities': array([0.6599569 , 0.34004316], dtype=float32)},\n",
       " {'class_ids': array([1]),\n",
       "  'classes': array([b'1'], dtype=object),\n",
       "  'logistic': array([0.74826854], dtype=float32),\n",
       "  'logits': array([1.0893989], dtype=float32),\n",
       "  'probabilities': array([0.2517315 , 0.74826854], dtype=float32)},\n",
       " {'class_ids': array([1]),\n",
       "  'classes': array([b'1'], dtype=object),\n",
       "  'logistic': array([0.75652516], dtype=float32),\n",
       "  'logits': array([1.1337223], dtype=float32),\n",
       "  'probabilities': array([0.24347481, 0.75652516], dtype=float32)},\n",
       " {'class_ids': array([1]),\n",
       "  'classes': array([b'1'], dtype=object),\n",
       "  'logistic': array([0.52660114], dtype=float32),\n",
       "  'logits': array([0.10650504], dtype=float32),\n",
       "  'probabilities': array([0.47339886, 0.52660114], dtype=float32)},\n",
       " {'class_ids': array([0]),\n",
       "  'classes': array([b'0'], dtype=object),\n",
       "  'logistic': array([0.4776427], dtype=float32),\n",
       "  'logits': array([-0.08948898], dtype=float32),\n",
       "  'probabilities': array([0.5223573 , 0.47764266], dtype=float32)},\n",
       " {'class_ids': array([1]),\n",
       "  'classes': array([b'1'], dtype=object),\n",
       "  'logistic': array([0.5321282], dtype=float32),\n",
       "  'logits': array([0.12869012], dtype=float32),\n",
       "  'probabilities': array([0.4678718, 0.5321282], dtype=float32)},\n",
       " {'class_ids': array([0]),\n",
       "  'classes': array([b'0'], dtype=object),\n",
       "  'logistic': array([0.1100696], dtype=float32),\n",
       "  'logits': array([-2.0900304], dtype=float32),\n",
       "  'probabilities': array([0.8899304, 0.1100696], dtype=float32)},\n",
       " {'class_ids': array([1]),\n",
       "  'classes': array([b'1'], dtype=object),\n",
       "  'logistic': array([0.5153999], dtype=float32),\n",
       "  'logits': array([0.06161892], dtype=float32),\n",
       "  'probabilities': array([0.48460016, 0.5153999 ], dtype=float32)},\n",
       " {'class_ids': array([1]),\n",
       "  'classes': array([b'1'], dtype=object),\n",
       "  'logistic': array([0.73686445], dtype=float32),\n",
       "  'logits': array([1.0297348], dtype=float32),\n",
       "  'probabilities': array([0.2631355 , 0.73686445], dtype=float32)},\n",
       " {'class_ids': array([0]),\n",
       "  'classes': array([b'0'], dtype=object),\n",
       "  'logistic': array([0.41351637], dtype=float32),\n",
       "  'logits': array([-0.34944767], dtype=float32),\n",
       "  'probabilities': array([0.58648366, 0.41351637], dtype=float32)},\n",
       " {'class_ids': array([0]),\n",
       "  'classes': array([b'0'], dtype=object),\n",
       "  'logistic': array([0.25713888], dtype=float32),\n",
       "  'logits': array([-1.0608927], dtype=float32),\n",
       "  'probabilities': array([0.74286115, 0.2571389 ], dtype=float32)},\n",
       " {'class_ids': array([0]),\n",
       "  'classes': array([b'0'], dtype=object),\n",
       "  'logistic': array([0.36361644], dtype=float32),\n",
       "  'logits': array([-0.5597019], dtype=float32),\n",
       "  'probabilities': array([0.63638353, 0.36361644], dtype=float32)},\n",
       " {'class_ids': array([1]),\n",
       "  'classes': array([b'1'], dtype=object),\n",
       "  'logistic': array([0.5662309], dtype=float32),\n",
       "  'logits': array([0.2664895], dtype=float32),\n",
       "  'probabilities': array([0.4337691, 0.5662309], dtype=float32)},\n",
       " {'class_ids': array([0]),\n",
       "  'classes': array([b'0'], dtype=object),\n",
       "  'logistic': array([0.22498232], dtype=float32),\n",
       "  'logits': array([-1.236864], dtype=float32),\n",
       "  'probabilities': array([0.7750176 , 0.22498232], dtype=float32)},\n",
       " {'class_ids': array([1]),\n",
       "  'classes': array([b'1'], dtype=object),\n",
       "  'logistic': array([0.6122332], dtype=float32),\n",
       "  'logits': array([0.45670938], dtype=float32),\n",
       "  'probabilities': array([0.38776672, 0.6122332 ], dtype=float32)},\n",
       " {'class_ids': array([0]),\n",
       "  'classes': array([b'0'], dtype=object),\n",
       "  'logistic': array([0.38917175], dtype=float32),\n",
       "  'logits': array([-0.45079505], dtype=float32),\n",
       "  'probabilities': array([0.6108282 , 0.38917172], dtype=float32)},\n",
       " {'class_ids': array([0]),\n",
       "  'classes': array([b'0'], dtype=object),\n",
       "  'logistic': array([0.39766368], dtype=float32),\n",
       "  'logits': array([-0.4152094], dtype=float32),\n",
       "  'probabilities': array([0.60233635, 0.39766365], dtype=float32)},\n",
       " {'class_ids': array([0]),\n",
       "  'classes': array([b'0'], dtype=object),\n",
       "  'logistic': array([0.15480968], dtype=float32),\n",
       "  'logits': array([-1.6973653], dtype=float32),\n",
       "  'probabilities': array([0.84519035, 0.1548097 ], dtype=float32)},\n",
       " {'class_ids': array([0]),\n",
       "  'classes': array([b'0'], dtype=object),\n",
       "  'logistic': array([0.17970641], dtype=float32),\n",
       "  'logits': array([-1.5183378], dtype=float32),\n",
       "  'probabilities': array([0.8202936 , 0.17970641], dtype=float32)},\n",
       " {'class_ids': array([0]),\n",
       "  'classes': array([b'0'], dtype=object),\n",
       "  'logistic': array([0.17418832], dtype=float32),\n",
       "  'logits': array([-1.5562298], dtype=float32),\n",
       "  'probabilities': array([0.8258117, 0.1741883], dtype=float32)},\n",
       " {'class_ids': array([0]),\n",
       "  'classes': array([b'0'], dtype=object),\n",
       "  'logistic': array([0.40604395], dtype=float32),\n",
       "  'logits': array([-0.38034397], dtype=float32),\n",
       "  'probabilities': array([0.59395605, 0.40604392], dtype=float32)},\n",
       " {'class_ids': array([0]),\n",
       "  'classes': array([b'0'], dtype=object),\n",
       "  'logistic': array([0.14336354], dtype=float32),\n",
       "  'logits': array([-1.7876301], dtype=float32),\n",
       "  'probabilities': array([0.8566365 , 0.14336354], dtype=float32)},\n",
       " {'class_ids': array([1]),\n",
       "  'classes': array([b'1'], dtype=object),\n",
       "  'logistic': array([0.69907546], dtype=float32),\n",
       "  'logits': array([0.8428992], dtype=float32),\n",
       "  'probabilities': array([0.30092454, 0.69907546], dtype=float32)},\n",
       " {'class_ids': array([0]),\n",
       "  'classes': array([b'0'], dtype=object),\n",
       "  'logistic': array([0.1859125], dtype=float32),\n",
       "  'logits': array([-1.4767917], dtype=float32),\n",
       "  'probabilities': array([0.81408745, 0.18591249], dtype=float32)},\n",
       " {'class_ids': array([0]),\n",
       "  'classes': array([b'0'], dtype=object),\n",
       "  'logistic': array([0.47600475], dtype=float32),\n",
       "  'logits': array([-0.09605479], dtype=float32),\n",
       "  'probabilities': array([0.5239952 , 0.47600475], dtype=float32)},\n",
       " {'class_ids': array([0]),\n",
       "  'classes': array([b'0'], dtype=object),\n",
       "  'logistic': array([0.14697021], dtype=float32),\n",
       "  'logits': array([-1.7585645], dtype=float32),\n",
       "  'probabilities': array([0.8530298 , 0.14697021], dtype=float32)},\n",
       " {'class_ids': array([1]),\n",
       "  'classes': array([b'1'], dtype=object),\n",
       "  'logistic': array([0.6516088], dtype=float32),\n",
       "  'logits': array([0.6261184], dtype=float32),\n",
       "  'probabilities': array([0.34839118, 0.6516088 ], dtype=float32)},\n",
       " {'class_ids': array([0]),\n",
       "  'classes': array([b'0'], dtype=object),\n",
       "  'logistic': array([0.2881912], dtype=float32),\n",
       "  'logits': array([-0.9041851], dtype=float32),\n",
       "  'probabilities': array([0.7118088, 0.2881912], dtype=float32)},\n",
       " {'class_ids': array([0]),\n",
       "  'classes': array([b'0'], dtype=object),\n",
       "  'logistic': array([0.17687073], dtype=float32),\n",
       "  'logits': array([-1.5376942], dtype=float32),\n",
       "  'probabilities': array([0.8231293 , 0.17687073], dtype=float32)},\n",
       " {'class_ids': array([0]),\n",
       "  'classes': array([b'0'], dtype=object),\n",
       "  'logistic': array([0.3317785], dtype=float32),\n",
       "  'logits': array([-0.70015204], dtype=float32),\n",
       "  'probabilities': array([0.6682215, 0.3317785], dtype=float32)},\n",
       " {'class_ids': array([0]),\n",
       "  'classes': array([b'0'], dtype=object),\n",
       "  'logistic': array([0.30555725], dtype=float32),\n",
       "  'logits': array([-0.8209725], dtype=float32),\n",
       "  'probabilities': array([0.69444275, 0.30555725], dtype=float32)},\n",
       " {'class_ids': array([0]),\n",
       "  'classes': array([b'0'], dtype=object),\n",
       "  'logistic': array([0.15162456], dtype=float32),\n",
       "  'logits': array([-1.7219158], dtype=float32),\n",
       "  'probabilities': array([0.84837544, 0.15162455], dtype=float32)},\n",
       " {'class_ids': array([1]),\n",
       "  'classes': array([b'1'], dtype=object),\n",
       "  'logistic': array([0.688629], dtype=float32),\n",
       "  'logits': array([0.7937174], dtype=float32),\n",
       "  'probabilities': array([0.311371, 0.688629], dtype=float32)},\n",
       " {'class_ids': array([0]),\n",
       "  'classes': array([b'0'], dtype=object),\n",
       "  'logistic': array([0.17499107], dtype=float32),\n",
       "  'logits': array([-1.5506593], dtype=float32),\n",
       "  'probabilities': array([0.8250089 , 0.17499106], dtype=float32)},\n",
       " {'class_ids': array([0]),\n",
       "  'classes': array([b'0'], dtype=object),\n",
       "  'logistic': array([0.15252669], dtype=float32),\n",
       "  'logits': array([-1.7149198], dtype=float32),\n",
       "  'probabilities': array([0.8474733 , 0.15252669], dtype=float32)},\n",
       " {'class_ids': array([0]),\n",
       "  'classes': array([b'0'], dtype=object),\n",
       "  'logistic': array([0.26139095], dtype=float32),\n",
       "  'logits': array([-1.0387515], dtype=float32),\n",
       "  'probabilities': array([0.738609  , 0.26139095], dtype=float32)},\n",
       " {'class_ids': array([0]),\n",
       "  'classes': array([b'0'], dtype=object),\n",
       "  'logistic': array([0.4155401], dtype=float32),\n",
       "  'logits': array([-0.34110904], dtype=float32),\n",
       "  'probabilities': array([0.5844599 , 0.41554013], dtype=float32)},\n",
       " {'class_ids': array([0]),\n",
       "  'classes': array([b'0'], dtype=object),\n",
       "  'logistic': array([0.24343176], dtype=float32),\n",
       "  'logits': array([-1.1339561], dtype=float32),\n",
       "  'probabilities': array([0.75656825, 0.24343178], dtype=float32)},\n",
       " {'class_ids': array([0]),\n",
       "  'classes': array([b'0'], dtype=object),\n",
       "  'logistic': array([0.11678314], dtype=float32),\n",
       "  'logits': array([-2.023252], dtype=float32),\n",
       "  'probabilities': array([0.88321686, 0.11678314], dtype=float32)},\n",
       " {'class_ids': array([1]),\n",
       "  'classes': array([b'1'], dtype=object),\n",
       "  'logistic': array([0.80061436], dtype=float32),\n",
       "  'logits': array([1.3901381], dtype=float32),\n",
       "  'probabilities': array([0.1993857 , 0.80061436], dtype=float32)},\n",
       " {'class_ids': array([1]),\n",
       "  'classes': array([b'1'], dtype=object),\n",
       "  'logistic': array([0.6447972], dtype=float32),\n",
       "  'logits': array([0.5962471], dtype=float32),\n",
       "  'probabilities': array([0.35520273, 0.6447972 ], dtype=float32)},\n",
       " {'class_ids': array([1]),\n",
       "  'classes': array([b'1'], dtype=object),\n",
       "  'logistic': array([0.5155332], dtype=float32),\n",
       "  'logits': array([0.06215274], dtype=float32),\n",
       "  'probabilities': array([0.48446682, 0.5155332 ], dtype=float32)},\n",
       " {'class_ids': array([1]),\n",
       "  'classes': array([b'1'], dtype=object),\n",
       "  'logistic': array([0.7175225], dtype=float32),\n",
       "  'logits': array([0.93220544], dtype=float32),\n",
       "  'probabilities': array([0.2824775, 0.7175225], dtype=float32)},\n",
       " {'class_ids': array([0]),\n",
       "  'classes': array([b'0'], dtype=object),\n",
       "  'logistic': array([0.11211515], dtype=float32),\n",
       "  'logits': array([-2.0693157], dtype=float32),\n",
       "  'probabilities': array([0.88788486, 0.11211514], dtype=float32)},\n",
       " {'class_ids': array([0]),\n",
       "  'classes': array([b'0'], dtype=object),\n",
       "  'logistic': array([0.13863492], dtype=float32),\n",
       "  'logits': array([-1.8266745], dtype=float32),\n",
       "  'probabilities': array([0.8613651 , 0.13863492], dtype=float32)},\n",
       " {'class_ids': array([0]),\n",
       "  'classes': array([b'0'], dtype=object),\n",
       "  'logistic': array([0.20128104], dtype=float32),\n",
       "  'logits': array([-1.378307], dtype=float32),\n",
       "  'probabilities': array([0.7987189 , 0.20128103], dtype=float32)},\n",
       " {'class_ids': array([0]),\n",
       "  'classes': array([b'0'], dtype=object),\n",
       "  'logistic': array([0.30652082], dtype=float32),\n",
       "  'logits': array([-0.8164356], dtype=float32),\n",
       "  'probabilities': array([0.6934792, 0.3065208], dtype=float32)},\n",
       " {'class_ids': array([0]),\n",
       "  'classes': array([b'0'], dtype=object),\n",
       "  'logistic': array([0.34171727], dtype=float32),\n",
       "  'logits': array([-0.65565085], dtype=float32),\n",
       "  'probabilities': array([0.6582827 , 0.34171727], dtype=float32)},\n",
       " {'class_ids': array([1]),\n",
       "  'classes': array([b'1'], dtype=object),\n",
       "  'logistic': array([0.55248404], dtype=float32),\n",
       "  'logits': array([0.2107122], dtype=float32),\n",
       "  'probabilities': array([0.44751602, 0.55248404], dtype=float32)},\n",
       " {'class_ids': array([1]),\n",
       "  'classes': array([b'1'], dtype=object),\n",
       "  'logistic': array([0.52496207], dtype=float32),\n",
       "  'logits': array([0.09993124], dtype=float32),\n",
       "  'probabilities': array([0.47503796, 0.52496207], dtype=float32)},\n",
       " {'class_ids': array([0]),\n",
       "  'classes': array([b'0'], dtype=object),\n",
       "  'logistic': array([0.36810526], dtype=float32),\n",
       "  'logits': array([-0.5403539], dtype=float32),\n",
       "  'probabilities': array([0.6318947 , 0.36810526], dtype=float32)},\n",
       " {'class_ids': array([0]),\n",
       "  'classes': array([b'0'], dtype=object),\n",
       "  'logistic': array([0.3523705], dtype=float32),\n",
       "  'logits': array([-0.60863566], dtype=float32),\n",
       "  'probabilities': array([0.64762956, 0.3523705 ], dtype=float32)},\n",
       " {'class_ids': array([0]),\n",
       "  'classes': array([b'0'], dtype=object),\n",
       "  'logistic': array([0.33919662], dtype=float32),\n",
       "  'logits': array([-0.66687644], dtype=float32),\n",
       "  'probabilities': array([0.6608034, 0.3391966], dtype=float32)},\n",
       " {'class_ids': array([0]),\n",
       "  'classes': array([b'0'], dtype=object),\n",
       "  'logistic': array([0.1701797], dtype=float32),\n",
       "  'logits': array([-1.5843543], dtype=float32),\n",
       "  'probabilities': array([0.82982033, 0.1701797 ], dtype=float32)},\n",
       " {'class_ids': array([1]),\n",
       "  'classes': array([b'1'], dtype=object),\n",
       "  'logistic': array([0.6215977], dtype=float32),\n",
       "  'logits': array([0.49633527], dtype=float32),\n",
       "  'probabilities': array([0.37840226, 0.6215977 ], dtype=float32)},\n",
       " {'class_ids': array([0]),\n",
       "  'classes': array([b'0'], dtype=object),\n",
       "  'logistic': array([0.12761213], dtype=float32),\n",
       "  'logits': array([-1.9222388], dtype=float32),\n",
       "  'probabilities': array([0.8723879 , 0.12761211], dtype=float32)},\n",
       " {'class_ids': array([0]),\n",
       "  'classes': array([b'0'], dtype=object),\n",
       "  'logistic': array([0.2391194], dtype=float32),\n",
       "  'logits': array([-1.1575134], dtype=float32),\n",
       "  'probabilities': array([0.7608806, 0.2391194], dtype=float32)},\n",
       " {'class_ids': array([1]),\n",
       "  'classes': array([b'1'], dtype=object),\n",
       "  'logistic': array([0.5347502], dtype=float32),\n",
       "  'logits': array([0.13922536], dtype=float32),\n",
       "  'probabilities': array([0.46524978, 0.5347502 ], dtype=float32)},\n",
       " {'class_ids': array([0]),\n",
       "  'classes': array([b'0'], dtype=object),\n",
       "  'logistic': array([0.34101295], dtype=float32),\n",
       "  'logits': array([-0.6587833], dtype=float32),\n",
       "  'probabilities': array([0.658987  , 0.34101295], dtype=float32)},\n",
       " {'class_ids': array([0]),\n",
       "  'classes': array([b'0'], dtype=object),\n",
       "  'logistic': array([0.16977409], dtype=float32),\n",
       "  'logits': array([-1.5872293], dtype=float32),\n",
       "  'probabilities': array([0.83022594, 0.16977409], dtype=float32)},\n",
       " {'class_ids': array([0]),\n",
       "  'classes': array([b'0'], dtype=object),\n",
       "  'logistic': array([0.2588525], dtype=float32),\n",
       "  'logits': array([-1.0519412], dtype=float32),\n",
       "  'probabilities': array([0.74114746, 0.2588525 ], dtype=float32)},\n",
       " {'class_ids': array([0]),\n",
       "  'classes': array([b'0'], dtype=object),\n",
       "  'logistic': array([0.23816212], dtype=float32),\n",
       "  'logits': array([-1.1627822], dtype=float32),\n",
       "  'probabilities': array([0.7618379 , 0.23816213], dtype=float32)},\n",
       " {'class_ids': array([0]),\n",
       "  'classes': array([b'0'], dtype=object),\n",
       "  'logistic': array([0.13335282], dtype=float32),\n",
       "  'logits': array([-1.8716335], dtype=float32),\n",
       "  'probabilities': array([0.8666472, 0.1333528], dtype=float32)},\n",
       " {'class_ids': array([0]),\n",
       "  'classes': array([b'0'], dtype=object),\n",
       "  'logistic': array([0.17718981], dtype=float32),\n",
       "  'logits': array([-1.535504], dtype=float32),\n",
       "  'probabilities': array([0.8228102, 0.1771898], dtype=float32)},\n",
       " {'class_ids': array([1]),\n",
       "  'classes': array([b'1'], dtype=object),\n",
       "  'logistic': array([0.5585615], dtype=float32),\n",
       "  'logits': array([0.23532605], dtype=float32),\n",
       "  'probabilities': array([0.4414385, 0.5585615], dtype=float32)},\n",
       " {'class_ids': array([1]),\n",
       "  'classes': array([b'1'], dtype=object),\n",
       "  'logistic': array([0.6473996], dtype=float32),\n",
       "  'logits': array([0.60762846], dtype=float32),\n",
       "  'probabilities': array([0.35260034, 0.6473996 ], dtype=float32)},\n",
       " {'class_ids': array([1]),\n",
       "  'classes': array([b'1'], dtype=object),\n",
       "  'logistic': array([0.59829444], dtype=float32),\n",
       "  'logits': array([0.3983636], dtype=float32),\n",
       "  'probabilities': array([0.40170556, 0.59829444], dtype=float32)},\n",
       " {'class_ids': array([1]),\n",
       "  'classes': array([b'1'], dtype=object),\n",
       "  'logistic': array([0.67560273], dtype=float32),\n",
       "  'logits': array([0.7336364], dtype=float32),\n",
       "  'probabilities': array([0.32439727, 0.67560273], dtype=float32)},\n",
       " {'class_ids': array([0]),\n",
       "  'classes': array([b'0'], dtype=object),\n",
       "  'logistic': array([0.42067426], dtype=float32),\n",
       "  'logits': array([-0.32000607], dtype=float32),\n",
       "  'probabilities': array([0.57932574, 0.42067426], dtype=float32)},\n",
       " {'class_ids': array([0]),\n",
       "  'classes': array([b'0'], dtype=object),\n",
       "  'logistic': array([0.28350705], dtype=float32),\n",
       "  'logits': array([-0.9271315], dtype=float32),\n",
       "  'probabilities': array([0.71649295, 0.28350705], dtype=float32)},\n",
       " {'class_ids': array([0]),\n",
       "  'classes': array([b'0'], dtype=object),\n",
       "  'logistic': array([0.4923656], dtype=float32),\n",
       "  'logits': array([-0.03053999], dtype=float32),\n",
       "  'probabilities': array([0.5076344 , 0.49236557], dtype=float32)},\n",
       " {'class_ids': array([0]),\n",
       "  'classes': array([b'0'], dtype=object),\n",
       "  'logistic': array([0.16639233], dtype=float32),\n",
       "  'logits': array([-1.6114144], dtype=float32),\n",
       "  'probabilities': array([0.8336077 , 0.16639233], dtype=float32)},\n",
       " {'class_ids': array([0]),\n",
       "  'classes': array([b'0'], dtype=object),\n",
       "  'logistic': array([0.14194505], dtype=float32),\n",
       "  'logits': array([-1.7992282], dtype=float32),\n",
       "  'probabilities': array([0.858055  , 0.14194503], dtype=float32)},\n",
       " {'class_ids': array([0]),\n",
       "  'classes': array([b'0'], dtype=object),\n",
       "  'logistic': array([0.17283116], dtype=float32),\n",
       "  'logits': array([-1.5656936], dtype=float32),\n",
       "  'probabilities': array([0.8271688 , 0.17283116], dtype=float32)},\n",
       " {'class_ids': array([0]),\n",
       "  'classes': array([b'0'], dtype=object),\n",
       "  'logistic': array([0.47253907], dtype=float32),\n",
       "  'logits': array([-0.10995448], dtype=float32),\n",
       "  'probabilities': array([0.52746093, 0.47253904], dtype=float32)},\n",
       " {'class_ids': array([0]),\n",
       "  'classes': array([b'0'], dtype=object),\n",
       "  'logistic': array([0.06170819], dtype=float32),\n",
       "  'logits': array([-2.7216444], dtype=float32),\n",
       "  'probabilities': array([0.9382918 , 0.06170819], dtype=float32)},\n",
       " {'class_ids': array([0]),\n",
       "  'classes': array([b'0'], dtype=object),\n",
       "  'logistic': array([0.26500678], dtype=float32),\n",
       "  'logits': array([-1.020106], dtype=float32),\n",
       "  'probabilities': array([0.7349932 , 0.26500678], dtype=float32)},\n",
       " {'class_ids': array([0]),\n",
       "  'classes': array([b'0'], dtype=object),\n",
       "  'logistic': array([0.15045737], dtype=float32),\n",
       "  'logits': array([-1.7310183], dtype=float32),\n",
       "  'probabilities': array([0.8495426 , 0.15045737], dtype=float32)},\n",
       " {'class_ids': array([0]),\n",
       "  'classes': array([b'0'], dtype=object),\n",
       "  'logistic': array([0.24866697], dtype=float32),\n",
       "  'logits': array([-1.1057345], dtype=float32),\n",
       "  'probabilities': array([0.75133306, 0.24866697], dtype=float32)},\n",
       " {'class_ids': array([0]),\n",
       "  'classes': array([b'0'], dtype=object),\n",
       "  'logistic': array([0.22130147], dtype=float32),\n",
       "  'logits': array([-1.2580981], dtype=float32),\n",
       "  'probabilities': array([0.77869856, 0.22130145], dtype=float32)},\n",
       " {'class_ids': array([0]),\n",
       "  'classes': array([b'0'], dtype=object),\n",
       "  'logistic': array([0.25874767], dtype=float32),\n",
       "  'logits': array([-1.0524879], dtype=float32),\n",
       "  'probabilities': array([0.74125236, 0.25874767], dtype=float32)},\n",
       " {'class_ids': array([1]),\n",
       "  'classes': array([b'1'], dtype=object),\n",
       "  'logistic': array([0.7595911], dtype=float32),\n",
       "  'logits': array([1.150439], dtype=float32),\n",
       "  'probabilities': array([0.24040891, 0.7595911 ], dtype=float32)},\n",
       " {'class_ids': array([0]),\n",
       "  'classes': array([b'0'], dtype=object),\n",
       "  'logistic': array([0.1705687], dtype=float32),\n",
       "  'logits': array([-1.5816021], dtype=float32),\n",
       "  'probabilities': array([0.82943135, 0.17056872], dtype=float32)},\n",
       " {'class_ids': array([0]),\n",
       "  'classes': array([b'0'], dtype=object),\n",
       "  'logistic': array([0.11966607], dtype=float32),\n",
       "  'logits': array([-1.9955962], dtype=float32),\n",
       "  'probabilities': array([0.88033396, 0.11966608], dtype=float32)},\n",
       " {'class_ids': array([1]),\n",
       "  'classes': array([b'1'], dtype=object),\n",
       "  'logistic': array([0.55451417], dtype=float32),\n",
       "  'logits': array([0.2189269], dtype=float32),\n",
       "  'probabilities': array([0.44548586, 0.55451417], dtype=float32)},\n",
       " {'class_ids': array([0]),\n",
       "  'classes': array([b'0'], dtype=object),\n",
       "  'logistic': array([0.4419585], dtype=float32),\n",
       "  'logits': array([-0.23321742], dtype=float32),\n",
       "  'probabilities': array([0.5580415, 0.4419585], dtype=float32)},\n",
       " {'class_ids': array([1]),\n",
       "  'classes': array([b'1'], dtype=object),\n",
       "  'logistic': array([0.83278966], dtype=float32),\n",
       "  'logits': array([1.6055288], dtype=float32),\n",
       "  'probabilities': array([0.1672103 , 0.83278966], dtype=float32)},\n",
       " {'class_ids': array([1]),\n",
       "  'classes': array([b'1'], dtype=object),\n",
       "  'logistic': array([0.5954887], dtype=float32),\n",
       "  'logits': array([0.38670278], dtype=float32),\n",
       "  'probabilities': array([0.4045113, 0.5954887], dtype=float32)},\n",
       " {'class_ids': array([0]),\n",
       "  'classes': array([b'0'], dtype=object),\n",
       "  'logistic': array([0.12298471], dtype=float32),\n",
       "  'logits': array([-1.9644644], dtype=float32),\n",
       "  'probabilities': array([0.87701523, 0.1229847 ], dtype=float32)},\n",
       " {'class_ids': array([1]),\n",
       "  'classes': array([b'1'], dtype=object),\n",
       "  'logistic': array([0.61036146], dtype=float32),\n",
       "  'logits': array([0.44883192], dtype=float32),\n",
       "  'probabilities': array([0.3896385 , 0.61036146], dtype=float32)},\n",
       " {'class_ids': array([1]),\n",
       "  'classes': array([b'1'], dtype=object),\n",
       "  'logistic': array([0.5171262], dtype=float32),\n",
       "  'logits': array([0.06853163], dtype=float32),\n",
       "  'probabilities': array([0.48287377, 0.5171262 ], dtype=float32)},\n",
       " {'class_ids': array([1]),\n",
       "  'classes': array([b'1'], dtype=object),\n",
       "  'logistic': array([0.7411922], dtype=float32),\n",
       "  'logits': array([1.0521743], dtype=float32),\n",
       "  'probabilities': array([0.25880778, 0.7411922 ], dtype=float32)},\n",
       " {'class_ids': array([0]),\n",
       "  'classes': array([b'0'], dtype=object),\n",
       "  'logistic': array([0.22279903], dtype=float32),\n",
       "  'logits': array([-1.2494289], dtype=float32),\n",
       "  'probabilities': array([0.77720094, 0.22279902], dtype=float32)},\n",
       " {'class_ids': array([0]),\n",
       "  'classes': array([b'0'], dtype=object),\n",
       "  'logistic': array([0.16473539], dtype=float32),\n",
       "  'logits': array([-1.6234081], dtype=float32),\n",
       "  'probabilities': array([0.8352646 , 0.16473539], dtype=float32)},\n",
       " {'class_ids': array([1]),\n",
       "  'classes': array([b'1'], dtype=object),\n",
       "  'logistic': array([0.5424189], dtype=float32),\n",
       "  'logits': array([0.17008448], dtype=float32),\n",
       "  'probabilities': array([0.45758107, 0.5424189 ], dtype=float32)},\n",
       " {'class_ids': array([0]),\n",
       "  'classes': array([b'0'], dtype=object),\n",
       "  'logistic': array([0.14252551], dtype=float32),\n",
       "  'logits': array([-1.7944704], dtype=float32),\n",
       "  'probabilities': array([0.8574745 , 0.14252551], dtype=float32)},\n",
       " {'class_ids': array([1]),\n",
       "  'classes': array([b'1'], dtype=object),\n",
       "  'logistic': array([0.76927596], dtype=float32),\n",
       "  'logits': array([1.2042272], dtype=float32),\n",
       "  'probabilities': array([0.23072408, 0.76927596], dtype=float32)},\n",
       " {'class_ids': array([0]),\n",
       "  'classes': array([b'0'], dtype=object),\n",
       "  'logistic': array([0.49601713], dtype=float32),\n",
       "  'logits': array([-0.01593184], dtype=float32),\n",
       "  'probabilities': array([0.5039829 , 0.49601713], dtype=float32)},\n",
       " {'class_ids': array([0]),\n",
       "  'classes': array([b'0'], dtype=object),\n",
       "  'logistic': array([0.16986345], dtype=float32),\n",
       "  'logits': array([-1.5865953], dtype=float32),\n",
       "  'probabilities': array([0.83013654, 0.16986345], dtype=float32)},\n",
       " {'class_ids': array([1]),\n",
       "  'classes': array([b'1'], dtype=object),\n",
       "  'logistic': array([0.5460585], dtype=float32),\n",
       "  'logits': array([0.18475759], dtype=float32),\n",
       "  'probabilities': array([0.45394158, 0.5460585 ], dtype=float32)},\n",
       " {'class_ids': array([0]),\n",
       "  'classes': array([b'0'], dtype=object),\n",
       "  'logistic': array([0.45103058], dtype=float32),\n",
       "  'logits': array([-0.19650757], dtype=float32),\n",
       "  'probabilities': array([0.5489694 , 0.45103058], dtype=float32)},\n",
       " {'class_ids': array([0]),\n",
       "  'classes': array([b'0'], dtype=object),\n",
       "  'logistic': array([0.10282472], dtype=float32),\n",
       "  'logits': array([-2.1662254], dtype=float32),\n",
       "  'probabilities': array([0.8971753 , 0.10282473], dtype=float32)},\n",
       " {'class_ids': array([0]),\n",
       "  'classes': array([b'0'], dtype=object),\n",
       "  'logistic': array([0.497589], dtype=float32),\n",
       "  'logits': array([-0.00964427], dtype=float32),\n",
       "  'probabilities': array([0.50241107, 0.49758896], dtype=float32)},\n",
       " {'class_ids': array([1]),\n",
       "  'classes': array([b'1'], dtype=object),\n",
       "  'logistic': array([0.5881046], dtype=float32),\n",
       "  'logits': array([0.3561356], dtype=float32),\n",
       "  'probabilities': array([0.41189533, 0.5881046 ], dtype=float32)},\n",
       " {'class_ids': array([1]),\n",
       "  'classes': array([b'1'], dtype=object),\n",
       "  'logistic': array([0.7207176], dtype=float32),\n",
       "  'logits': array([0.94802403], dtype=float32),\n",
       "  'probabilities': array([0.27928236, 0.7207176 ], dtype=float32)},\n",
       " {'class_ids': array([1]),\n",
       "  'classes': array([b'1'], dtype=object),\n",
       "  'logistic': array([0.79941523], dtype=float32),\n",
       "  'logits': array([1.3826437], dtype=float32),\n",
       "  'probabilities': array([0.20058474, 0.79941523], dtype=float32)},\n",
       " {'class_ids': array([0]),\n",
       "  'classes': array([b'0'], dtype=object),\n",
       "  'logistic': array([0.3976149], dtype=float32),\n",
       "  'logits': array([-0.41541302], dtype=float32),\n",
       "  'probabilities': array([0.6023851 , 0.39761493], dtype=float32)},\n",
       " {'class_ids': array([0]),\n",
       "  'classes': array([b'0'], dtype=object),\n",
       "  'logistic': array([0.151291], dtype=float32),\n",
       "  'logits': array([-1.7245113], dtype=float32),\n",
       "  'probabilities': array([0.848709, 0.151291], dtype=float32)},\n",
       " {'class_ids': array([0]),\n",
       "  'classes': array([b'0'], dtype=object),\n",
       "  'logistic': array([0.08740347], dtype=float32),\n",
       "  'logits': array([-2.345759], dtype=float32),\n",
       "  'probabilities': array([0.9125965 , 0.08740347], dtype=float32)},\n",
       " {'class_ids': array([0]),\n",
       "  'classes': array([b'0'], dtype=object),\n",
       "  'logistic': array([0.10628358], dtype=float32),\n",
       "  'logits': array([-2.1292777], dtype=float32),\n",
       "  'probabilities': array([0.8937164 , 0.10628358], dtype=float32)},\n",
       " {'class_ids': array([0]),\n",
       "  'classes': array([b'0'], dtype=object),\n",
       "  'logistic': array([0.23264217], dtype=float32),\n",
       "  'logits': array([-1.1934518], dtype=float32),\n",
       "  'probabilities': array([0.7673579 , 0.23264216], dtype=float32)},\n",
       " {'class_ids': array([0]),\n",
       "  'classes': array([b'0'], dtype=object),\n",
       "  'logistic': array([0.29359832], dtype=float32),\n",
       "  'logits': array([-0.8779714], dtype=float32),\n",
       "  'probabilities': array([0.70640165, 0.29359832], dtype=float32)},\n",
       " {'class_ids': array([0]),\n",
       "  'classes': array([b'0'], dtype=object),\n",
       "  'logistic': array([0.24317586], dtype=float32),\n",
       "  'logits': array([-1.1353459], dtype=float32),\n",
       "  'probabilities': array([0.7568241 , 0.24317586], dtype=float32)}]"
      ]
     },
     "execution_count": 28,
     "metadata": {},
     "output_type": "execute_result"
    }
   ],
   "source": [
    "my_pred"
   ]
  },
  {
   "cell_type": "markdown",
   "metadata": {},
   "source": [
    "### DNN model"
   ]
  },
  {
   "cell_type": "code",
   "execution_count": 40,
   "metadata": {
    "ExecuteTime": {
     "end_time": "2018-10-25T12:35:23.898223Z",
     "start_time": "2018-10-25T12:35:23.891544Z"
    }
   },
   "outputs": [
    {
     "name": "stdout",
     "output_type": "stream",
     "text": [
      "INFO:tensorflow:Using default config.\n",
      "WARNING:tensorflow:Using temporary folder as model directory: /tmp/tmpd_tpj9aj\n",
      "INFO:tensorflow:Using config: {'_session_config': None, '_num_ps_replicas': 0, '_save_summary_steps': 100, '_num_worker_replicas': 1, '_cluster_spec': <tensorflow.python.training.server_lib.ClusterSpec object at 0x7fd4ddd75e10>, '_keep_checkpoint_max': 5, '_task_id': 0, '_global_id_in_cluster': 0, '_train_distribute': None, '_model_dir': '/tmp/tmpd_tpj9aj', '_is_chief': True, '_task_type': 'worker', '_keep_checkpoint_every_n_hours': 10000, '_evaluation_master': '', '_service': None, '_save_checkpoints_steps': None, '_log_step_count_steps': 100, '_save_checkpoints_secs': 600, '_tf_random_seed': None, '_master': ''}\n"
     ]
    }
   ],
   "source": [
    "dnn_model = tf.estimator.DNNClassifier(hidden_units=[10,20,20,10,10],\n",
    "                                      feature_columns = feat_cols,\n",
    "                                      n_classes = 2)"
   ]
  },
  {
   "cell_type": "markdown",
   "metadata": {},
   "source": [
    "#### Error due to categorical col"
   ]
  },
  {
   "cell_type": "code",
   "execution_count": 41,
   "metadata": {
    "ExecuteTime": {
     "end_time": "2018-10-25T12:35:26.965673Z",
     "start_time": "2018-10-25T12:35:25.516541Z"
    }
   },
   "outputs": [
    {
     "name": "stdout",
     "output_type": "stream",
     "text": [
      "INFO:tensorflow:Calling model_fn.\n",
      "INFO:tensorflow:Done calling model_fn.\n",
      "INFO:tensorflow:Create CheckpointSaverHook.\n",
      "INFO:tensorflow:Graph was finalized.\n",
      "INFO:tensorflow:Running local_init_op.\n",
      "INFO:tensorflow:Done running local_init_op.\n",
      "INFO:tensorflow:Saving checkpoints for 1 into /tmp/tmpd_tpj9aj/model.ckpt.\n",
      "INFO:tensorflow:step = 0, loss = 6.8205233\n",
      "INFO:tensorflow:Loss for final step: 6.8205233.\n"
     ]
    },
    {
     "data": {
      "text/plain": [
       "<tensorflow.python.estimator.canned.dnn.DNNClassifier at 0x7fd4ddd75b70>"
      ]
     },
     "execution_count": 41,
     "metadata": {},
     "output_type": "execute_result"
    }
   ],
   "source": [
    "dnn_model.train(input_fn=input_func,steps =1)"
   ]
  },
  {
   "cell_type": "code",
   "execution_count": 42,
   "metadata": {
    "ExecuteTime": {
     "end_time": "2018-10-25T12:35:34.814392Z",
     "start_time": "2018-10-25T12:35:34.811903Z"
    }
   },
   "outputs": [],
   "source": [
    "embedded_group_col = tf.feature_column.embedding_column(assigned_group,dimension=4)"
   ]
  },
  {
   "cell_type": "code",
   "execution_count": 43,
   "metadata": {
    "ExecuteTime": {
     "end_time": "2018-10-25T12:35:36.075014Z",
     "start_time": "2018-10-25T12:35:36.072596Z"
    }
   },
   "outputs": [],
   "source": [
    "feat_cols = [num_preg ,plasma_gluc,dias_press ,tricep ,insulin,bmi,diabetes_pedigree ,embedded_group_col, age_buckets]"
   ]
  },
  {
   "cell_type": "code",
   "execution_count": 44,
   "metadata": {
    "ExecuteTime": {
     "end_time": "2018-10-25T12:35:37.171352Z",
     "start_time": "2018-10-25T12:35:37.167211Z"
    }
   },
   "outputs": [],
   "source": [
    "input_func = tf.estimator.inputs.pandas_input_fn(X_train,y_train,\n",
    "                                                batch_size=10, \n",
    "                                                 num_epochs=1000, \n",
    "                                                 shuffle=True)"
   ]
  },
  {
   "cell_type": "code",
   "execution_count": 45,
   "metadata": {
    "ExecuteTime": {
     "end_time": "2018-10-25T12:35:50.437859Z",
     "start_time": "2018-10-25T12:35:50.427005Z"
    }
   },
   "outputs": [
    {
     "name": "stdout",
     "output_type": "stream",
     "text": [
      "INFO:tensorflow:Using default config.\n",
      "WARNING:tensorflow:Using temporary folder as model directory: /tmp/tmppnqqcedu\n",
      "INFO:tensorflow:Using config: {'_session_config': None, '_num_ps_replicas': 0, '_save_summary_steps': 100, '_num_worker_replicas': 1, '_cluster_spec': <tensorflow.python.training.server_lib.ClusterSpec object at 0x7fd512415320>, '_keep_checkpoint_max': 5, '_task_id': 0, '_global_id_in_cluster': 0, '_train_distribute': None, '_model_dir': '/tmp/tmppnqqcedu', '_is_chief': True, '_task_type': 'worker', '_keep_checkpoint_every_n_hours': 10000, '_evaluation_master': '', '_service': None, '_save_checkpoints_steps': None, '_log_step_count_steps': 100, '_save_checkpoints_secs': 600, '_tf_random_seed': None, '_master': ''}\n"
     ]
    }
   ],
   "source": [
    "dnn_model = tf.estimator.DNNClassifier(hidden_units=[10,20,20,10,10],\n",
    "                                      feature_columns = feat_cols,\n",
    "                                      n_classes = 2)"
   ]
  },
  {
   "cell_type": "code",
   "execution_count": 46,
   "metadata": {
    "ExecuteTime": {
     "end_time": "2018-10-25T12:35:57.368400Z",
     "start_time": "2018-10-25T12:35:51.343002Z"
    }
   },
   "outputs": [
    {
     "name": "stdout",
     "output_type": "stream",
     "text": [
      "INFO:tensorflow:Calling model_fn.\n",
      "INFO:tensorflow:Done calling model_fn.\n",
      "INFO:tensorflow:Create CheckpointSaverHook.\n",
      "INFO:tensorflow:Graph was finalized.\n",
      "INFO:tensorflow:Running local_init_op.\n",
      "INFO:tensorflow:Done running local_init_op.\n",
      "INFO:tensorflow:Saving checkpoints for 1 into /tmp/tmppnqqcedu/model.ckpt.\n",
      "INFO:tensorflow:step = 0, loss = 6.8724174\n",
      "INFO:tensorflow:global_step/sec: 198.426\n",
      "INFO:tensorflow:step = 100, loss = 6.946891 (0.505 sec)\n",
      "INFO:tensorflow:global_step/sec: 269.477\n",
      "INFO:tensorflow:step = 200, loss = 4.852857 (0.371 sec)\n",
      "INFO:tensorflow:global_step/sec: 261.698\n",
      "INFO:tensorflow:step = 300, loss = 4.9862375 (0.382 sec)\n",
      "INFO:tensorflow:global_step/sec: 267.257\n",
      "INFO:tensorflow:step = 400, loss = 7.2137213 (0.374 sec)\n",
      "INFO:tensorflow:global_step/sec: 261.117\n",
      "INFO:tensorflow:step = 500, loss = 2.9511461 (0.383 sec)\n",
      "INFO:tensorflow:global_step/sec: 262.097\n",
      "INFO:tensorflow:step = 600, loss = 5.4292464 (0.382 sec)\n",
      "INFO:tensorflow:global_step/sec: 258.121\n",
      "INFO:tensorflow:step = 700, loss = 4.92635 (0.387 sec)\n",
      "INFO:tensorflow:global_step/sec: 257.585\n",
      "INFO:tensorflow:step = 800, loss = 3.2335515 (0.388 sec)\n",
      "INFO:tensorflow:global_step/sec: 260.534\n",
      "INFO:tensorflow:step = 900, loss = 2.6312575 (0.384 sec)\n",
      "INFO:tensorflow:Saving checkpoints for 1000 into /tmp/tmppnqqcedu/model.ckpt.\n",
      "INFO:tensorflow:Loss for final step: 1.8021296.\n"
     ]
    },
    {
     "data": {
      "text/plain": [
       "<tensorflow.python.estimator.canned.dnn.DNNClassifier at 0x7fd512415b38>"
      ]
     },
     "execution_count": 46,
     "metadata": {},
     "output_type": "execute_result"
    }
   ],
   "source": [
    "dnn_model.train(input_fn=input_func,steps=1000)"
   ]
  },
  {
   "cell_type": "code",
   "execution_count": 47,
   "metadata": {
    "ExecuteTime": {
     "end_time": "2018-10-25T12:36:07.539204Z",
     "start_time": "2018-10-25T12:36:07.533054Z"
    }
   },
   "outputs": [],
   "source": [
    "eval_input_func = tf.estimator.inputs.pandas_input_fn(x = X_test,\n",
    "                                                      y = y_test,\n",
    "                                                      batch_size=10,\n",
    "                                                      num_epochs=1,\n",
    "                                                      shuffle=False,)"
   ]
  },
  {
   "cell_type": "code",
   "execution_count": 48,
   "metadata": {
    "ExecuteTime": {
     "end_time": "2018-10-25T12:36:10.567885Z",
     "start_time": "2018-10-25T12:36:08.929357Z"
    }
   },
   "outputs": [
    {
     "name": "stdout",
     "output_type": "stream",
     "text": [
      "INFO:tensorflow:Calling model_fn.\n",
      "WARNING:tensorflow:Trapezoidal rule is known to produce incorrect PR-AUCs; please switch to \"careful_interpolation\" instead.\n",
      "WARNING:tensorflow:Trapezoidal rule is known to produce incorrect PR-AUCs; please switch to \"careful_interpolation\" instead.\n",
      "INFO:tensorflow:Done calling model_fn.\n",
      "INFO:tensorflow:Starting evaluation at 2018-10-25-12:36:09\n",
      "INFO:tensorflow:Graph was finalized.\n",
      "INFO:tensorflow:Restoring parameters from /tmp/tmppnqqcedu/model.ckpt-1000\n",
      "INFO:tensorflow:Running local_init_op.\n",
      "INFO:tensorflow:Done running local_init_op.\n",
      "INFO:tensorflow:Finished evaluation at 2018-10-25-12:36:10\n",
      "INFO:tensorflow:Saving dict for global step 1000: accuracy = 0.7322835, accuracy_baseline = 0.65748036, auc = 0.8176062, auc_precision_recall = 0.66303146, average_loss = 0.5102718, global_step = 1000, label/mean = 0.34251967, loss = 4.984963, precision = 0.60215056, prediction/mean = 0.36774978, recall = 0.6436782\n"
     ]
    },
    {
     "data": {
      "text/plain": [
       "{'accuracy': 0.7322835,\n",
       " 'accuracy_baseline': 0.65748036,\n",
       " 'auc': 0.8176062,\n",
       " 'auc_precision_recall': 0.66303146,\n",
       " 'average_loss': 0.5102718,\n",
       " 'global_step': 1000,\n",
       " 'label/mean': 0.34251967,\n",
       " 'loss': 4.984963,\n",
       " 'precision': 0.60215056,\n",
       " 'prediction/mean': 0.36774978,\n",
       " 'recall': 0.6436782}"
      ]
     },
     "execution_count": 48,
     "metadata": {},
     "output_type": "execute_result"
    }
   ],
   "source": [
    "dnn_model.evaluate(eval_input_func)"
   ]
  },
  {
   "cell_type": "code",
   "execution_count": null,
   "metadata": {},
   "outputs": [],
   "source": []
  }
 ],
 "metadata": {
  "kernelspec": {
   "display_name": "Python 3",
   "language": "python",
   "name": "python3"
  },
  "language_info": {
   "codemirror_mode": {
    "name": "ipython",
    "version": 3
   },
   "file_extension": ".py",
   "mimetype": "text/x-python",
   "name": "python",
   "nbconvert_exporter": "python",
   "pygments_lexer": "ipython3",
   "version": "3.5.2"
  }
 },
 "nbformat": 4,
 "nbformat_minor": 2
}
