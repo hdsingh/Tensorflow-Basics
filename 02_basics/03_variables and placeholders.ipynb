{
 "cells": [
  {
   "cell_type": "code",
   "execution_count": 2,
   "metadata": {
    "ExecuteTime": {
     "end_time": "2018-10-24T09:11:28.988434Z",
     "start_time": "2018-10-24T09:11:28.981069Z"
    }
   },
   "outputs": [],
   "source": [
    "import tensorflow as tf;"
   ]
  },
  {
   "cell_type": "code",
   "execution_count": 3,
   "metadata": {
    "ExecuteTime": {
     "end_time": "2018-10-24T09:11:46.865907Z",
     "start_time": "2018-10-24T09:11:46.512949Z"
    }
   },
   "outputs": [],
   "source": [
    "sess = tf.InteractiveSession()"
   ]
  },
  {
   "cell_type": "code",
   "execution_count": 24,
   "metadata": {
    "ExecuteTime": {
     "end_time": "2018-10-24T09:21:04.444569Z",
     "start_time": "2018-10-24T09:21:04.426262Z"
    }
   },
   "outputs": [],
   "source": [
    "my_tensor = tf.random_uniform((4,4),0,3)"
   ]
  },
  {
   "cell_type": "code",
   "execution_count": 25,
   "metadata": {
    "ExecuteTime": {
     "end_time": "2018-10-24T09:21:04.590364Z",
     "start_time": "2018-10-24T09:21:04.576149Z"
    }
   },
   "outputs": [
    {
     "data": {
      "text/plain": [
       "<tf.Tensor 'random_uniform_1:0' shape=(4, 4) dtype=float32>"
      ]
     },
     "execution_count": 25,
     "metadata": {},
     "output_type": "execute_result"
    }
   ],
   "source": [
    "my_tensor"
   ]
  },
  {
   "cell_type": "code",
   "execution_count": 26,
   "metadata": {
    "ExecuteTime": {
     "end_time": "2018-10-24T09:21:04.715972Z",
     "start_time": "2018-10-24T09:21:04.696819Z"
    }
   },
   "outputs": [],
   "source": [
    "my_var = tf.Variable(initial_value = my_tensor)"
   ]
  },
  {
   "cell_type": "code",
   "execution_count": 27,
   "metadata": {
    "ExecuteTime": {
     "end_time": "2018-10-24T09:21:04.808361Z",
     "start_time": "2018-10-24T09:21:04.801099Z"
    }
   },
   "outputs": [
    {
     "name": "stdout",
     "output_type": "stream",
     "text": [
      "<tf.Variable 'Variable_5:0' shape=(4, 4) dtype=float32_ref>\n"
     ]
    }
   ],
   "source": [
    "print(my_var)"
   ]
  },
  {
   "cell_type": "code",
   "execution_count": 28,
   "metadata": {
    "ExecuteTime": {
     "end_time": "2018-10-24T09:21:04.920962Z",
     "start_time": "2018-10-24T09:21:04.918522Z"
    }
   },
   "outputs": [],
   "source": [
    "#sess.run(my_var)"
   ]
  },
  {
   "cell_type": "code",
   "execution_count": 29,
   "metadata": {
    "ExecuteTime": {
     "end_time": "2018-10-24T09:21:05.034446Z",
     "start_time": "2018-10-24T09:21:05.030596Z"
    }
   },
   "outputs": [],
   "source": [
    "init = tf.global_variables_initializer()"
   ]
  },
  {
   "cell_type": "code",
   "execution_count": 30,
   "metadata": {
    "ExecuteTime": {
     "end_time": "2018-10-24T09:21:05.174675Z",
     "start_time": "2018-10-24T09:21:05.158411Z"
    }
   },
   "outputs": [],
   "source": [
    "sess.run(init)"
   ]
  },
  {
   "cell_type": "code",
   "execution_count": 31,
   "metadata": {
    "ExecuteTime": {
     "end_time": "2018-10-24T09:21:05.662642Z",
     "start_time": "2018-10-24T09:21:05.649797Z"
    }
   },
   "outputs": [
    {
     "data": {
      "text/plain": [
       "array([[1.322534  , 2.5613246 , 0.73813605, 1.6155242 ],\n",
       "       [2.5857697 , 0.591239  , 0.409436  , 1.2811893 ],\n",
       "       [1.3019618 , 0.06218326, 0.7186439 , 1.2548504 ],\n",
       "       [1.7473454 , 1.9122427 , 2.5289748 , 2.7779925 ]], dtype=float32)"
      ]
     },
     "execution_count": 31,
     "metadata": {},
     "output_type": "execute_result"
    }
   ],
   "source": [
    "sess.run(my_var)"
   ]
  },
  {
   "cell_type": "markdown",
   "metadata": {},
   "source": [
    "## PlaceHolder"
   ]
  },
  {
   "cell_type": "code",
   "execution_count": 34,
   "metadata": {
    "ExecuteTime": {
     "end_time": "2018-10-24T09:23:10.781418Z",
     "start_time": "2018-10-24T09:23:10.764122Z"
    }
   },
   "outputs": [],
   "source": [
    "ph = tf.placeholder(tf.float32,shape=(None,4))"
   ]
  },
  {
   "cell_type": "code",
   "execution_count": null,
   "metadata": {},
   "outputs": [],
   "source": []
  }
 ],
 "metadata": {
  "kernelspec": {
   "display_name": "Python 3",
   "language": "python",
   "name": "python3"
  },
  "language_info": {
   "codemirror_mode": {
    "name": "ipython",
    "version": 3
   },
   "file_extension": ".py",
   "mimetype": "text/x-python",
   "name": "python",
   "nbconvert_exporter": "python",
   "pygments_lexer": "ipython3",
   "version": "3.5.2"
  }
 },
 "nbformat": 4,
 "nbformat_minor": 2
}
