{
 "cells": [
  {
   "cell_type": "markdown",
   "metadata": {
    "collapsed": true
   },
   "source": [
    "# Classification Exercise"
   ]
  },
  {
   "cell_type": "markdown",
   "metadata": {},
   "source": [
    "We'll be working with some California Census Data, we'll be trying to use various features of an individual to predict what class of income they belogn in (>50k or <=50k). \n",
    "\n",
    "Here is some information about the data:"
   ]
  },
  {
   "cell_type": "markdown",
   "metadata": {},
   "source": [
    "<table>\n",
    "<thead>\n",
    "<tr>\n",
    "<th>Column Name</th>\n",
    "<th>Type</th>\n",
    "<th>Description</th>\n",
    "</tr>\n",
    "</thead>\n",
    "<tbody>\n",
    "<tr>\n",
    "<td>age</td>\n",
    "<td>Continuous</td>\n",
    "<td>The age of the individual</td>\n",
    "</tr>\n",
    "<tr>\n",
    "<td>workclass</td>\n",
    "<td>Categorical</td>\n",
    "<td>The type of employer the  individual has (government,  military, private, etc.).</td>\n",
    "</tr>\n",
    "<tr>\n",
    "<td>fnlwgt</td>\n",
    "<td>Continuous</td>\n",
    "<td>The number of people the census  takers believe that observation  represents (sample weight). This  variable will not be used.</td>\n",
    "</tr>\n",
    "<tr>\n",
    "<td>education</td>\n",
    "<td>Categorical</td>\n",
    "<td>The highest level of education  achieved for that individual.</td>\n",
    "</tr>\n",
    "<tr>\n",
    "<td>education_num</td>\n",
    "<td>Continuous</td>\n",
    "<td>The highest level of education in  numerical form.</td>\n",
    "</tr>\n",
    "<tr>\n",
    "<td>marital_status</td>\n",
    "<td>Categorical</td>\n",
    "<td>Marital status of the individual.</td>\n",
    "</tr>\n",
    "<tr>\n",
    "<td>occupation</td>\n",
    "<td>Categorical</td>\n",
    "<td>The occupation of the individual.</td>\n",
    "</tr>\n",
    "<tr>\n",
    "<td>relationship</td>\n",
    "<td>Categorical</td>\n",
    "<td>Wife, Own-child, Husband,  Not-in-family, Other-relative,  Unmarried.</td>\n",
    "</tr>\n",
    "<tr>\n",
    "<td>race</td>\n",
    "<td>Categorical</td>\n",
    "<td>White, Asian-Pac-Islander,  Amer-Indian-Eskimo, Other, Black.</td>\n",
    "</tr>\n",
    "<tr>\n",
    "<td>gender</td>\n",
    "<td>Categorical</td>\n",
    "<td>Female, Male.</td>\n",
    "</tr>\n",
    "<tr>\n",
    "<td>capital_gain</td>\n",
    "<td>Continuous</td>\n",
    "<td>Capital gains recorded.</td>\n",
    "</tr>\n",
    "<tr>\n",
    "<td>capital_loss</td>\n",
    "<td>Continuous</td>\n",
    "<td>Capital Losses recorded.</td>\n",
    "</tr>\n",
    "<tr>\n",
    "<td>hours_per_week</td>\n",
    "<td>Continuous</td>\n",
    "<td>Hours worked per week.</td>\n",
    "</tr>\n",
    "<tr>\n",
    "<td>native_country</td>\n",
    "<td>Categorical</td>\n",
    "<td>Country of origin of the  individual.</td>\n",
    "</tr>\n",
    "<tr>\n",
    "<td>income</td>\n",
    "<td>Categorical</td>\n",
    "<td>\"&gt;50K\" or \"&lt;=50K\", meaning  whether the person makes more  than \\$50,000 annually.</td>\n",
    "</tr>\n",
    "</tbody>\n",
    "</table>"
   ]
  },
  {
   "cell_type": "markdown",
   "metadata": {},
   "source": [
    "## Follow the Directions in Bold. If you get stuck, check out the solutions lecture."
   ]
  },
  {
   "cell_type": "markdown",
   "metadata": {},
   "source": [
    "### THE DATA"
   ]
  },
  {
   "cell_type": "markdown",
   "metadata": {},
   "source": [
    "** Read in the census_data.csv data with pandas**"
   ]
  },
  {
   "cell_type": "code",
   "execution_count": 1,
   "metadata": {
    "ExecuteTime": {
     "end_time": "2018-10-25T13:40:36.376659Z",
     "start_time": "2018-10-25T13:40:36.163035Z"
    }
   },
   "outputs": [],
   "source": [
    "import pandas as pd"
   ]
  },
  {
   "cell_type": "code",
   "execution_count": 2,
   "metadata": {
    "ExecuteTime": {
     "end_time": "2018-10-25T13:41:11.010580Z",
     "start_time": "2018-10-25T13:41:10.948578Z"
    }
   },
   "outputs": [],
   "source": [
    "census = pd.read_csv('/home/hdsingh/Desktop/AI/Tensorflow-Bootcamp-master/02-TensorFlow-Basics/census_data.csv')"
   ]
  },
  {
   "cell_type": "code",
   "execution_count": 3,
   "metadata": {
    "ExecuteTime": {
     "end_time": "2018-10-25T13:41:17.745653Z",
     "start_time": "2018-10-25T13:41:17.724429Z"
    }
   },
   "outputs": [
    {
     "data": {
      "text/html": [
       "<div>\n",
       "<style scoped>\n",
       "    .dataframe tbody tr th:only-of-type {\n",
       "        vertical-align: middle;\n",
       "    }\n",
       "\n",
       "    .dataframe tbody tr th {\n",
       "        vertical-align: top;\n",
       "    }\n",
       "\n",
       "    .dataframe thead th {\n",
       "        text-align: right;\n",
       "    }\n",
       "</style>\n",
       "<table border=\"1\" class=\"dataframe\">\n",
       "  <thead>\n",
       "    <tr style=\"text-align: right;\">\n",
       "      <th></th>\n",
       "      <th>age</th>\n",
       "      <th>workclass</th>\n",
       "      <th>education</th>\n",
       "      <th>education_num</th>\n",
       "      <th>marital_status</th>\n",
       "      <th>occupation</th>\n",
       "      <th>relationship</th>\n",
       "      <th>race</th>\n",
       "      <th>gender</th>\n",
       "      <th>capital_gain</th>\n",
       "      <th>capital_loss</th>\n",
       "      <th>hours_per_week</th>\n",
       "      <th>native_country</th>\n",
       "      <th>income_bracket</th>\n",
       "    </tr>\n",
       "  </thead>\n",
       "  <tbody>\n",
       "    <tr>\n",
       "      <th>0</th>\n",
       "      <td>39</td>\n",
       "      <td>State-gov</td>\n",
       "      <td>Bachelors</td>\n",
       "      <td>13</td>\n",
       "      <td>Never-married</td>\n",
       "      <td>Adm-clerical</td>\n",
       "      <td>Not-in-family</td>\n",
       "      <td>White</td>\n",
       "      <td>Male</td>\n",
       "      <td>2174</td>\n",
       "      <td>0</td>\n",
       "      <td>40</td>\n",
       "      <td>United-States</td>\n",
       "      <td>&lt;=50K</td>\n",
       "    </tr>\n",
       "    <tr>\n",
       "      <th>1</th>\n",
       "      <td>50</td>\n",
       "      <td>Self-emp-not-inc</td>\n",
       "      <td>Bachelors</td>\n",
       "      <td>13</td>\n",
       "      <td>Married-civ-spouse</td>\n",
       "      <td>Exec-managerial</td>\n",
       "      <td>Husband</td>\n",
       "      <td>White</td>\n",
       "      <td>Male</td>\n",
       "      <td>0</td>\n",
       "      <td>0</td>\n",
       "      <td>13</td>\n",
       "      <td>United-States</td>\n",
       "      <td>&lt;=50K</td>\n",
       "    </tr>\n",
       "    <tr>\n",
       "      <th>2</th>\n",
       "      <td>38</td>\n",
       "      <td>Private</td>\n",
       "      <td>HS-grad</td>\n",
       "      <td>9</td>\n",
       "      <td>Divorced</td>\n",
       "      <td>Handlers-cleaners</td>\n",
       "      <td>Not-in-family</td>\n",
       "      <td>White</td>\n",
       "      <td>Male</td>\n",
       "      <td>0</td>\n",
       "      <td>0</td>\n",
       "      <td>40</td>\n",
       "      <td>United-States</td>\n",
       "      <td>&lt;=50K</td>\n",
       "    </tr>\n",
       "    <tr>\n",
       "      <th>3</th>\n",
       "      <td>53</td>\n",
       "      <td>Private</td>\n",
       "      <td>11th</td>\n",
       "      <td>7</td>\n",
       "      <td>Married-civ-spouse</td>\n",
       "      <td>Handlers-cleaners</td>\n",
       "      <td>Husband</td>\n",
       "      <td>Black</td>\n",
       "      <td>Male</td>\n",
       "      <td>0</td>\n",
       "      <td>0</td>\n",
       "      <td>40</td>\n",
       "      <td>United-States</td>\n",
       "      <td>&lt;=50K</td>\n",
       "    </tr>\n",
       "    <tr>\n",
       "      <th>4</th>\n",
       "      <td>28</td>\n",
       "      <td>Private</td>\n",
       "      <td>Bachelors</td>\n",
       "      <td>13</td>\n",
       "      <td>Married-civ-spouse</td>\n",
       "      <td>Prof-specialty</td>\n",
       "      <td>Wife</td>\n",
       "      <td>Black</td>\n",
       "      <td>Female</td>\n",
       "      <td>0</td>\n",
       "      <td>0</td>\n",
       "      <td>40</td>\n",
       "      <td>Cuba</td>\n",
       "      <td>&lt;=50K</td>\n",
       "    </tr>\n",
       "  </tbody>\n",
       "</table>\n",
       "</div>"
      ],
      "text/plain": [
       "   age          workclass   education  education_num       marital_status  \\\n",
       "0   39          State-gov   Bachelors             13        Never-married   \n",
       "1   50   Self-emp-not-inc   Bachelors             13   Married-civ-spouse   \n",
       "2   38            Private     HS-grad              9             Divorced   \n",
       "3   53            Private        11th              7   Married-civ-spouse   \n",
       "4   28            Private   Bachelors             13   Married-civ-spouse   \n",
       "\n",
       "           occupation    relationship    race   gender  capital_gain  \\\n",
       "0        Adm-clerical   Not-in-family   White     Male          2174   \n",
       "1     Exec-managerial         Husband   White     Male             0   \n",
       "2   Handlers-cleaners   Not-in-family   White     Male             0   \n",
       "3   Handlers-cleaners         Husband   Black     Male             0   \n",
       "4      Prof-specialty            Wife   Black   Female             0   \n",
       "\n",
       "   capital_loss  hours_per_week  native_country income_bracket  \n",
       "0             0              40   United-States          <=50K  \n",
       "1             0              13   United-States          <=50K  \n",
       "2             0              40   United-States          <=50K  \n",
       "3             0              40   United-States          <=50K  \n",
       "4             0              40            Cuba          <=50K  "
      ]
     },
     "execution_count": 3,
     "metadata": {},
     "output_type": "execute_result"
    }
   ],
   "source": [
    "census.head()"
   ]
  },
  {
   "cell_type": "markdown",
   "metadata": {},
   "source": [
    "** TensorFlow won't be able to understand strings as labels, you'll need to use pandas .apply() method to apply a custom function that converts them to 0s and 1s. This might be hard if you aren't very familiar with pandas, so feel free to take a peek at the solutions for this part.**\n",
    "\n",
    "** Convert the Label column to 0s and 1s instead of strings.**"
   ]
  },
  {
   "cell_type": "code",
   "execution_count": 4,
   "metadata": {
    "ExecuteTime": {
     "end_time": "2018-10-25T13:42:27.418276Z",
     "start_time": "2018-10-25T13:42:27.409634Z"
    }
   },
   "outputs": [
    {
     "data": {
      "text/plain": [
       "array([' <=50K', ' >50K'], dtype=object)"
      ]
     },
     "execution_count": 4,
     "metadata": {},
     "output_type": "execute_result"
    }
   ],
   "source": [
    "census['income_bracket'].unique()"
   ]
  },
  {
   "cell_type": "code",
   "execution_count": 5,
   "metadata": {
    "ExecuteTime": {
     "end_time": "2018-10-25T13:43:26.207257Z",
     "start_time": "2018-10-25T13:43:26.204406Z"
    }
   },
   "outputs": [],
   "source": [
    "def label_fix(label):\n",
    "    if label == '<=50K':\n",
    "        return 0\n",
    "    else:\n",
    "        return 1"
   ]
  },
  {
   "cell_type": "code",
   "execution_count": 6,
   "metadata": {
    "ExecuteTime": {
     "end_time": "2018-10-25T13:43:30.637822Z",
     "start_time": "2018-10-25T13:43:30.622880Z"
    }
   },
   "outputs": [],
   "source": [
    "census['income_bracket'] = census['income_bracket'].apply(label_fix)"
   ]
  },
  {
   "cell_type": "markdown",
   "metadata": {},
   "source": [
    "### Perform a Train Test Split on the Data"
   ]
  },
  {
   "cell_type": "code",
   "execution_count": 8,
   "metadata": {
    "ExecuteTime": {
     "end_time": "2018-10-25T13:44:04.266103Z",
     "start_time": "2018-10-25T13:44:04.038918Z"
    }
   },
   "outputs": [],
   "source": [
    "from sklearn.model_selection import train_test_split"
   ]
  },
  {
   "cell_type": "code",
   "execution_count": 9,
   "metadata": {
    "ExecuteTime": {
     "end_time": "2018-10-25T13:44:11.234662Z",
     "start_time": "2018-10-25T13:44:11.203002Z"
    }
   },
   "outputs": [],
   "source": [
    "x_data = census.drop('income_bracket',axis=1)\n",
    "y_labels = census['income_bracket']\n",
    "X_train, X_test, y_train, y_test = train_test_split(x_data,y_labels,test_size=0.3,random_state=101)"
   ]
  },
  {
   "cell_type": "markdown",
   "metadata": {},
   "source": [
    "### Create the Feature Columns for tf.esitmator\n",
    "\n",
    "** Take note of categorical vs continuous values! **"
   ]
  },
  {
   "cell_type": "code",
   "execution_count": 10,
   "metadata": {
    "ExecuteTime": {
     "end_time": "2018-10-25T13:44:18.780680Z",
     "start_time": "2018-10-25T13:44:18.769463Z"
    }
   },
   "outputs": [
    {
     "data": {
      "text/plain": [
       "Index(['age', 'workclass', 'education', 'education_num', 'marital_status',\n",
       "       'occupation', 'relationship', 'race', 'gender', 'capital_gain',\n",
       "       'capital_loss', 'hours_per_week', 'native_country', 'income_bracket'],\n",
       "      dtype='object')"
      ]
     },
     "execution_count": 10,
     "metadata": {},
     "output_type": "execute_result"
    }
   ],
   "source": [
    "census.columns"
   ]
  },
  {
   "cell_type": "markdown",
   "metadata": {},
   "source": [
    "** Import Tensorflow **"
   ]
  },
  {
   "cell_type": "code",
   "execution_count": 11,
   "metadata": {
    "ExecuteTime": {
     "end_time": "2018-10-25T13:44:28.083610Z",
     "start_time": "2018-10-25T13:44:27.484971Z"
    }
   },
   "outputs": [
    {
     "name": "stderr",
     "output_type": "stream",
     "text": [
      "/home/hdsingh/.local/lib/python3.5/site-packages/h5py/__init__.py:36: FutureWarning: Conversion of the second argument of issubdtype from `float` to `np.floating` is deprecated. In future, it will be treated as `np.float64 == np.dtype(float).type`.\n",
      "  from ._conv import register_converters as _register_converters\n"
     ]
    }
   ],
   "source": [
    "import tensorflow as tf"
   ]
  },
  {
   "cell_type": "markdown",
   "metadata": {
    "collapsed": true
   },
   "source": [
    "** Create the tf.feature_columns for the categorical values. Use vocabulary lists or just use hash buckets. **"
   ]
  },
  {
   "cell_type": "code",
   "execution_count": 12,
   "metadata": {
    "ExecuteTime": {
     "end_time": "2018-10-25T13:45:36.433915Z",
     "start_time": "2018-10-25T13:45:36.419871Z"
    }
   },
   "outputs": [],
   "source": [
    "gender = tf.feature_column.categorical_column_with_vocabulary_list(\"gender\", [\"Female\", \"Male\"])\n",
    "occupation = tf.feature_column.categorical_column_with_hash_bucket(\"occupation\", hash_bucket_size=1000)\n",
    "marital_status = tf.feature_column.categorical_column_with_hash_bucket(\"marital_status\", hash_bucket_size=1000)\n",
    "relationship = tf.feature_column.categorical_column_with_hash_bucket(\"relationship\", hash_bucket_size=1000)\n",
    "education = tf.feature_column.categorical_column_with_hash_bucket(\"education\", hash_bucket_size=1000)\n",
    "workclass = tf.feature_column.categorical_column_with_hash_bucket(\"workclass\", hash_bucket_size=1000)\n",
    "native_country = tf.feature_column.categorical_column_with_hash_bucket(\"native_country\", hash_bucket_size=1000)"
   ]
  },
  {
   "cell_type": "markdown",
   "metadata": {},
   "source": [
    "** Create the continuous feature_columns for the continuous values using numeric_column **"
   ]
  },
  {
   "cell_type": "code",
   "execution_count": 13,
   "metadata": {
    "ExecuteTime": {
     "end_time": "2018-10-25T13:46:30.230151Z",
     "start_time": "2018-10-25T13:46:30.224637Z"
    }
   },
   "outputs": [],
   "source": [
    "age = tf.feature_column.numeric_column(\"age\")\n",
    "education_num = tf.feature_column.numeric_column(\"education_num\")\n",
    "capital_gain = tf.feature_column.numeric_column(\"capital_gain\")\n",
    "capital_loss = tf.feature_column.numeric_column(\"capital_loss\")\n",
    "hours_per_week = tf.feature_column.numeric_column(\"hours_per_week\")"
   ]
  },
  {
   "cell_type": "markdown",
   "metadata": {},
   "source": [
    "** Put all these variables into a single list with the variable name feat_cols **"
   ]
  },
  {
   "cell_type": "code",
   "execution_count": 14,
   "metadata": {
    "ExecuteTime": {
     "end_time": "2018-10-25T13:46:46.159038Z",
     "start_time": "2018-10-25T13:46:46.153625Z"
    }
   },
   "outputs": [],
   "source": [
    "feat_cols = [gender,occupation,marital_status,relationship,education,workclass,native_country,\n",
    "            age,education_num,capital_gain,capital_loss,hours_per_week]"
   ]
  },
  {
   "cell_type": "markdown",
   "metadata": {},
   "source": [
    "### Create Input Function\n",
    "\n",
    "** Batch_size is up to you. But do make sure to shuffle!**"
   ]
  },
  {
   "cell_type": "code",
   "execution_count": 15,
   "metadata": {
    "ExecuteTime": {
     "end_time": "2018-10-25T13:46:54.269425Z",
     "start_time": "2018-10-25T13:46:54.264756Z"
    }
   },
   "outputs": [],
   "source": [
    "input_func=tf.estimator.inputs.pandas_input_fn(x=X_train,y=y_train,batch_size=100,num_epochs=None,shuffle=True)"
   ]
  },
  {
   "cell_type": "markdown",
   "metadata": {},
   "source": [
    "#### Create your model with tf.estimator\n",
    "\n",
    "**Create a LinearClassifier.(If you want to use a DNNClassifier, keep in mind you'll need to create embedded columns out of the cateogrical feature that use strings, check out the previous lecture on this for more info.)**"
   ]
  },
  {
   "cell_type": "code",
   "execution_count": 16,
   "metadata": {
    "ExecuteTime": {
     "end_time": "2018-10-25T13:47:18.811242Z",
     "start_time": "2018-10-25T13:47:18.795185Z"
    }
   },
   "outputs": [
    {
     "name": "stdout",
     "output_type": "stream",
     "text": [
      "INFO:tensorflow:Using default config.\n",
      "WARNING:tensorflow:Using temporary folder as model directory: /tmp/tmpiw6u550a\n",
      "INFO:tensorflow:Using config: {'_service': None, '_is_chief': True, '_keep_checkpoint_every_n_hours': 10000, '_task_id': 0, '_session_config': None, '_save_checkpoints_secs': 600, '_model_dir': '/tmp/tmpiw6u550a', '_master': '', '_train_distribute': None, '_task_type': 'worker', '_save_summary_steps': 100, '_evaluation_master': '', '_num_worker_replicas': 1, '_save_checkpoints_steps': None, '_num_ps_replicas': 0, '_global_id_in_cluster': 0, '_tf_random_seed': None, '_cluster_spec': <tensorflow.python.training.server_lib.ClusterSpec object at 0x7f9e10135a20>, '_log_step_count_steps': 100, '_keep_checkpoint_max': 5}\n"
     ]
    }
   ],
   "source": [
    "model = tf.estimator.LinearClassifier(feature_columns=feat_cols)"
   ]
  },
  {
   "cell_type": "markdown",
   "metadata": {},
   "source": [
    "** Train your model on the data, for at least 5000 steps. **"
   ]
  },
  {
   "cell_type": "code",
   "execution_count": 17,
   "metadata": {
    "ExecuteTime": {
     "end_time": "2018-10-25T13:47:56.548089Z",
     "start_time": "2018-10-25T13:47:26.483816Z"
    },
    "scrolled": true
   },
   "outputs": [
    {
     "name": "stdout",
     "output_type": "stream",
     "text": [
      "INFO:tensorflow:Calling model_fn.\n",
      "INFO:tensorflow:Done calling model_fn.\n",
      "INFO:tensorflow:Create CheckpointSaverHook.\n",
      "INFO:tensorflow:Graph was finalized.\n",
      "INFO:tensorflow:Running local_init_op.\n",
      "INFO:tensorflow:Done running local_init_op.\n",
      "INFO:tensorflow:Saving checkpoints for 1 into /tmp/tmpiw6u550a/model.ckpt.\n",
      "INFO:tensorflow:loss = 69.31472, step = 0\n",
      "INFO:tensorflow:global_step/sec: 117.537\n",
      "INFO:tensorflow:loss = 0.0003013537, step = 100 (0.851 sec)\n",
      "INFO:tensorflow:global_step/sec: 179.92\n",
      "INFO:tensorflow:loss = 0.00022339223, step = 200 (0.556 sec)\n",
      "INFO:tensorflow:global_step/sec: 190.78\n",
      "INFO:tensorflow:loss = 0.000722178, step = 300 (0.524 sec)\n",
      "INFO:tensorflow:global_step/sec: 193.444\n",
      "INFO:tensorflow:loss = 0.00063527917, step = 400 (0.517 sec)\n",
      "INFO:tensorflow:global_step/sec: 181.585\n",
      "INFO:tensorflow:loss = 0.00055552484, step = 500 (0.551 sec)\n",
      "INFO:tensorflow:global_step/sec: 173.519\n",
      "INFO:tensorflow:loss = 0.0008786389, step = 600 (0.576 sec)\n",
      "INFO:tensorflow:global_step/sec: 191.39\n",
      "INFO:tensorflow:loss = 0.00033584554, step = 700 (0.524 sec)\n",
      "INFO:tensorflow:global_step/sec: 175.953\n",
      "INFO:tensorflow:loss = 0.00029146255, step = 800 (0.567 sec)\n",
      "INFO:tensorflow:global_step/sec: 191.672\n",
      "INFO:tensorflow:loss = 8.249138e-05, step = 900 (0.521 sec)\n",
      "INFO:tensorflow:global_step/sec: 190.097\n",
      "INFO:tensorflow:loss = 0.00019482891, step = 1000 (0.526 sec)\n",
      "INFO:tensorflow:global_step/sec: 189.212\n",
      "INFO:tensorflow:loss = 0.00011402182, step = 1100 (0.528 sec)\n",
      "INFO:tensorflow:global_step/sec: 183.51\n",
      "INFO:tensorflow:loss = 0.0004957618, step = 1200 (0.545 sec)\n",
      "INFO:tensorflow:global_step/sec: 187.339\n",
      "INFO:tensorflow:loss = 0.00019999237, step = 1300 (0.534 sec)\n",
      "INFO:tensorflow:global_step/sec: 179.976\n",
      "INFO:tensorflow:loss = 0.00014478785, step = 1400 (0.556 sec)\n",
      "INFO:tensorflow:global_step/sec: 188.614\n",
      "INFO:tensorflow:loss = 9.2253205e-05, step = 1500 (0.530 sec)\n",
      "INFO:tensorflow:global_step/sec: 193.646\n",
      "INFO:tensorflow:loss = 9.6164666e-05, step = 1600 (0.516 sec)\n",
      "INFO:tensorflow:global_step/sec: 185.294\n",
      "INFO:tensorflow:loss = 0.00025698473, step = 1700 (0.540 sec)\n",
      "INFO:tensorflow:global_step/sec: 188.061\n",
      "INFO:tensorflow:loss = 8.115097e-05, step = 1800 (0.532 sec)\n",
      "INFO:tensorflow:global_step/sec: 188.664\n",
      "INFO:tensorflow:loss = 0.0006946219, step = 1900 (0.530 sec)\n",
      "INFO:tensorflow:global_step/sec: 185.911\n",
      "INFO:tensorflow:loss = 0.00050617836, step = 2000 (0.538 sec)\n",
      "INFO:tensorflow:global_step/sec: 190.683\n",
      "INFO:tensorflow:loss = 0.00056437287, step = 2100 (0.525 sec)\n",
      "INFO:tensorflow:global_step/sec: 195.368\n",
      "INFO:tensorflow:loss = 0.0006146072, step = 2200 (0.512 sec)\n",
      "INFO:tensorflow:global_step/sec: 181.808\n",
      "INFO:tensorflow:loss = 0.00029572277, step = 2300 (0.550 sec)\n",
      "INFO:tensorflow:global_step/sec: 174.882\n",
      "INFO:tensorflow:loss = 0.000722469, step = 2400 (0.572 sec)\n",
      "INFO:tensorflow:global_step/sec: 192.421\n",
      "INFO:tensorflow:loss = 7.357206e-05, step = 2500 (0.519 sec)\n",
      "INFO:tensorflow:global_step/sec: 188.714\n",
      "INFO:tensorflow:loss = 5.5292345e-05, step = 2600 (0.530 sec)\n",
      "INFO:tensorflow:global_step/sec: 192.248\n",
      "INFO:tensorflow:loss = 0.0002532056, step = 2700 (0.520 sec)\n",
      "INFO:tensorflow:global_step/sec: 190.785\n",
      "INFO:tensorflow:loss = 0.00049571105, step = 2800 (0.524 sec)\n",
      "INFO:tensorflow:global_step/sec: 154.811\n",
      "INFO:tensorflow:loss = 0.00071479985, step = 2900 (0.646 sec)\n",
      "INFO:tensorflow:global_step/sec: 178.927\n",
      "INFO:tensorflow:loss = 0.00016216857, step = 3000 (0.559 sec)\n",
      "INFO:tensorflow:global_step/sec: 191.575\n",
      "INFO:tensorflow:loss = 2.7554472e-05, step = 3100 (0.522 sec)\n",
      "INFO:tensorflow:global_step/sec: 192.842\n",
      "INFO:tensorflow:loss = 4.2165833e-05, step = 3200 (0.518 sec)\n",
      "INFO:tensorflow:global_step/sec: 184.001\n",
      "INFO:tensorflow:loss = 0.0004906848, step = 3300 (0.543 sec)\n",
      "INFO:tensorflow:global_step/sec: 189.161\n",
      "INFO:tensorflow:loss = 0.00043172477, step = 3400 (0.529 sec)\n",
      "INFO:tensorflow:global_step/sec: 191.051\n",
      "INFO:tensorflow:loss = 4.6164878e-05, step = 3500 (0.523 sec)\n",
      "INFO:tensorflow:global_step/sec: 191.077\n",
      "INFO:tensorflow:loss = 0.00025334966, step = 3600 (0.523 sec)\n",
      "INFO:tensorflow:global_step/sec: 194.412\n",
      "INFO:tensorflow:loss = 5.4051237e-05, step = 3700 (0.514 sec)\n",
      "INFO:tensorflow:global_step/sec: 182.433\n",
      "INFO:tensorflow:loss = 0.00015186446, step = 3800 (0.548 sec)\n",
      "INFO:tensorflow:global_step/sec: 184.541\n",
      "INFO:tensorflow:loss = 0.0004044742, step = 3900 (0.542 sec)\n",
      "INFO:tensorflow:global_step/sec: 186.379\n",
      "INFO:tensorflow:loss = 0.0009619867, step = 4000 (0.537 sec)\n",
      "INFO:tensorflow:global_step/sec: 194.729\n",
      "INFO:tensorflow:loss = 0.00018663477, step = 4100 (0.513 sec)\n",
      "INFO:tensorflow:global_step/sec: 172.155\n",
      "INFO:tensorflow:loss = 6.72234e-05, step = 4200 (0.581 sec)\n",
      "INFO:tensorflow:global_step/sec: 194.268\n",
      "INFO:tensorflow:loss = 0.0002551561, step = 4300 (0.515 sec)\n",
      "INFO:tensorflow:global_step/sec: 194.721\n",
      "INFO:tensorflow:loss = 0.00018238506, step = 4400 (0.513 sec)\n",
      "INFO:tensorflow:global_step/sec: 187.783\n",
      "INFO:tensorflow:loss = 0.0001876583, step = 4500 (0.533 sec)\n",
      "INFO:tensorflow:global_step/sec: 188.312\n",
      "INFO:tensorflow:loss = 5.2224936e-05, step = 4600 (0.531 sec)\n",
      "INFO:tensorflow:global_step/sec: 185.847\n",
      "INFO:tensorflow:loss = 0.00021044597, step = 4700 (0.539 sec)\n",
      "INFO:tensorflow:global_step/sec: 183.899\n",
      "INFO:tensorflow:loss = 5.4519103e-05, step = 4800 (0.544 sec)\n",
      "INFO:tensorflow:global_step/sec: 189.767\n",
      "INFO:tensorflow:loss = 4.7640213e-05, step = 4900 (0.526 sec)\n",
      "INFO:tensorflow:Saving checkpoints for 5000 into /tmp/tmpiw6u550a/model.ckpt.\n",
      "INFO:tensorflow:Loss for final step: 0.00010170719.\n"
     ]
    },
    {
     "data": {
      "text/plain": [
       "<tensorflow.python.estimator.canned.linear.LinearClassifier at 0x7f9d6a1dc0b8>"
      ]
     },
     "execution_count": 17,
     "metadata": {},
     "output_type": "execute_result"
    }
   ],
   "source": [
    "model.train(input_fn=input_func,steps=5000)"
   ]
  },
  {
   "cell_type": "markdown",
   "metadata": {},
   "source": [
    "### Evaluation\n",
    "\n",
    "** Create a prediction input function. Remember to only supprt X_test data and keep shuffle=False. **"
   ]
  },
  {
   "cell_type": "code",
   "execution_count": 18,
   "metadata": {
    "ExecuteTime": {
     "end_time": "2018-10-25T13:47:57.008772Z",
     "start_time": "2018-10-25T13:47:57.001476Z"
    }
   },
   "outputs": [],
   "source": [
    "pred_fn = tf.estimator.inputs.pandas_input_fn(x=X_test,batch_size=len(X_test),shuffle=False)"
   ]
  },
  {
   "cell_type": "markdown",
   "metadata": {},
   "source": [
    "** Use model.predict() and pass in your input function. This will produce a generator of predictions, which you can then transform into a list, with list() **"
   ]
  },
  {
   "cell_type": "code",
   "execution_count": 19,
   "metadata": {
    "ExecuteTime": {
     "end_time": "2018-10-25T13:48:02.311039Z",
     "start_time": "2018-10-25T13:48:01.521041Z"
    }
   },
   "outputs": [
    {
     "name": "stdout",
     "output_type": "stream",
     "text": [
      "INFO:tensorflow:Calling model_fn.\n",
      "INFO:tensorflow:Done calling model_fn.\n",
      "INFO:tensorflow:Graph was finalized.\n",
      "INFO:tensorflow:Restoring parameters from /tmp/tmpiw6u550a/model.ckpt-5000\n",
      "INFO:tensorflow:Running local_init_op.\n",
      "INFO:tensorflow:Done running local_init_op.\n"
     ]
    }
   ],
   "source": [
    "predictions = list(model.predict(input_fn=pred_fn))"
   ]
  },
  {
   "cell_type": "markdown",
   "metadata": {},
   "source": [
    "** Each item in your list will look like this: **"
   ]
  },
  {
   "cell_type": "code",
   "execution_count": 20,
   "metadata": {
    "ExecuteTime": {
     "end_time": "2018-10-25T13:48:09.512418Z",
     "start_time": "2018-10-25T13:48:09.501341Z"
    }
   },
   "outputs": [
    {
     "data": {
      "text/plain": [
       "{'class_ids': array([1]),\n",
       " 'classes': array([b'1'], dtype=object),\n",
       " 'logistic': array([1.], dtype=float32),\n",
       " 'logits': array([21.6788], dtype=float32),\n",
       " 'probabilities': array([3.846064e-10, 1.000000e+00], dtype=float32)}"
      ]
     },
     "execution_count": 20,
     "metadata": {},
     "output_type": "execute_result"
    }
   ],
   "source": [
    "predictions[0]"
   ]
  },
  {
   "cell_type": "markdown",
   "metadata": {},
   "source": [
    "** Create a list of only the class_ids key values from the prediction list of dictionaries, these are the predictions you will use to compare against the real y_test values. **"
   ]
  },
  {
   "cell_type": "code",
   "execution_count": 21,
   "metadata": {
    "ExecuteTime": {
     "end_time": "2018-10-25T13:48:18.741722Z",
     "start_time": "2018-10-25T13:48:18.736516Z"
    }
   },
   "outputs": [],
   "source": [
    "final_preds = []\n",
    "for pred in predictions:\n",
    "    final_preds.append(pred['class_ids'][0])"
   ]
  },
  {
   "cell_type": "code",
   "execution_count": 22,
   "metadata": {
    "ExecuteTime": {
     "end_time": "2018-10-25T13:48:23.893376Z",
     "start_time": "2018-10-25T13:48:23.889790Z"
    }
   },
   "outputs": [
    {
     "data": {
      "text/plain": [
       "[1, 1, 1, 1, 1, 1, 1, 1, 1, 1]"
      ]
     },
     "execution_count": 22,
     "metadata": {},
     "output_type": "execute_result"
    }
   ],
   "source": [
    "final_preds[:10]"
   ]
  },
  {
   "cell_type": "markdown",
   "metadata": {},
   "source": [
    "** Import classification_report from sklearn.metrics and then see if you can figure out how to use it to easily get a full report of your model's performance on the test data. **"
   ]
  },
  {
   "cell_type": "code",
   "execution_count": 23,
   "metadata": {
    "ExecuteTime": {
     "end_time": "2018-10-25T13:48:33.997387Z",
     "start_time": "2018-10-25T13:48:33.990209Z"
    }
   },
   "outputs": [],
   "source": [
    "from sklearn.metrics import classification_report"
   ]
  },
  {
   "cell_type": "code",
   "execution_count": 24,
   "metadata": {
    "ExecuteTime": {
     "end_time": "2018-10-25T13:48:42.945234Z",
     "start_time": "2018-10-25T13:48:42.934606Z"
    }
   },
   "outputs": [
    {
     "name": "stdout",
     "output_type": "stream",
     "text": [
      "             precision    recall  f1-score   support\n",
      "\n",
      "          1       1.00      1.00      1.00      9769\n",
      "\n",
      "avg / total       1.00      1.00      1.00      9769\n",
      "\n"
     ]
    }
   ],
   "source": [
    "print(classification_report(y_test,final_preds))"
   ]
  },
  {
   "cell_type": "markdown",
   "metadata": {
    "collapsed": true
   },
   "source": [
    "# Great Job!"
   ]
  }
 ],
 "metadata": {
  "kernelspec": {
   "display_name": "Python 3",
   "language": "python",
   "name": "python3"
  },
  "language_info": {
   "codemirror_mode": {
    "name": "ipython",
    "version": 3
   },
   "file_extension": ".py",
   "mimetype": "text/x-python",
   "name": "python",
   "nbconvert_exporter": "python",
   "pygments_lexer": "ipython3",
   "version": "3.5.2"
  }
 },
 "nbformat": 4,
 "nbformat_minor": 2
}
