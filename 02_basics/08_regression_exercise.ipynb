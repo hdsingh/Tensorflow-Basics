{
 "cells": [
  {
   "cell_type": "code",
   "execution_count": 1,
   "metadata": {
    "ExecuteTime": {
     "end_time": "2018-10-25T12:43:21.460080Z",
     "start_time": "2018-10-25T12:43:21.207054Z"
    }
   },
   "outputs": [],
   "source": [
    "import pandas as pd"
   ]
  },
  {
   "cell_type": "code",
   "execution_count": 6,
   "metadata": {
    "ExecuteTime": {
     "end_time": "2018-10-25T12:45:09.633274Z",
     "start_time": "2018-10-25T12:45:09.594408Z"
    }
   },
   "outputs": [],
   "source": [
    "housing  = pd.read_csv('/home/hdsingh/Desktop/AI/Tensorflow-Bootcamp-master/02-TensorFlow-Basics/cal_housing_clean.csv')"
   ]
  },
  {
   "cell_type": "code",
   "execution_count": 7,
   "metadata": {
    "ExecuteTime": {
     "end_time": "2018-10-25T12:45:29.013352Z",
     "start_time": "2018-10-25T12:45:28.983945Z"
    }
   },
   "outputs": [
    {
     "data": {
      "text/html": [
       "<div>\n",
       "<style scoped>\n",
       "    .dataframe tbody tr th:only-of-type {\n",
       "        vertical-align: middle;\n",
       "    }\n",
       "\n",
       "    .dataframe tbody tr th {\n",
       "        vertical-align: top;\n",
       "    }\n",
       "\n",
       "    .dataframe thead th {\n",
       "        text-align: right;\n",
       "    }\n",
       "</style>\n",
       "<table border=\"1\" class=\"dataframe\">\n",
       "  <thead>\n",
       "    <tr style=\"text-align: right;\">\n",
       "      <th></th>\n",
       "      <th>housingMedianAge</th>\n",
       "      <th>totalRooms</th>\n",
       "      <th>totalBedrooms</th>\n",
       "      <th>population</th>\n",
       "      <th>households</th>\n",
       "      <th>medianIncome</th>\n",
       "      <th>medianHouseValue</th>\n",
       "    </tr>\n",
       "  </thead>\n",
       "  <tbody>\n",
       "    <tr>\n",
       "      <th>0</th>\n",
       "      <td>41.0</td>\n",
       "      <td>880.0</td>\n",
       "      <td>129.0</td>\n",
       "      <td>322.0</td>\n",
       "      <td>126.0</td>\n",
       "      <td>8.3252</td>\n",
       "      <td>452600.0</td>\n",
       "    </tr>\n",
       "    <tr>\n",
       "      <th>1</th>\n",
       "      <td>21.0</td>\n",
       "      <td>7099.0</td>\n",
       "      <td>1106.0</td>\n",
       "      <td>2401.0</td>\n",
       "      <td>1138.0</td>\n",
       "      <td>8.3014</td>\n",
       "      <td>358500.0</td>\n",
       "    </tr>\n",
       "    <tr>\n",
       "      <th>2</th>\n",
       "      <td>52.0</td>\n",
       "      <td>1467.0</td>\n",
       "      <td>190.0</td>\n",
       "      <td>496.0</td>\n",
       "      <td>177.0</td>\n",
       "      <td>7.2574</td>\n",
       "      <td>352100.0</td>\n",
       "    </tr>\n",
       "    <tr>\n",
       "      <th>3</th>\n",
       "      <td>52.0</td>\n",
       "      <td>1274.0</td>\n",
       "      <td>235.0</td>\n",
       "      <td>558.0</td>\n",
       "      <td>219.0</td>\n",
       "      <td>5.6431</td>\n",
       "      <td>341300.0</td>\n",
       "    </tr>\n",
       "    <tr>\n",
       "      <th>4</th>\n",
       "      <td>52.0</td>\n",
       "      <td>1627.0</td>\n",
       "      <td>280.0</td>\n",
       "      <td>565.0</td>\n",
       "      <td>259.0</td>\n",
       "      <td>3.8462</td>\n",
       "      <td>342200.0</td>\n",
       "    </tr>\n",
       "  </tbody>\n",
       "</table>\n",
       "</div>"
      ],
      "text/plain": [
       "   housingMedianAge  totalRooms  totalBedrooms  population  households  \\\n",
       "0              41.0       880.0          129.0       322.0       126.0   \n",
       "1              21.0      7099.0         1106.0      2401.0      1138.0   \n",
       "2              52.0      1467.0          190.0       496.0       177.0   \n",
       "3              52.0      1274.0          235.0       558.0       219.0   \n",
       "4              52.0      1627.0          280.0       565.0       259.0   \n",
       "\n",
       "   medianIncome  medianHouseValue  \n",
       "0        8.3252          452600.0  \n",
       "1        8.3014          358500.0  \n",
       "2        7.2574          352100.0  \n",
       "3        5.6431          341300.0  \n",
       "4        3.8462          342200.0  "
      ]
     },
     "execution_count": 7,
     "metadata": {},
     "output_type": "execute_result"
    }
   ],
   "source": [
    "housing.head()"
   ]
  },
  {
   "cell_type": "code",
   "execution_count": 16,
   "metadata": {
    "ExecuteTime": {
     "end_time": "2018-10-25T12:50:07.463865Z",
     "start_time": "2018-10-25T12:50:07.458931Z"
    }
   },
   "outputs": [],
   "source": [
    "y_val = housing['medianHouseValue']\n",
    "x_data = housing.drop(['medianHouseValue'],axis = 1)"
   ]
  },
  {
   "cell_type": "code",
   "execution_count": 14,
   "metadata": {
    "ExecuteTime": {
     "end_time": "2018-10-25T12:49:37.018312Z",
     "start_time": "2018-10-25T12:49:36.586158Z"
    }
   },
   "outputs": [],
   "source": [
    "from sklearn.model_selection import train_test_split"
   ]
  },
  {
   "cell_type": "code",
   "execution_count": 18,
   "metadata": {
    "ExecuteTime": {
     "end_time": "2018-10-25T13:09:30.688218Z",
     "start_time": "2018-10-25T13:09:30.674966Z"
    }
   },
   "outputs": [],
   "source": [
    "X_train, X_test, y_train, y_test = train_test_split(x_data,y_val,test_size=0.3,random_state=101)"
   ]
  },
  {
   "cell_type": "markdown",
   "metadata": {},
   "source": [
    "### Scale the Feature Data"
   ]
  },
  {
   "cell_type": "code",
   "execution_count": 19,
   "metadata": {
    "ExecuteTime": {
     "end_time": "2018-10-25T13:10:49.456299Z",
     "start_time": "2018-10-25T13:10:49.453022Z"
    }
   },
   "outputs": [],
   "source": [
    "from sklearn.preprocessing import MinMaxScaler"
   ]
  },
  {
   "cell_type": "code",
   "execution_count": 20,
   "metadata": {
    "ExecuteTime": {
     "end_time": "2018-10-25T13:12:44.425262Z",
     "start_time": "2018-10-25T13:12:44.419821Z"
    }
   },
   "outputs": [],
   "source": [
    "scaler = MinMaxScaler()"
   ]
  },
  {
   "cell_type": "code",
   "execution_count": 21,
   "metadata": {
    "ExecuteTime": {
     "end_time": "2018-10-25T13:16:15.965800Z",
     "start_time": "2018-10-25T13:16:15.952404Z"
    }
   },
   "outputs": [
    {
     "data": {
      "text/plain": [
       "MinMaxScaler(copy=True, feature_range=(0, 1))"
      ]
     },
     "execution_count": 21,
     "metadata": {},
     "output_type": "execute_result"
    }
   ],
   "source": [
    "scaler.fit(X_train)"
   ]
  },
  {
   "cell_type": "code",
   "execution_count": 22,
   "metadata": {
    "ExecuteTime": {
     "end_time": "2018-10-25T13:21:46.700817Z",
     "start_time": "2018-10-25T13:21:46.696961Z"
    }
   },
   "outputs": [],
   "source": [
    "X_train = pd.DataFrame(data=scaler.transform(X_train),\n",
    "                      columns = X_train.columns,\n",
    "                      index = X_train.index)  "
   ]
  },
  {
   "cell_type": "code",
   "execution_count": 23,
   "metadata": {
    "ExecuteTime": {
     "end_time": "2018-10-25T13:22:18.147783Z",
     "start_time": "2018-10-25T13:22:18.138269Z"
    }
   },
   "outputs": [],
   "source": [
    "X_test = pd.DataFrame(data=scaler.transform(X_test),\n",
    "                      columns = X_test.columns,\n",
    "                      index = X_test.index)  "
   ]
  },
  {
   "cell_type": "code",
   "execution_count": 24,
   "metadata": {
    "ExecuteTime": {
     "end_time": "2018-10-25T13:22:37.117554Z",
     "start_time": "2018-10-25T13:22:36.459574Z"
    }
   },
   "outputs": [
    {
     "name": "stderr",
     "output_type": "stream",
     "text": [
      "/home/hdsingh/.local/lib/python3.5/site-packages/h5py/__init__.py:36: FutureWarning: Conversion of the second argument of issubdtype from `float` to `np.floating` is deprecated. In future, it will be treated as `np.float64 == np.dtype(float).type`.\n",
      "  from ._conv import register_converters as _register_converters\n"
     ]
    }
   ],
   "source": [
    "import tensorflow as tf"
   ]
  },
  {
   "cell_type": "code",
   "execution_count": 26,
   "metadata": {
    "ExecuteTime": {
     "end_time": "2018-10-25T13:23:31.368081Z",
     "start_time": "2018-10-25T13:23:31.363824Z"
    }
   },
   "outputs": [],
   "source": [
    "age = tf.feature_column.numeric_column('housingMedianAge')\n",
    "rooms = tf.feature_column.numeric_column('totalRooms')\n",
    "bedrooms = tf.feature_column.numeric_column('totalBedrooms')\n",
    "pop = tf.feature_column.numeric_column('population')\n",
    "households = tf.feature_column.numeric_column('households')\n",
    "income = tf.feature_column.numeric_column('medianIncome')"
   ]
  },
  {
   "cell_type": "code",
   "execution_count": 27,
   "metadata": {
    "ExecuteTime": {
     "end_time": "2018-10-25T13:23:36.910673Z",
     "start_time": "2018-10-25T13:23:36.904523Z"
    }
   },
   "outputs": [],
   "source": [
    "feat_cols = [ age,rooms,bedrooms,pop,households,income]"
   ]
  },
  {
   "cell_type": "code",
   "execution_count": 28,
   "metadata": {
    "ExecuteTime": {
     "end_time": "2018-10-25T13:24:42.159271Z",
     "start_time": "2018-10-25T13:24:42.152637Z"
    }
   },
   "outputs": [],
   "source": [
    "input_func = tf.estimator.inputs.pandas_input_fn(x = X_train, y=y_train,\n",
    "                                                 batch_size=10,\n",
    "                                                 num_epochs=1000, shuffle=True,)"
   ]
  },
  {
   "cell_type": "code",
   "execution_count": 29,
   "metadata": {
    "ExecuteTime": {
     "end_time": "2018-10-25T13:25:36.661238Z",
     "start_time": "2018-10-25T13:25:36.655010Z"
    }
   },
   "outputs": [],
   "source": [
    "eval_input_func = tf.estimator.inputs.pandas_input_fn(x = X_test, y=y_test,\n",
    "                                                 batch_size=10,\n",
    "                                                 num_epochs=1, shuffle=False,)"
   ]
  },
  {
   "cell_type": "code",
   "execution_count": 31,
   "metadata": {
    "ExecuteTime": {
     "end_time": "2018-10-25T13:26:32.102733Z",
     "start_time": "2018-10-25T13:26:32.087802Z"
    }
   },
   "outputs": [
    {
     "name": "stdout",
     "output_type": "stream",
     "text": [
      "INFO:tensorflow:Using default config.\n",
      "WARNING:tensorflow:Using temporary folder as model directory: /tmp/tmpvaes3frw\n",
      "INFO:tensorflow:Using config: {'_keep_checkpoint_max': 5, '_global_id_in_cluster': 0, '_save_checkpoints_steps': None, '_task_id': 0, '_master': '', '_cluster_spec': <tensorflow.python.training.server_lib.ClusterSpec object at 0x7fcd927be470>, '_save_summary_steps': 100, '_task_type': 'worker', '_keep_checkpoint_every_n_hours': 10000, '_tf_random_seed': None, '_save_checkpoints_secs': 600, '_is_chief': True, '_service': None, '_session_config': None, '_num_worker_replicas': 1, '_model_dir': '/tmp/tmpvaes3frw', '_num_ps_replicas': 0, '_evaluation_master': '', '_train_distribute': None, '_log_step_count_steps': 100}\n"
     ]
    }
   ],
   "source": [
    "model = tf.estimator.DNNRegressor(hidden_units=[6,12,6],feature_columns=feat_cols)"
   ]
  },
  {
   "cell_type": "code",
   "execution_count": 45,
   "metadata": {
    "ExecuteTime": {
     "end_time": "2018-10-25T13:32:29.180105Z",
     "start_time": "2018-10-25T13:32:13.186308Z"
    }
   },
   "outputs": [
    {
     "name": "stdout",
     "output_type": "stream",
     "text": [
      "INFO:tensorflow:Calling model_fn.\n",
      "INFO:tensorflow:Done calling model_fn.\n",
      "INFO:tensorflow:Create CheckpointSaverHook.\n",
      "INFO:tensorflow:Graph was finalized.\n",
      "INFO:tensorflow:Restoring parameters from /tmp/tmpvaes3frw/model.ckpt-1000\n",
      "INFO:tensorflow:Running local_init_op.\n",
      "INFO:tensorflow:Done running local_init_op.\n",
      "INFO:tensorflow:Saving checkpoints for 1001 into /tmp/tmpvaes3frw/model.ckpt.\n",
      "INFO:tensorflow:step = 1000, loss = 129648040000.0\n",
      "INFO:tensorflow:global_step/sec: 513.168\n",
      "INFO:tensorflow:step = 1100, loss = 75818090000.0 (0.196 sec)\n",
      "INFO:tensorflow:global_step/sec: 646.329\n",
      "INFO:tensorflow:step = 1200, loss = 34502680000.0 (0.155 sec)\n",
      "INFO:tensorflow:global_step/sec: 654.595\n",
      "INFO:tensorflow:step = 1300, loss = 251743810000.0 (0.153 sec)\n",
      "INFO:tensorflow:global_step/sec: 618.862\n",
      "INFO:tensorflow:step = 1400, loss = 87435575000.0 (0.161 sec)\n",
      "INFO:tensorflow:global_step/sec: 657.132\n",
      "INFO:tensorflow:step = 1500, loss = 99962830000.0 (0.152 sec)\n",
      "INFO:tensorflow:global_step/sec: 675.295\n",
      "INFO:tensorflow:step = 1600, loss = 86637445000.0 (0.148 sec)\n",
      "INFO:tensorflow:global_step/sec: 673.268\n",
      "INFO:tensorflow:step = 1700, loss = 79683710000.0 (0.149 sec)\n",
      "INFO:tensorflow:global_step/sec: 696.044\n",
      "INFO:tensorflow:step = 1800, loss = 109063880000.0 (0.143 sec)\n",
      "INFO:tensorflow:global_step/sec: 660.425\n",
      "INFO:tensorflow:step = 1900, loss = 144364140000.0 (0.151 sec)\n",
      "INFO:tensorflow:global_step/sec: 692.233\n",
      "INFO:tensorflow:step = 2000, loss = 141179930000.0 (0.145 sec)\n",
      "INFO:tensorflow:global_step/sec: 699.552\n",
      "INFO:tensorflow:step = 2100, loss = 135061900000.0 (0.143 sec)\n",
      "INFO:tensorflow:global_step/sec: 610.577\n",
      "INFO:tensorflow:step = 2200, loss = 113859110000.0 (0.164 sec)\n",
      "INFO:tensorflow:global_step/sec: 499.879\n",
      "INFO:tensorflow:step = 2300, loss = 168187900000.0 (0.201 sec)\n",
      "INFO:tensorflow:global_step/sec: 641.795\n",
      "INFO:tensorflow:step = 2400, loss = 71703224000.0 (0.154 sec)\n",
      "INFO:tensorflow:global_step/sec: 504.465\n",
      "INFO:tensorflow:step = 2500, loss = 141006200000.0 (0.199 sec)\n",
      "INFO:tensorflow:global_step/sec: 544.837\n",
      "INFO:tensorflow:step = 2600, loss = 134689800000.0 (0.183 sec)\n",
      "INFO:tensorflow:global_step/sec: 676.061\n",
      "INFO:tensorflow:step = 2700, loss = 47789478000.0 (0.148 sec)\n",
      "INFO:tensorflow:global_step/sec: 673.617\n",
      "INFO:tensorflow:step = 2800, loss = 223328880000.0 (0.149 sec)\n",
      "INFO:tensorflow:global_step/sec: 470.628\n",
      "INFO:tensorflow:step = 2900, loss = 103247870000.0 (0.213 sec)\n",
      "INFO:tensorflow:global_step/sec: 630.548\n",
      "INFO:tensorflow:step = 3000, loss = 103828275000.0 (0.158 sec)\n",
      "INFO:tensorflow:global_step/sec: 695.055\n",
      "INFO:tensorflow:step = 3100, loss = 122744900000.0 (0.144 sec)\n",
      "INFO:tensorflow:global_step/sec: 696.251\n",
      "INFO:tensorflow:step = 3200, loss = 127434860000.0 (0.144 sec)\n",
      "INFO:tensorflow:global_step/sec: 670.262\n",
      "INFO:tensorflow:step = 3300, loss = 20111831000.0 (0.149 sec)\n",
      "INFO:tensorflow:global_step/sec: 700.606\n",
      "INFO:tensorflow:step = 3400, loss = 130927804000.0 (0.143 sec)\n",
      "INFO:tensorflow:global_step/sec: 672.095\n",
      "INFO:tensorflow:step = 3500, loss = 101534180000.0 (0.149 sec)\n",
      "INFO:tensorflow:global_step/sec: 488.094\n",
      "INFO:tensorflow:step = 3600, loss = 160997830000.0 (0.205 sec)\n",
      "INFO:tensorflow:global_step/sec: 530.619\n",
      "INFO:tensorflow:step = 3700, loss = 143935240000.0 (0.188 sec)\n",
      "INFO:tensorflow:global_step/sec: 527.54\n",
      "INFO:tensorflow:step = 3800, loss = 100937925000.0 (0.191 sec)\n",
      "INFO:tensorflow:global_step/sec: 585.41\n",
      "INFO:tensorflow:step = 3900, loss = 93025130000.0 (0.170 sec)\n",
      "INFO:tensorflow:global_step/sec: 646.927\n",
      "INFO:tensorflow:step = 4000, loss = 165455400000.0 (0.154 sec)\n",
      "INFO:tensorflow:global_step/sec: 698.976\n",
      "INFO:tensorflow:step = 4100, loss = 122673600000.0 (0.143 sec)\n",
      "INFO:tensorflow:global_step/sec: 667.925\n",
      "INFO:tensorflow:step = 4200, loss = 89608630000.0 (0.150 sec)\n",
      "INFO:tensorflow:global_step/sec: 662.232\n",
      "INFO:tensorflow:step = 4300, loss = 102402530000.0 (0.151 sec)\n",
      "INFO:tensorflow:global_step/sec: 666.89\n",
      "INFO:tensorflow:step = 4400, loss = 62675116000.0 (0.150 sec)\n",
      "INFO:tensorflow:global_step/sec: 682.106\n",
      "INFO:tensorflow:step = 4500, loss = 204258590000.0 (0.147 sec)\n",
      "INFO:tensorflow:global_step/sec: 699.991\n",
      "INFO:tensorflow:step = 4600, loss = 187321300000.0 (0.143 sec)\n",
      "INFO:tensorflow:global_step/sec: 701.937\n",
      "INFO:tensorflow:step = 4700, loss = 100303176000.0 (0.143 sec)\n",
      "INFO:tensorflow:global_step/sec: 706.667\n",
      "INFO:tensorflow:step = 4800, loss = 263539920000.0 (0.142 sec)\n",
      "INFO:tensorflow:global_step/sec: 699.13\n",
      "INFO:tensorflow:step = 4900, loss = 153603490000.0 (0.143 sec)\n",
      "INFO:tensorflow:global_step/sec: 706.071\n",
      "INFO:tensorflow:step = 5000, loss = 62114038000.0 (0.142 sec)\n",
      "INFO:tensorflow:global_step/sec: 694.279\n",
      "INFO:tensorflow:step = 5100, loss = 69582455000.0 (0.144 sec)\n",
      "INFO:tensorflow:global_step/sec: 713.92\n",
      "INFO:tensorflow:step = 5200, loss = 107348200000.0 (0.140 sec)\n",
      "INFO:tensorflow:global_step/sec: 717.609\n",
      "INFO:tensorflow:step = 5300, loss = 89895125000.0 (0.139 sec)\n",
      "INFO:tensorflow:global_step/sec: 664.704\n",
      "INFO:tensorflow:step = 5400, loss = 78375600000.0 (0.150 sec)\n",
      "INFO:tensorflow:global_step/sec: 682.428\n",
      "INFO:tensorflow:step = 5500, loss = 84136410000.0 (0.146 sec)\n",
      "INFO:tensorflow:global_step/sec: 697.441\n",
      "INFO:tensorflow:step = 5600, loss = 94027470000.0 (0.143 sec)\n",
      "INFO:tensorflow:global_step/sec: 689.424\n",
      "INFO:tensorflow:step = 5700, loss = 77921540000.0 (0.145 sec)\n",
      "INFO:tensorflow:global_step/sec: 684.173\n",
      "INFO:tensorflow:step = 5800, loss = 104188985000.0 (0.146 sec)\n",
      "INFO:tensorflow:global_step/sec: 697.828\n",
      "INFO:tensorflow:step = 5900, loss = 34219370000.0 (0.143 sec)\n",
      "INFO:tensorflow:global_step/sec: 692.465\n",
      "INFO:tensorflow:step = 6000, loss = 98674794000.0 (0.145 sec)\n",
      "INFO:tensorflow:global_step/sec: 617.824\n",
      "INFO:tensorflow:step = 6100, loss = 103332320000.0 (0.163 sec)\n",
      "INFO:tensorflow:global_step/sec: 683.101\n",
      "INFO:tensorflow:step = 6200, loss = 75851790000.0 (0.145 sec)\n",
      "INFO:tensorflow:global_step/sec: 687.306\n",
      "INFO:tensorflow:step = 6300, loss = 127106466000.0 (0.145 sec)\n",
      "INFO:tensorflow:global_step/sec: 700.206\n",
      "INFO:tensorflow:step = 6400, loss = 82476040000.0 (0.143 sec)\n",
      "INFO:tensorflow:global_step/sec: 631.128\n",
      "INFO:tensorflow:step = 6500, loss = 41328800000.0 (0.158 sec)\n",
      "INFO:tensorflow:global_step/sec: 698.848\n",
      "INFO:tensorflow:step = 6600, loss = 86179810000.0 (0.143 sec)\n",
      "INFO:tensorflow:global_step/sec: 705.738\n",
      "INFO:tensorflow:step = 6700, loss = 127944140000.0 (0.142 sec)\n",
      "INFO:tensorflow:global_step/sec: 670.137\n",
      "INFO:tensorflow:step = 6800, loss = 90088790000.0 (0.150 sec)\n",
      "INFO:tensorflow:global_step/sec: 681.243\n",
      "INFO:tensorflow:step = 6900, loss = 130714340000.0 (0.146 sec)\n",
      "INFO:tensorflow:global_step/sec: 676.263\n",
      "INFO:tensorflow:step = 7000, loss = 171742890000.0 (0.148 sec)\n",
      "INFO:tensorflow:global_step/sec: 643.345\n",
      "INFO:tensorflow:step = 7100, loss = 112567290000.0 (0.155 sec)\n",
      "INFO:tensorflow:global_step/sec: 708.577\n",
      "INFO:tensorflow:step = 7200, loss = 154090470000.0 (0.141 sec)\n",
      "INFO:tensorflow:global_step/sec: 702.491\n",
      "INFO:tensorflow:step = 7300, loss = 74380970000.0 (0.142 sec)\n",
      "INFO:tensorflow:global_step/sec: 655.44\n",
      "INFO:tensorflow:step = 7400, loss = 48642486000.0 (0.153 sec)\n",
      "INFO:tensorflow:global_step/sec: 695.542\n",
      "INFO:tensorflow:step = 7500, loss = 156647000000.0 (0.144 sec)\n",
      "INFO:tensorflow:global_step/sec: 708.545\n",
      "INFO:tensorflow:step = 7600, loss = 96368300000.0 (0.141 sec)\n",
      "INFO:tensorflow:global_step/sec: 709.655\n",
      "INFO:tensorflow:step = 7700, loss = 52514374000.0 (0.141 sec)\n",
      "INFO:tensorflow:global_step/sec: 705.77\n",
      "INFO:tensorflow:step = 7800, loss = 160827420000.0 (0.142 sec)\n",
      "INFO:tensorflow:global_step/sec: 659.084\n",
      "INFO:tensorflow:step = 7900, loss = 98610220000.0 (0.152 sec)\n",
      "INFO:tensorflow:global_step/sec: 698.773\n",
      "INFO:tensorflow:step = 8000, loss = 15480935000.0 (0.143 sec)\n",
      "INFO:tensorflow:global_step/sec: 706.915\n",
      "INFO:tensorflow:step = 8100, loss = 28709417000.0 (0.141 sec)\n",
      "INFO:tensorflow:global_step/sec: 717.06\n",
      "INFO:tensorflow:step = 8200, loss = 112953470000.0 (0.140 sec)\n",
      "INFO:tensorflow:global_step/sec: 705.995\n",
      "INFO:tensorflow:step = 8300, loss = 176637230000.0 (0.142 sec)\n",
      "INFO:tensorflow:global_step/sec: 716.611\n",
      "INFO:tensorflow:step = 8400, loss = 63672450000.0 (0.140 sec)\n",
      "INFO:tensorflow:global_step/sec: 712.448\n",
      "INFO:tensorflow:step = 8500, loss = 93279380000.0 (0.141 sec)\n"
     ]
    },
    {
     "name": "stdout",
     "output_type": "stream",
     "text": [
      "INFO:tensorflow:global_step/sec: 696.933\n",
      "INFO:tensorflow:step = 8600, loss = 50937352000.0 (0.143 sec)\n",
      "INFO:tensorflow:global_step/sec: 703.553\n",
      "INFO:tensorflow:step = 8700, loss = 45069783000.0 (0.142 sec)\n",
      "INFO:tensorflow:global_step/sec: 689.419\n",
      "INFO:tensorflow:step = 8800, loss = 47868973000.0 (0.145 sec)\n",
      "INFO:tensorflow:global_step/sec: 678.987\n",
      "INFO:tensorflow:step = 8900, loss = 71788446000.0 (0.148 sec)\n",
      "INFO:tensorflow:global_step/sec: 716.636\n",
      "INFO:tensorflow:step = 9000, loss = 51012874000.0 (0.139 sec)\n",
      "INFO:tensorflow:global_step/sec: 724.275\n",
      "INFO:tensorflow:step = 9100, loss = 71573130000.0 (0.138 sec)\n",
      "INFO:tensorflow:global_step/sec: 692.672\n",
      "INFO:tensorflow:step = 9200, loss = 61477368000.0 (0.144 sec)\n",
      "INFO:tensorflow:global_step/sec: 708.96\n",
      "INFO:tensorflow:step = 9300, loss = 61088346000.0 (0.141 sec)\n",
      "INFO:tensorflow:global_step/sec: 700.18\n",
      "INFO:tensorflow:step = 9400, loss = 162842840000.0 (0.143 sec)\n",
      "INFO:tensorflow:global_step/sec: 692.574\n",
      "INFO:tensorflow:step = 9500, loss = 71877070000.0 (0.144 sec)\n",
      "INFO:tensorflow:global_step/sec: 482.307\n",
      "INFO:tensorflow:step = 9600, loss = 150590050000.0 (0.208 sec)\n",
      "INFO:tensorflow:global_step/sec: 654.605\n",
      "INFO:tensorflow:step = 9700, loss = 65632256000.0 (0.152 sec)\n",
      "INFO:tensorflow:global_step/sec: 655.817\n",
      "INFO:tensorflow:step = 9800, loss = 73814060000.0 (0.153 sec)\n",
      "INFO:tensorflow:global_step/sec: 516.669\n",
      "INFO:tensorflow:step = 9900, loss = 141813190000.0 (0.193 sec)\n",
      "INFO:tensorflow:global_step/sec: 626.206\n",
      "INFO:tensorflow:step = 10000, loss = 97067100000.0 (0.160 sec)\n",
      "INFO:tensorflow:global_step/sec: 716.971\n",
      "INFO:tensorflow:step = 10100, loss = 56775012000.0 (0.139 sec)\n",
      "INFO:tensorflow:global_step/sec: 680.597\n",
      "INFO:tensorflow:step = 10200, loss = 115091330000.0 (0.147 sec)\n",
      "INFO:tensorflow:global_step/sec: 678.855\n",
      "INFO:tensorflow:step = 10300, loss = 109056490000.0 (0.147 sec)\n",
      "INFO:tensorflow:global_step/sec: 678.943\n",
      "INFO:tensorflow:step = 10400, loss = 68147560000.0 (0.147 sec)\n",
      "INFO:tensorflow:global_step/sec: 675.079\n",
      "INFO:tensorflow:step = 10500, loss = 140052760000.0 (0.148 sec)\n",
      "INFO:tensorflow:global_step/sec: 564.037\n",
      "INFO:tensorflow:step = 10600, loss = 88395980000.0 (0.179 sec)\n",
      "INFO:tensorflow:global_step/sec: 562.65\n",
      "INFO:tensorflow:step = 10700, loss = 177070930000.0 (0.176 sec)\n",
      "INFO:tensorflow:global_step/sec: 633.609\n",
      "INFO:tensorflow:step = 10800, loss = 43851407000.0 (0.158 sec)\n",
      "INFO:tensorflow:global_step/sec: 686.046\n",
      "INFO:tensorflow:step = 10900, loss = 72245264000.0 (0.146 sec)\n",
      "INFO:tensorflow:Saving checkpoints for 11000 into /tmp/tmpvaes3frw/model.ckpt.\n",
      "INFO:tensorflow:Loss for final step: 51961980000.0.\n"
     ]
    },
    {
     "data": {
      "text/plain": [
       "<tensorflow.python.estimator.canned.dnn.DNNRegressor at 0x7fcd1f349f28>"
      ]
     },
     "execution_count": 45,
     "metadata": {},
     "output_type": "execute_result"
    }
   ],
   "source": [
    "model.train(input_fn=input_func,steps=10000)"
   ]
  },
  {
   "cell_type": "code",
   "execution_count": 46,
   "metadata": {
    "ExecuteTime": {
     "end_time": "2018-10-25T13:32:29.184638Z",
     "start_time": "2018-10-25T13:32:29.181844Z"
    }
   },
   "outputs": [],
   "source": [
    "predict_input_func = tf.estimator.inputs.pandas_input_fn(x = X_test,\n",
    "                                                 batch_size=10,\n",
    "                                                 num_epochs=1, shuffle=False,)"
   ]
  },
  {
   "cell_type": "code",
   "execution_count": 47,
   "metadata": {
    "ExecuteTime": {
     "end_time": "2018-10-25T13:32:29.189615Z",
     "start_time": "2018-10-25T13:32:29.186238Z"
    }
   },
   "outputs": [],
   "source": [
    "pred_gen = model.predict(predict_input_func)"
   ]
  },
  {
   "cell_type": "code",
   "execution_count": 48,
   "metadata": {
    "ExecuteTime": {
     "end_time": "2018-10-25T13:32:30.374664Z",
     "start_time": "2018-10-25T13:32:29.191534Z"
    }
   },
   "outputs": [
    {
     "name": "stdout",
     "output_type": "stream",
     "text": [
      "INFO:tensorflow:Calling model_fn.\n",
      "INFO:tensorflow:Done calling model_fn.\n",
      "INFO:tensorflow:Graph was finalized.\n",
      "INFO:tensorflow:Restoring parameters from /tmp/tmpvaes3frw/model.ckpt-11000\n",
      "INFO:tensorflow:Running local_init_op.\n",
      "INFO:tensorflow:Done running local_init_op.\n"
     ]
    }
   ],
   "source": [
    "predictions = list(pred_gen)"
   ]
  },
  {
   "cell_type": "code",
   "execution_count": 49,
   "metadata": {
    "ExecuteTime": {
     "end_time": "2018-10-25T13:32:30.381414Z",
     "start_time": "2018-10-25T13:32:30.376181Z"
    }
   },
   "outputs": [],
   "source": [
    "final_pred = []\n",
    "for pred in predictions:\n",
    "    final_pred.append(pred['predictions'])\n"
   ]
  },
  {
   "cell_type": "code",
   "execution_count": 50,
   "metadata": {
    "ExecuteTime": {
     "end_time": "2018-10-25T13:32:30.396714Z",
     "start_time": "2018-10-25T13:32:30.383181Z"
    }
   },
   "outputs": [],
   "source": [
    "from sklearn.metrics import mean_squared_error"
   ]
  },
  {
   "cell_type": "code",
   "execution_count": 51,
   "metadata": {
    "ExecuteTime": {
     "end_time": "2018-10-25T13:32:30.412001Z",
     "start_time": "2018-10-25T13:32:30.398335Z"
    }
   },
   "outputs": [
    {
     "data": {
      "text/plain": [
       "95257.17021226889"
      ]
     },
     "execution_count": 51,
     "metadata": {},
     "output_type": "execute_result"
    }
   ],
   "source": [
    "mean_squared_error(y_test,final_pred)**0.5"
   ]
  },
  {
   "cell_type": "code",
   "execution_count": null,
   "metadata": {},
   "outputs": [],
   "source": []
  }
 ],
 "metadata": {
  "kernelspec": {
   "display_name": "Python 3",
   "language": "python",
   "name": "python3"
  },
  "language_info": {
   "codemirror_mode": {
    "name": "ipython",
    "version": 3
   },
   "file_extension": ".py",
   "mimetype": "text/x-python",
   "name": "python",
   "nbconvert_exporter": "python",
   "pygments_lexer": "ipython3",
   "version": "3.5.2"
  }
 },
 "nbformat": 4,
 "nbformat_minor": 2
}
