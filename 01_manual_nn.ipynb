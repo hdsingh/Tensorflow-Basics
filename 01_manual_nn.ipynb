{
 "cells": [
  {
   "cell_type": "markdown",
   "metadata": {},
   "source": [
    "## Operation"
   ]
  },
  {
   "cell_type": "code",
   "execution_count": 1,
   "metadata": {
    "ExecuteTime": {
     "end_time": "2018-10-24T04:47:46.878883Z",
     "start_time": "2018-10-24T04:47:46.874432Z"
    }
   },
   "outputs": [],
   "source": [
    "class Operation():\n",
    "    \n",
    "    def __init__(self,input_nodes = []):\n",
    "        self.input_nodes = input_nodes\n",
    "        self.output_nodes = []\n",
    "        \n",
    "        for node in input_nodes:\n",
    "            node.output_nodes.append(self)\n",
    "        \n",
    "        _default_graph.operations.append(self)\n",
    "            \n",
    "    def compute(self):\n",
    "        pass"
   ]
  },
  {
   "cell_type": "code",
   "execution_count": 2,
   "metadata": {
    "ExecuteTime": {
     "end_time": "2018-10-24T04:47:46.887609Z",
     "start_time": "2018-10-24T04:47:46.880906Z"
    }
   },
   "outputs": [],
   "source": [
    "class add(Operation):\n",
    "    \n",
    "    def __init__(self,x,y):\n",
    "        super().__init__([x,y])\n",
    "        \n",
    "    def compute(self,x_var,y_var):\n",
    "        self.inputs = [x_var,y_var]\n",
    "        return x_var + y_var "
   ]
  },
  {
   "cell_type": "code",
   "execution_count": 3,
   "metadata": {
    "ExecuteTime": {
     "end_time": "2018-10-24T04:47:46.894138Z",
     "start_time": "2018-10-24T04:47:46.889320Z"
    }
   },
   "outputs": [],
   "source": [
    "class multiply(Operation):\n",
    "    \n",
    "    def __init__(self,x,y):\n",
    "        super().__init__([x,y])\n",
    "        \n",
    "    def compute(self,x_var,y_var):\n",
    "        self.inputs = [x_var,y_var]\n",
    "        return x_var * y_var "
   ]
  },
  {
   "cell_type": "code",
   "execution_count": 4,
   "metadata": {
    "ExecuteTime": {
     "end_time": "2018-10-24T04:47:46.899285Z",
     "start_time": "2018-10-24T04:47:46.895783Z"
    }
   },
   "outputs": [],
   "source": [
    "class matmul(Operation):\n",
    "    \n",
    "    def __init__(self,x,y):\n",
    "        super().__init__([x,y])\n",
    "        \n",
    "    def compute(self,x_var,y_var):\n",
    "        self.inputs = [x_var,y_var]\n",
    "        return x_var.dot(y_var) "
   ]
  },
  {
   "cell_type": "markdown",
   "metadata": {},
   "source": [
    "## Placeholder"
   ]
  },
  {
   "cell_type": "code",
   "execution_count": 5,
   "metadata": {
    "ExecuteTime": {
     "end_time": "2018-10-24T04:47:46.906745Z",
     "start_time": "2018-10-24T04:47:46.901155Z"
    }
   },
   "outputs": [],
   "source": [
    "class Placeholder():\n",
    "    \n",
    "    def __init__(self):\n",
    "        self.output_nodes = []\n",
    "        \n",
    "        _default_graph.placeholders.append(self)"
   ]
  },
  {
   "cell_type": "markdown",
   "metadata": {},
   "source": [
    "## Variable"
   ]
  },
  {
   "cell_type": "code",
   "execution_count": 19,
   "metadata": {
    "ExecuteTime": {
     "end_time": "2018-10-24T04:52:47.250160Z",
     "start_time": "2018-10-24T04:52:47.247261Z"
    }
   },
   "outputs": [],
   "source": [
    "class Variable():\n",
    "    \n",
    "    def __init__(self,initial_value = None ):\n",
    "        self.value = initial_value\n",
    "        self.output_nodes = []\n",
    "        \n",
    "        _default_graph.variables.append(self)"
   ]
  },
  {
   "cell_type": "markdown",
   "metadata": {},
   "source": [
    "## Graph"
   ]
  },
  {
   "cell_type": "code",
   "execution_count": 25,
   "metadata": {
    "ExecuteTime": {
     "end_time": "2018-10-24T04:53:21.906150Z",
     "start_time": "2018-10-24T04:53:21.902866Z"
    }
   },
   "outputs": [],
   "source": [
    "class Graph():\n",
    "    \n",
    "    def __init__(self):\n",
    "        self.operations = []\n",
    "        self.placeholders = []\n",
    "        self.variables = []\n",
    "    \n",
    "    def set_as_default(self):\n",
    "        global _default_graph\n",
    "        _default_graph = self"
   ]
  },
  {
   "cell_type": "markdown",
   "metadata": {},
   "source": [
    "z = Ax+b \n",
    "\n",
    "A = 10\n",
    "\n",
    "b = 1\n",
    "\n",
    "z = 10x+1\n"
   ]
  },
  {
   "cell_type": "code",
   "execution_count": 26,
   "metadata": {
    "ExecuteTime": {
     "end_time": "2018-10-24T04:53:27.076783Z",
     "start_time": "2018-10-24T04:53:27.074329Z"
    }
   },
   "outputs": [],
   "source": [
    "g = Graph()\n",
    "g.set_as_default()"
   ]
  },
  {
   "cell_type": "code",
   "execution_count": 27,
   "metadata": {
    "ExecuteTime": {
     "end_time": "2018-10-24T04:53:27.295650Z",
     "start_time": "2018-10-24T04:53:27.288092Z"
    }
   },
   "outputs": [],
   "source": [
    "A = Variable(10)\n",
    "b = Variable(1)\n",
    "x = Placeholder()"
   ]
  },
  {
   "cell_type": "code",
   "execution_count": 28,
   "metadata": {
    "ExecuteTime": {
     "end_time": "2018-10-24T04:54:14.360956Z",
     "start_time": "2018-10-24T04:54:14.358045Z"
    }
   },
   "outputs": [],
   "source": [
    "y = multiply(A,x)\n",
    "z = add(y,b)"
   ]
  },
  {
   "cell_type": "markdown",
   "metadata": {},
   "source": [
    "## Session"
   ]
  },
  {
   "cell_type": "code",
   "execution_count": 50,
   "metadata": {
    "ExecuteTime": {
     "end_time": "2018-10-24T06:14:01.214157Z",
     "start_time": "2018-10-24T06:14:01.099394Z"
    }
   },
   "outputs": [],
   "source": [
    "import numpy as np"
   ]
  },
  {
   "cell_type": "code",
   "execution_count": 38,
   "metadata": {
    "ExecuteTime": {
     "end_time": "2018-10-24T06:05:34.483488Z",
     "start_time": "2018-10-24T06:05:34.478328Z"
    }
   },
   "outputs": [],
   "source": [
    "def traverse_postorder(operation):\n",
    "    \n",
    "    nodes_postorder = []\n",
    "    \n",
    "    def recurse(node):\n",
    "        if isinstance(node,Operation):\n",
    "            for input_node in node.input_nodes:\n",
    "                recurse(input_node)\n",
    "        nodes_postorder.append(node)\n",
    "        \n",
    "    recurse(operation)\n",
    "    return nodes_postorder"
   ]
  },
  {
   "cell_type": "code",
   "execution_count": 43,
   "metadata": {
    "ExecuteTime": {
     "end_time": "2018-10-24T06:09:34.755243Z",
     "start_time": "2018-10-24T06:09:34.751290Z"
    }
   },
   "outputs": [],
   "source": [
    "class Session():\n",
    "    \n",
    "    def run(self,operation,feed_dict = {}):\n",
    "        \n",
    "        node_postorder = traverse_postorder(operation)\n",
    "        \n",
    "        for node in node_postorder:\n",
    "            if type(node) == Placeholder:\n",
    "                node.output = feed_dict[node]\n",
    "                \n",
    "            elif type(node) == Variable:\n",
    "                node.output = node.value\n",
    "            \n",
    "            else:\n",
    "                node.inputs = [input_node.output for input_node in node.input_nodes]\n",
    "                node.output = node.compute(*node.inputs)\n",
    "            \n",
    "            if type(node.output) == list:\n",
    "                node.output = np.array(node.output)\n",
    "                \n",
    "        return operation.output"
   ]
  },
  {
   "cell_type": "code",
   "execution_count": 46,
   "metadata": {
    "ExecuteTime": {
     "end_time": "2018-10-24T06:10:26.389780Z",
     "start_time": "2018-10-24T06:10:26.387110Z"
    }
   },
   "outputs": [],
   "source": [
    "sess = Session()\n",
    "result = sess.run(operation = z,feed_dict = {x:15})"
   ]
  },
  {
   "cell_type": "code",
   "execution_count": 47,
   "metadata": {
    "ExecuteTime": {
     "end_time": "2018-10-24T06:10:26.652277Z",
     "start_time": "2018-10-24T06:10:26.641909Z"
    }
   },
   "outputs": [
    {
     "data": {
      "text/plain": [
       "151"
      ]
     },
     "execution_count": 47,
     "metadata": {},
     "output_type": "execute_result"
    }
   ],
   "source": [
    "result"
   ]
  },
  {
   "cell_type": "code",
   "execution_count": 48,
   "metadata": {
    "ExecuteTime": {
     "end_time": "2018-10-24T06:12:55.307757Z",
     "start_time": "2018-10-24T06:12:55.304678Z"
    }
   },
   "outputs": [],
   "source": [
    "g = Graph()\n",
    "g.set_as_default()\n",
    "\n",
    "A = Variable([[10,20],[30,40]])\n",
    "b = Variable([1,2])\n",
    "\n",
    "x = Placeholder()\n",
    "\n",
    "y = matmul(A,x)\n",
    "z = add(y,b)"
   ]
  },
  {
   "cell_type": "code",
   "execution_count": 51,
   "metadata": {
    "ExecuteTime": {
     "end_time": "2018-10-24T06:14:04.702446Z",
     "start_time": "2018-10-24T06:14:04.691016Z"
    }
   },
   "outputs": [],
   "source": [
    "sess = Session()\n",
    "result = sess.run(operation = z,feed_dict = {x:15})"
   ]
  },
  {
   "cell_type": "code",
   "execution_count": 52,
   "metadata": {
    "ExecuteTime": {
     "end_time": "2018-10-24T06:14:10.056824Z",
     "start_time": "2018-10-24T06:14:10.050247Z"
    }
   },
   "outputs": [
    {
     "data": {
      "text/plain": [
       "array([[151, 302],\n",
       "       [451, 602]])"
      ]
     },
     "execution_count": 52,
     "metadata": {},
     "output_type": "execute_result"
    }
   ],
   "source": [
    "result"
   ]
  },
  {
   "cell_type": "markdown",
   "metadata": {},
   "source": [
    "## Classification"
   ]
  },
  {
   "cell_type": "markdown",
   "metadata": {},
   "source": [
    "### Activation Function"
   ]
  },
  {
   "cell_type": "code",
   "execution_count": 58,
   "metadata": {
    "ExecuteTime": {
     "end_time": "2018-10-24T06:19:34.718470Z",
     "start_time": "2018-10-24T06:19:34.713465Z"
    }
   },
   "outputs": [],
   "source": [
    "\n",
    "import matplotlib.pyplot as plt\n",
    "%matplotlib inline"
   ]
  },
  {
   "cell_type": "code",
   "execution_count": 55,
   "metadata": {
    "ExecuteTime": {
     "end_time": "2018-10-24T06:18:01.278335Z",
     "start_time": "2018-10-24T06:18:01.275728Z"
    }
   },
   "outputs": [],
   "source": [
    "def sigmoid(z):\n",
    "    return 1 / (1 + np.exp(-z))"
   ]
  },
  {
   "cell_type": "code",
   "execution_count": 56,
   "metadata": {
    "ExecuteTime": {
     "end_time": "2018-10-24T06:19:04.080971Z",
     "start_time": "2018-10-24T06:19:04.077838Z"
    }
   },
   "outputs": [],
   "source": [
    "sample_x = np.linspace(-10,10,100)\n",
    "sample_y = sigmoid(sample_x)"
   ]
  },
  {
   "cell_type": "code",
   "execution_count": 59,
   "metadata": {
    "ExecuteTime": {
     "end_time": "2018-10-24T06:19:37.153405Z",
     "start_time": "2018-10-24T06:19:36.998852Z"
    }
   },
   "outputs": [
    {
     "data": {
      "text/plain": [
       "[<matplotlib.lines.Line2D at 0x7f2e78e59b38>]"
      ]
     },
     "execution_count": 59,
     "metadata": {},
     "output_type": "execute_result"
    },
    {
     "data": {
      "image/png": "[encoded data removed]",
      "text/plain": [
       "<matplotlib.figure.Figure at 0x7f2e7ae83b70>"
      ]
     },
     "metadata": {},
     "output_type": "display_data"
    }
   ],
   "source": [
    "plt.plot(sample_x,sample_y)"
   ]
  },
  {
   "cell_type": "code",
   "execution_count": 95,
   "metadata": {
    "ExecuteTime": {
     "end_time": "2018-10-24T06:46:55.684517Z",
     "start_time": "2018-10-24T06:46:55.679590Z"
    }
   },
   "outputs": [],
   "source": [
    "class Sigmoid(Operation):\n",
    "    \n",
    "    def __init__(self,z):\n",
    "        super().__init__([z])\n",
    "    \n",
    "    def compute(self,z_val):\n",
    "        return 1 / (1 + np.exp(-z_val))"
   ]
  },
  {
   "cell_type": "code",
   "execution_count": 77,
   "metadata": {
    "ExecuteTime": {
     "end_time": "2018-10-24T06:29:52.032480Z",
     "start_time": "2018-10-24T06:29:52.030135Z"
    }
   },
   "outputs": [],
   "source": [
    "from sklearn.datasets import make_blobs"
   ]
  },
  {
   "cell_type": "code",
   "execution_count": 78,
   "metadata": {
    "ExecuteTime": {
     "end_time": "2018-10-24T06:29:52.503668Z",
     "start_time": "2018-10-24T06:29:52.497144Z"
    }
   },
   "outputs": [],
   "source": [
    "data = make_blobs(n_samples=50,n_features=2,centers=2,random_state=75)"
   ]
  },
  {
   "cell_type": "code",
   "execution_count": 79,
   "metadata": {
    "ExecuteTime": {
     "end_time": "2018-10-24T06:29:52.867726Z",
     "start_time": "2018-10-24T06:29:52.859126Z"
    }
   },
   "outputs": [],
   "source": [
    "features = data[0]\n",
    "labels = data[1]"
   ]
  },
  {
   "cell_type": "code",
   "execution_count": 80,
   "metadata": {
    "ExecuteTime": {
     "end_time": "2018-10-24T06:29:53.198688Z",
     "start_time": "2018-10-24T06:29:53.192731Z"
    }
   },
   "outputs": [],
   "source": [
    "cols = {0:'r',1:\"b\"}"
   ]
  },
  {
   "cell_type": "code",
   "execution_count": 83,
   "metadata": {
    "ExecuteTime": {
     "end_time": "2018-10-24T06:30:30.056854Z",
     "start_time": "2018-10-24T06:30:29.955070Z"
    }
   },
   "outputs": [
    {
     "data": {
      "text/plain": [
       "<matplotlib.collections.PathCollection at 0x7f2e5b185c88>"
      ]
     },
     "execution_count": 83,
     "metadata": {},
     "output_type": "execute_result"
    },
    {
     "data": {
      "image/png": "[encoded data removed]",
      "text/plain": [
       "<matplotlib.figure.Figure at 0x7f2e5b1c00b8>"
      ]
     },
     "metadata": {},
     "output_type": "display_data"
    }
   ],
   "source": [
    "plt.scatter(features[:,0],features[:,1],c=labels,cmap='coolwarm')"
   ]
  },
  {
   "cell_type": "markdown",
   "metadata": {},
   "source": [
    "#### y = mx+b"
   ]
  },
  {
   "cell_type": "code",
   "execution_count": 86,
   "metadata": {
    "ExecuteTime": {
     "end_time": "2018-10-24T06:34:32.318666Z",
     "start_time": "2018-10-24T06:34:32.213292Z"
    }
   },
   "outputs": [
    {
     "data": {
      "text/plain": [
       "[<matplotlib.lines.Line2D at 0x7f2e5b50a080>]"
      ]
     },
     "execution_count": 86,
     "metadata": {},
     "output_type": "execute_result"
    },
    {
     "data": {
      "image/png": "[encoded data removed]",
      "text/plain": [
       "<matplotlib.figure.Figure at 0x7f2e5b50a668>"
      ]
     },
     "metadata": {},
     "output_type": "display_data"
    }
   ],
   "source": [
    "x = np.linspace(0,11,10)\n",
    "y = -x +5\n",
    "#y+x-5 = 0\n",
    "plt.scatter(features[:,0],features[:,1],c=labels,cmap='coolwarm',alpha=0.5)\n",
    "plt.plot(x,y)"
   ]
  },
  {
   "cell_type": "markdown",
   "metadata": {},
   "source": [
    "### (1,1) * f - 5 = 0\n",
    "w*x+b"
   ]
  },
  {
   "cell_type": "code",
   "execution_count": 88,
   "metadata": {
    "ExecuteTime": {
     "end_time": "2018-10-24T06:37:56.571408Z",
     "start_time": "2018-10-24T06:37:56.567724Z"
    }
   },
   "outputs": [
    {
     "data": {
      "text/plain": [
       "array([13])"
      ]
     },
     "execution_count": 88,
     "metadata": {},
     "output_type": "execute_result"
    }
   ],
   "source": [
    "np.array([1,1]).dot(np.array([[8],[10]])) - 5"
   ]
  },
  {
   "cell_type": "code",
   "execution_count": 89,
   "metadata": {
    "ExecuteTime": {
     "end_time": "2018-10-24T06:38:20.514069Z",
     "start_time": "2018-10-24T06:38:20.510348Z"
    }
   },
   "outputs": [
    {
     "data": {
      "text/plain": [
       "array([-13])"
      ]
     },
     "execution_count": 89,
     "metadata": {},
     "output_type": "execute_result"
    }
   ],
   "source": [
    "np.array([1,1]).dot(np.array([[2],[-10]])) - 5"
   ]
  },
  {
   "cell_type": "code",
   "execution_count": 96,
   "metadata": {
    "ExecuteTime": {
     "end_time": "2018-10-24T06:47:02.235328Z",
     "start_time": "2018-10-24T06:47:02.229332Z"
    }
   },
   "outputs": [],
   "source": [
    "g = Graph()\n",
    "g.set_as_default()"
   ]
  },
  {
   "cell_type": "code",
   "execution_count": 97,
   "metadata": {
    "ExecuteTime": {
     "end_time": "2018-10-24T06:47:02.586456Z",
     "start_time": "2018-10-24T06:47:02.576681Z"
    }
   },
   "outputs": [],
   "source": [
    "x = Placeholder()\n",
    "w = Variable([1,1])\n",
    "b = Variable(-5)\n",
    "z = add(matmul(w,x),b)\n",
    "a = Sigmoid(z)"
   ]
  },
  {
   "cell_type": "code",
   "execution_count": 98,
   "metadata": {
    "ExecuteTime": {
     "end_time": "2018-10-24T06:47:03.045296Z",
     "start_time": "2018-10-24T06:47:03.033808Z"
    }
   },
   "outputs": [
    {
     "data": {
      "text/plain": [
       "0.999997739675702"
      ]
     },
     "execution_count": 98,
     "metadata": {},
     "output_type": "execute_result"
    }
   ],
   "source": [
    "sess = Session()\n",
    "sess.run(operation = a,feed_dict = {x:[8,10]})"
   ]
  },
  {
   "cell_type": "code",
   "execution_count": 99,
   "metadata": {
    "ExecuteTime": {
     "end_time": "2018-10-24T06:47:30.650935Z",
     "start_time": "2018-10-24T06:47:30.637500Z"
    }
   },
   "outputs": [
    {
     "data": {
      "text/plain": [
       "3.059022269256247e-07"
      ]
     },
     "execution_count": 99,
     "metadata": {},
     "output_type": "execute_result"
    }
   ],
   "source": [
    "\n",
    "sess.run(operation = a,feed_dict = {x:[0,-10]})"
   ]
  },
  {
   "cell_type": "code",
   "execution_count": null,
   "metadata": {},
   "outputs": [],
   "source": []
  }
 ],
 "metadata": {
  "kernelspec": {
   "display_name": "Python 3",
   "language": "python",
   "name": "python3"
  },
  "language_info": {
   "codemirror_mode": {
    "name": "ipython",
    "version": 3
   },
   "file_extension": ".py",
   "mimetype": "text/x-python",
   "name": "python",
   "nbconvert_exporter": "python",
   "pygments_lexer": "ipython3",
   "version": "3.5.2"
  }
 },
 "nbformat": 4,
 "nbformat_minor": 2
}
